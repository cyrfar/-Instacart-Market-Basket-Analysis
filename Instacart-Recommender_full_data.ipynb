{
 "cells": [
  {
   "cell_type": "code",
   "execution_count": 1,
   "metadata": {
    "scrolled": true
   },
   "outputs": [
    {
     "name": "stderr",
     "output_type": "stream",
     "text": [
      "Using TensorFlow backend.\n"
     ]
    }
   ],
   "source": [
    "from __future__ import division, print_function\n",
    "%matplotlib inline\n",
    "from utils import *\n",
    "from keras.layers.merge import dot, add, concatenate\n",
    "from pandas_summary import DataFrameSummary\n",
    "import seaborn as sns\n",
    "import sys\n",
    "import warnings\n",
    "warnings.filterwarnings(\"ignore\", category=DeprecationWarning) "
   ]
  },
  {
   "cell_type": "markdown",
   "metadata": {},
   "source": [
    "# StuffMyFridge: A Grocery Product Recommender"
   ]
  },
  {
   "cell_type": "markdown",
   "metadata": {},
   "source": [
    "The goal of this notebook is to build a grocery product recommendation system for users of the Instacart app. Instacart is a company that deliveres groceries from local stores. We will use “The Instacart Online Grocery Shopping Dataset 2017”, which can be found in https://www.instacart.com/datasets/grocery-shopping-2017."
   ]
  },
  {
   "cell_type": "markdown",
   "metadata": {},
   "source": [
    "Here is the data description: "
   ]
  },
  {
   "cell_type": "markdown",
   "metadata": {},
   "source": [
    "`orders` (3.4m rows, 206k users, 109 MB):\n",
    "* `order_id`: order identifier\n",
    "* `user_id`: customer identifier\n",
    "* `eval_set`: which evaluation set this order belongs in (see `SET` described below)\n",
    "* `order_number`: the order sequence number for this user (1 = first, n = nth)\n",
    "* `order_dow`: the day of the week the order was placed on\n",
    "* `order_hour_of_day`: the hour of the day the order was placed on\n",
    "* `days_since_prior`: days since the last order, capped at 30 (with NAs for `order_number` = 1)\n",
    "\n",
    "`products` (50k rows, 2.2 MB):\n",
    "* `product_id`: product identifier\n",
    "* `product_name`: name of the product\n",
    "* `aisle_id`: foreign key\n",
    "* `department_id`: foreign key\n",
    "\n",
    "`aisles` (134 rows, 2.6 kB):\n",
    "* `aisle_id`: aisle identifier\n",
    "* `aisle`: the name of the aisle\n",
    "\n",
    "`departments` (21 rows, 270 bytes):\n",
    "* `department_id`: department identifier\n",
    "* `department`: the name of the department\n",
    "\n",
    "`order_products__SET` (30m+ rows):\n",
    "* `order_id`: foreign key\n",
    "* `product_id`: foreign key\n",
    "* `add_to_cart_order`: order in which each product was added to cart\n",
    "* `reordered`: 1 if this product has been ordered by this user in the past, 0 otherwise\n",
    "\n",
    "where `SET` is one of the four following evaluation sets (`eval_set` in `orders`):\n",
    "* `\"prior\"`: orders prior to that users most recent order (~3.2m orders, 577.6 MB)\n",
    "* `\"train\"`: training data supplied to participants (~131k orders, 24.7 Mb)"
   ]
  },
  {
   "cell_type": "markdown",
   "metadata": {},
   "source": [
    "## Set up data"
   ]
  },
  {
   "cell_type": "markdown",
   "metadata": {},
   "source": [
    "Read data:"
   ]
  },
  {
   "cell_type": "code",
   "execution_count": 2,
   "metadata": {
    "collapsed": true,
    "scrolled": true
   },
   "outputs": [],
   "source": [
    "order_products_prior_df =  pd.read_csv('data/order_products__prior.csv', engine='c',  \n",
    "                                       dtype={'order_id': np.int32, 'product_id': np.int32,\n",
    "                                              'add_to_cart_order': np.int16, 'reordered': np.int8})\n",
    "\n",
    "order_products_train_df = pd.read_csv('data/order_products__train.csv', engine='c',  \n",
    "                                      dtype={'order_id': np.int32, 'product_id': np.int32, \n",
    "                                      'add_to_cart_order': np.int16, 'reordered': np.int8})\n",
    "\n",
    "orders_df = pd.read_csv('data/orders.csv', engine='c', \n",
    "                        dtype={'order_id': np.int32, 'user_id': np.int32, 'order_number': np.int32,\n",
    "                       'order_dow': np.int8, 'order_hour_of_day': np.int8, 'days_since_prior_order': np.float16})\n",
    "\n",
    "products_df = pd.read_csv(\"data/products.csv\", engine='c')\n",
    "\n",
    "aisles_df = pd.read_csv(\"data/aisles.csv\", engine='c')\n",
    "\n",
    "departments_df = pd.read_csv(\"data/departments.csv\", engine='c')"
   ]
  },
  {
   "cell_type": "markdown",
   "metadata": {},
   "source": [
    "Define dicts to go from ids to names and vice-versa"
   ]
  },
  {
   "cell_type": "code",
   "execution_count": 3,
   "metadata": {
    "collapsed": true
   },
   "outputs": [],
   "source": [
    "aisles_id2name = pd.Series(aisles_df.aisle.values, index=aisles_df.aisle_id).to_dict()\n",
    "prodid2aisle = pd.Series(products_df.aisle_id.values, index=products_df.product_id).to_dict()"
   ]
  },
  {
   "cell_type": "markdown",
   "metadata": {},
   "source": [
    "Useful info about dataset:"
   ]
  },
  {
   "cell_type": "code",
   "execution_count": 4,
   "metadata": {},
   "outputs": [
    {
     "name": "stdout",
     "output_type": "stream",
     "text": [
      "Total number of products: 49677\n",
      "Total number of users: 206209\n",
      "Total number of orders placed: 3421083\n",
      "Total number of products ordered: 32434489\n",
      "Average number of products per order: 9\n",
      "Number of products per aisle (top 10):\n"
     ]
    },
    {
     "data": {
      "image/png": "[encoded data removed]",
      "text/plain": [
       "<matplotlib.figure.Figure at 0x7f922f65c198>"
      ]
     },
     "metadata": {},
     "output_type": "display_data"
    }
   ],
   "source": [
    "print('Total number of products: {}'.format(order_products_prior_df.product_id.unique().shape[0]))\n",
    "print('Total number of users: {}'.format(orders_df.user_id.unique().shape[0]))\n",
    "print('Total number of orders placed: {}'.format(orders_df.shape[0]))\n",
    "print('Total number of products ordered: {}'.format(order_products_prior_df.shape[0]))\n",
    "print('Average number of products per order: {}'.format(round(order_products_prior_df.shape[0]/orders_df.shape[0])))\n",
    "\n",
    "prod_aisle_dist = products_df.groupby('aisle_id')['product_name'].count().sort_values(ascending=False)\n",
    "num_prods_per_aisle_sorted = list(zip(map(aisles_id2name.get, prod_aisle_dist.index), prod_aisle_dist.values ))\n",
    "print('Number of products per aisle (top 10):')\n",
    "dic = OrderedDict({x:y for x,y in num_prods_per_aisle_sorted[:10]})\n",
    "\n",
    "X = np.arange(len(dic))\n",
    "plt.bar(X, dic.values(), align='center', width=0.5)\n",
    "plt.xticks(X, dic.keys(), rotation = 90)\n",
    "ymax = max(dic.values()) + 100\n",
    "plt.ylim(0, ymax)\n",
    "plt.title('Number of products per aisle (top 10)')\n",
    "plt.show()"
   ]
  },
  {
   "cell_type": "markdown",
   "metadata": {},
   "source": [
    "Collect order and product info for each user and merge into a data frame df"
   ]
  },
  {
   "cell_type": "code",
   "execution_count": 5,
   "metadata": {
    "collapsed": true
   },
   "outputs": [],
   "source": [
    "df_train = orders_df.merge(order_products_train_df, how = 'inner', on = 'order_id')\n",
    "df_train = df_train.merge(products_df, how = 'inner', on = 'product_id')\n",
    "df_train.sort_values(['user_id', 'order_number'], axis=0, inplace=True)"
   ]
  },
  {
   "cell_type": "code",
   "execution_count": 6,
   "metadata": {
    "collapsed": true
   },
   "outputs": [],
   "source": [
    "df_prior = orders_df.merge(order_products_prior_df, how = 'inner', on = 'order_id')\n",
    "df_prior = df_prior.merge(products_df, how = 'inner', on = 'product_id')\n",
    "df_prior.sort_values(['user_id', 'order_number'], axis=0, inplace=True)"
   ]
  },
  {
   "cell_type": "code",
   "execution_count": 7,
   "metadata": {
    "collapsed": true
   },
   "outputs": [],
   "source": [
    "df = pd.concat([df_prior, df_train])"
   ]
  },
  {
   "cell_type": "code",
   "execution_count": 8,
   "metadata": {
    "collapsed": true
   },
   "outputs": [],
   "source": [
    "#fillna\n",
    "df.fillna(0,axis=0, inplace=True)\n",
    "df.drop('eval_set', axis=1, inplace = True)\n",
    "df.reset_index(drop = True, inplace = True)\n",
    "del df_train, df_prior"
   ]
  },
  {
   "cell_type": "code",
   "execution_count": 9,
   "metadata": {
    "collapsed": true
   },
   "outputs": [],
   "source": [
    "#sample=int(1e7)\n",
    "#df = df.iloc[:sample]"
   ]
  },
  {
   "cell_type": "code",
   "execution_count": 9,
   "metadata": {},
   "outputs": [
    {
     "data": {
      "text/html": [
       "<div>\n",
       "<style>\n",
       "    .dataframe thead tr:only-child th {\n",
       "        text-align: right;\n",
       "    }\n",
       "\n",
       "    .dataframe thead th {\n",
       "        text-align: left;\n",
       "    }\n",
       "\n",
       "    .dataframe tbody tr th {\n",
       "        vertical-align: top;\n",
       "    }\n",
       "</style>\n",
       "<table border=\"1\" class=\"dataframe\">\n",
       "  <thead>\n",
       "    <tr style=\"text-align: right;\">\n",
       "      <th></th>\n",
       "      <th>order_id</th>\n",
       "      <th>user_id</th>\n",
       "      <th>order_number</th>\n",
       "      <th>order_dow</th>\n",
       "      <th>order_hour_of_day</th>\n",
       "      <th>days_since_prior_order</th>\n",
       "      <th>product_id</th>\n",
       "      <th>add_to_cart_order</th>\n",
       "      <th>reordered</th>\n",
       "      <th>product_name</th>\n",
       "      <th>aisle_id</th>\n",
       "      <th>department_id</th>\n",
       "    </tr>\n",
       "  </thead>\n",
       "  <tbody>\n",
       "    <tr>\n",
       "      <th>0</th>\n",
       "      <td>2539329</td>\n",
       "      <td>1</td>\n",
       "      <td>1</td>\n",
       "      <td>2</td>\n",
       "      <td>8</td>\n",
       "      <td>0.0</td>\n",
       "      <td>196</td>\n",
       "      <td>1</td>\n",
       "      <td>0</td>\n",
       "      <td>Soda</td>\n",
       "      <td>77</td>\n",
       "      <td>7</td>\n",
       "    </tr>\n",
       "    <tr>\n",
       "      <th>1</th>\n",
       "      <td>2539329</td>\n",
       "      <td>1</td>\n",
       "      <td>1</td>\n",
       "      <td>2</td>\n",
       "      <td>8</td>\n",
       "      <td>0.0</td>\n",
       "      <td>14084</td>\n",
       "      <td>2</td>\n",
       "      <td>0</td>\n",
       "      <td>Organic Unsweetened Vanilla Almond Milk</td>\n",
       "      <td>91</td>\n",
       "      <td>16</td>\n",
       "    </tr>\n",
       "    <tr>\n",
       "      <th>2</th>\n",
       "      <td>2539329</td>\n",
       "      <td>1</td>\n",
       "      <td>1</td>\n",
       "      <td>2</td>\n",
       "      <td>8</td>\n",
       "      <td>0.0</td>\n",
       "      <td>12427</td>\n",
       "      <td>3</td>\n",
       "      <td>0</td>\n",
       "      <td>Original Beef Jerky</td>\n",
       "      <td>23</td>\n",
       "      <td>19</td>\n",
       "    </tr>\n",
       "  </tbody>\n",
       "</table>\n",
       "</div>"
      ],
      "text/plain": [
       "   order_id  user_id  order_number  order_dow  order_hour_of_day  \\\n",
       "0   2539329        1             1          2                  8   \n",
       "1   2539329        1             1          2                  8   \n",
       "2   2539329        1             1          2                  8   \n",
       "\n",
       "   days_since_prior_order  product_id  add_to_cart_order  reordered  \\\n",
       "0                     0.0         196                  1          0   \n",
       "1                     0.0       14084                  2          0   \n",
       "2                     0.0       12427                  3          0   \n",
       "\n",
       "                              product_name  aisle_id  department_id  \n",
       "0                                     Soda        77              7  \n",
       "1  Organic Unsweetened Vanilla Almond Milk        91             16  \n",
       "2                      Original Beef Jerky        23             19  "
      ]
     },
     "execution_count": 9,
     "metadata": {},
     "output_type": "execute_result"
    }
   ],
   "source": [
    "df.head(3)"
   ]
  },
  {
   "cell_type": "markdown",
   "metadata": {},
   "source": [
    "## Product Rating per User"
   ]
  },
  {
   "cell_type": "markdown",
   "metadata": {},
   "source": [
    "Users did not rate products but we can figure how often a user bought a given product and then use this as a proxy for a rating score. "
   ]
  },
  {
   "cell_type": "code",
   "execution_count": 11,
   "metadata": {
    "collapsed": true
   },
   "outputs": [],
   "source": [
    "#drop the products that were never 'reodered'\n",
    "#df = df[df['reordered']!=0]"
   ]
  },
  {
   "cell_type": "code",
   "execution_count": 11,
   "metadata": {
    "collapsed": true
   },
   "outputs": [],
   "source": [
    "#group by user_id and order_number (this takes ~4 minutes to run locally on the entire data set).\n",
    "#X = df.groupby(['user_id', 'order_number'])['product_id'].apply(lambda x : list(x)).reset_index()\n",
    "#X.columns = ['user_id', 'order_number', 'product_list']"
   ]
  },
  {
   "cell_type": "code",
   "execution_count": 12,
   "metadata": {
    "collapsed": true
   },
   "outputs": [],
   "source": [
    "#now group by user_id \n",
    "#X_users =X.groupby('user_id')['product_list'].apply(lambda x : list(x)).reset_index()\n",
    "#X_users['num_orders_per_user'] = X_users.product_list.map(len)\n",
    "#X_users['ave_num_prods_per_order'] = X_users.product_list.map(lambda L: [len(x) for x in L]).map(np.mean).map(round)\n",
    "#X_users.set_index('user_id',inplace = True)"
   ]
  },
  {
   "cell_type": "markdown",
   "metadata": {},
   "source": [
    "Update product and user ids so that they are contiguous integers, which we want when using embeddings."
   ]
  },
  {
   "cell_type": "code",
   "execution_count": 10,
   "metadata": {
    "collapsed": true
   },
   "outputs": [],
   "source": [
    "g=df.groupby(['user_id','product_name','product_id'])\n",
    "\n",
    "#create prod_rating df and add a product_count feature (i.e. how many times has the user reordered the product)\n",
    "prod_ratings = g['reordered'].count().reset_index()\n",
    "prod_ratings.columns = ['user_id', 'product_name', 'product_id', 'product_count']"
   ]
  },
  {
   "cell_type": "code",
   "execution_count": 11,
   "metadata": {
    "collapsed": true
   },
   "outputs": [],
   "source": [
    "users = prod_ratings.user_id.unique()\n",
    "prods = prod_ratings.product_id.unique()\n",
    "\n",
    "userid2idx = {o:i for i,o in enumerate(users)}\n",
    "prodid2idx = {o:i for i,o in enumerate(prods)}\n",
    "\n",
    "prod_ratings.product_id = prod_ratings.product_id.apply(lambda x: prodid2idx[x])\n",
    "prod_ratings.user_id = prod_ratings.user_id.apply(lambda x: userid2idx[x])"
   ]
  },
  {
   "cell_type": "code",
   "execution_count": 13,
   "metadata": {},
   "outputs": [
    {
     "name": "stdout",
     "output_type": "stream",
     "text": [
      "206209 49685\n"
     ]
    }
   ],
   "source": [
    "#number of users and products in sample\n",
    "n_users = prod_ratings.user_id.nunique()\n",
    "n_prods = prod_ratings.product_id.nunique()\n",
    "print(n_users, n_prods)"
   ]
  },
  {
   "cell_type": "markdown",
   "metadata": {},
   "source": [
    "Here is a function that plots the product count distribution for a given user (top 10)"
   ]
  },
  {
   "cell_type": "code",
   "execution_count": 14,
   "metadata": {
    "collapsed": true,
    "scrolled": true
   },
   "outputs": [],
   "source": [
    "def product_dist(u_id):\n",
    "    '''Plot the product count distribution for a given user (top 10)'''\n",
    "    user_data = prod_ratings[prod_ratings.user_id==u_id]\n",
    "    sorted_tuple = sorted(zip(user_data.product_name, user_data.product_count), key =itemgetter(1), reverse = True)\n",
    "    user_dict = OrderedDict(sorted_tuple[:10])\n",
    "    x = np.arange(len(user_dict))\n",
    "    plt.bar(x, user_dict.values(), align='center', width=0.5)\n",
    "    plt.xticks(x, user_dict.keys(), rotation = 90)\n",
    "    ymax = max(user_dict.values()) + 1\n",
    "    plt.ylim(0, ymax)\n",
    "    plt.title('Product count distribution for user 0 (top 10 only)')\n",
    "    plt.show()"
   ]
  },
  {
   "cell_type": "code",
   "execution_count": 16,
   "metadata": {},
   "outputs": [
    {
     "data": {
      "image/png": "[encoded data removed]",
      "text/plain": [
       "<matplotlib.figure.Figure at 0x7faeea454908>"
      ]
     },
     "metadata": {},
     "output_type": "display_data"
    },
    {
     "data": {
      "text/html": [
       "<div>\n",
       "<style>\n",
       "    .dataframe thead tr:only-child th {\n",
       "        text-align: right;\n",
       "    }\n",
       "\n",
       "    .dataframe thead th {\n",
       "        text-align: left;\n",
       "    }\n",
       "\n",
       "    .dataframe tbody tr th {\n",
       "        vertical-align: top;\n",
       "    }\n",
       "</style>\n",
       "<table border=\"1\" class=\"dataframe\">\n",
       "  <thead>\n",
       "    <tr style=\"text-align: right;\">\n",
       "      <th></th>\n",
       "      <th>user_id</th>\n",
       "      <th>product_name</th>\n",
       "      <th>product_id</th>\n",
       "      <th>product_count</th>\n",
       "    </tr>\n",
       "  </thead>\n",
       "  <tbody>\n",
       "    <tr>\n",
       "      <th>0</th>\n",
       "      <td>0</td>\n",
       "      <td>0% Greek Strained Yogurt</td>\n",
       "      <td>0</td>\n",
       "      <td>1</td>\n",
       "    </tr>\n",
       "    <tr>\n",
       "      <th>1</th>\n",
       "      <td>0</td>\n",
       "      <td>Aged White Cheddar Popcorn</td>\n",
       "      <td>1</td>\n",
       "      <td>2</td>\n",
       "    </tr>\n",
       "    <tr>\n",
       "      <th>2</th>\n",
       "      <td>0</td>\n",
       "      <td>Bag of Organic Bananas</td>\n",
       "      <td>2</td>\n",
       "      <td>2</td>\n",
       "    </tr>\n",
       "    <tr>\n",
       "      <th>3</th>\n",
       "      <td>0</td>\n",
       "      <td>Bartlett Pears</td>\n",
       "      <td>3</td>\n",
       "      <td>1</td>\n",
       "    </tr>\n",
       "    <tr>\n",
       "      <th>4</th>\n",
       "      <td>0</td>\n",
       "      <td>Cinnamon Toast Crunch</td>\n",
       "      <td>4</td>\n",
       "      <td>3</td>\n",
       "    </tr>\n",
       "  </tbody>\n",
       "</table>\n",
       "</div>"
      ],
      "text/plain": [
       "   user_id                product_name  product_id  product_count\n",
       "0        0    0% Greek Strained Yogurt           0              1\n",
       "1        0  Aged White Cheddar Popcorn           1              2\n",
       "2        0      Bag of Organic Bananas           2              2\n",
       "3        0              Bartlett Pears           3              1\n",
       "4        0       Cinnamon Toast Crunch           4              3"
      ]
     },
     "execution_count": 16,
     "metadata": {},
     "output_type": "execute_result"
    }
   ],
   "source": [
    "product_dist(0)\n",
    "prod_ratings.head()"
   ]
  },
  {
   "cell_type": "markdown",
   "metadata": {},
   "source": [
    "Define star (1-5) and binary (0 or 1) rating and then apply them to the 'product_count' column  to get 'product_rating'."
   ]
  },
  {
   "cell_type": "code",
   "execution_count": 15,
   "metadata": {
    "collapsed": true
   },
   "outputs": [],
   "source": [
    "def round_rating(number):\n",
    "    \"round to the nearest half integer\"\n",
    "    return np.round(number*2)/2\n",
    "    \n",
    "def counts_to_range(counts):\n",
    "    '''Transforms user's product count to a given range (1, 5).'''\n",
    "    from sklearn.preprocessing import MinMaxScaler\n",
    "    scaler = MinMaxScaler(feature_range=(1, 5))\n",
    "    scaled = scaler.fit_transform(counts)    \n",
    "    return round_rating(scaled)\n",
    "\n",
    "def counts_to_binary(counts):\n",
    "    '''Transforms user's product count to a binary scale (1 if product was bought once or more, 0 otherwise).'''\n",
    "    return np.where(counts>0, 1, 0)\n",
    "\n",
    "#apply rating_func to each user and concatenate results'''\n",
    "#dfs = prod_ratings.groupby('user_id')['product_count'].apply(counts_to_range)\n",
    "#prod_ratings['product_score'] = np.concatenate(np.array(dfs))"
   ]
  },
  {
   "cell_type": "code",
   "execution_count": 16,
   "metadata": {},
   "outputs": [
    {
     "name": "stderr",
     "output_type": "stream",
     "text": [
      "/home/paperspace/anaconda3/lib/python3.6/site-packages/sklearn/utils/validation.py:429: DataConversionWarning: Data with input dtype int64 was converted to float64 by MinMaxScaler.\n",
      "  warnings.warn(msg, _DataConversionWarning)\n"
     ]
    },
    {
     "data": {
      "text/html": [
       "<div>\n",
       "<style>\n",
       "    .dataframe thead tr:only-child th {\n",
       "        text-align: right;\n",
       "    }\n",
       "\n",
       "    .dataframe thead th {\n",
       "        text-align: left;\n",
       "    }\n",
       "\n",
       "    .dataframe tbody tr th {\n",
       "        vertical-align: top;\n",
       "    }\n",
       "</style>\n",
       "<table border=\"1\" class=\"dataframe\">\n",
       "  <thead>\n",
       "    <tr style=\"text-align: right;\">\n",
       "      <th></th>\n",
       "      <th>user_id</th>\n",
       "      <th>product_name</th>\n",
       "      <th>product_id</th>\n",
       "      <th>product_count</th>\n",
       "      <th>product_score</th>\n",
       "    </tr>\n",
       "  </thead>\n",
       "  <tbody>\n",
       "    <tr>\n",
       "      <th>0</th>\n",
       "      <td>0</td>\n",
       "      <td>0% Greek Strained Yogurt</td>\n",
       "      <td>0</td>\n",
       "      <td>2</td>\n",
       "      <td>1.5</td>\n",
       "    </tr>\n",
       "    <tr>\n",
       "      <th>1</th>\n",
       "      <td>0</td>\n",
       "      <td>Aged White Cheddar Popcorn</td>\n",
       "      <td>1</td>\n",
       "      <td>3</td>\n",
       "      <td>2.0</td>\n",
       "    </tr>\n",
       "    <tr>\n",
       "      <th>2</th>\n",
       "      <td>0</td>\n",
       "      <td>Bag of Organic Bananas</td>\n",
       "      <td>2</td>\n",
       "      <td>2</td>\n",
       "      <td>1.5</td>\n",
       "    </tr>\n",
       "    <tr>\n",
       "      <th>3</th>\n",
       "      <td>0</td>\n",
       "      <td>Bartlett Pears</td>\n",
       "      <td>3</td>\n",
       "      <td>1</td>\n",
       "      <td>1.0</td>\n",
       "    </tr>\n",
       "    <tr>\n",
       "      <th>4</th>\n",
       "      <td>0</td>\n",
       "      <td>Cinnamon Toast Crunch</td>\n",
       "      <td>4</td>\n",
       "      <td>4</td>\n",
       "      <td>2.0</td>\n",
       "    </tr>\n",
       "  </tbody>\n",
       "</table>\n",
       "</div>"
      ],
      "text/plain": [
       "   user_id                product_name  product_id  product_count  \\\n",
       "0        0    0% Greek Strained Yogurt           0              2   \n",
       "1        0  Aged White Cheddar Popcorn           1              3   \n",
       "2        0      Bag of Organic Bananas           2              2   \n",
       "3        0              Bartlett Pears           3              1   \n",
       "4        0       Cinnamon Toast Crunch           4              4   \n",
       "\n",
       "   product_score  \n",
       "0            1.5  \n",
       "1            2.0  \n",
       "2            1.5  \n",
       "3            1.0  \n",
       "4            2.0  "
      ]
     },
     "execution_count": 16,
     "metadata": {},
     "output_type": "execute_result"
    }
   ],
   "source": [
    "from sklearn_pandas import DataFrameMapper\n",
    "from sklearn.preprocessing import MinMaxScaler\n",
    "\n",
    "mapper = DataFrameMapper([('product_count', MinMaxScaler())], df_out=True)\n",
    "\n",
    "#apply the mapper to each user and concatenate results\n",
    "dfs = [np.round(mapper.fit_transform(prod_ratings[prod_ratings.user_id==u].copy()), 1) for u in range(n_users)]  \n",
    "\n",
    "prod_ratings['product_score'] = pd.concat(dfs).reset_index(drop=True)*4 + 1\n",
    "prod_ratings['product_score'] = round_rating(prod_ratings['product_score'])\n",
    "prod_ratings.head()"
   ]
  },
  {
   "cell_type": "markdown",
   "metadata": {},
   "source": [
    "Let us create a crosstab from the top 10 users and the top 10 products"
   ]
  },
  {
   "cell_type": "code",
   "execution_count": 17,
   "metadata": {
    "collapsed": true
   },
   "outputs": [],
   "source": [
    "g=prod_ratings.groupby('user_id')['product_score'].count()\n",
    "topUsers=g.sort_values(ascending=False)[:10]\n",
    "\n",
    "g=prod_ratings.groupby('product_name')['product_score'].count()\n",
    "topProds=g.sort_values(ascending=False)[:10]\n",
    "\n",
    "top_r = prod_ratings.join(topUsers, rsuffix='_r', how='inner', on='user_id')\n",
    "top_r = top_r.join(topProds, rsuffix='_r', how='inner', on='product_name')"
   ]
  },
  {
   "cell_type": "code",
   "execution_count": 18,
   "metadata": {
    "scrolled": true
   },
   "outputs": [
    {
     "data": {
      "text/html": [
       "<div>\n",
       "<style>\n",
       "    .dataframe thead tr:only-child th {\n",
       "        text-align: right;\n",
       "    }\n",
       "\n",
       "    .dataframe thead th {\n",
       "        text-align: left;\n",
       "    }\n",
       "\n",
       "    .dataframe tbody tr th {\n",
       "        vertical-align: top;\n",
       "    }\n",
       "</style>\n",
       "<table border=\"1\" class=\"dataframe\">\n",
       "  <thead>\n",
       "    <tr style=\"text-align: right;\">\n",
       "      <th>product_name</th>\n",
       "      <th>Bag of Organic Bananas</th>\n",
       "      <th>Banana</th>\n",
       "      <th>Large Lemon</th>\n",
       "      <th>Limes</th>\n",
       "      <th>Organic Avocado</th>\n",
       "      <th>Organic Baby Spinach</th>\n",
       "      <th>Organic Blueberries</th>\n",
       "      <th>Organic Hass Avocado</th>\n",
       "      <th>Organic Strawberries</th>\n",
       "      <th>Strawberries</th>\n",
       "    </tr>\n",
       "    <tr>\n",
       "      <th>user_id</th>\n",
       "      <th></th>\n",
       "      <th></th>\n",
       "      <th></th>\n",
       "      <th></th>\n",
       "      <th></th>\n",
       "      <th></th>\n",
       "      <th></th>\n",
       "      <th></th>\n",
       "      <th></th>\n",
       "      <th></th>\n",
       "    </tr>\n",
       "  </thead>\n",
       "  <tbody>\n",
       "    <tr>\n",
       "      <th>15123</th>\n",
       "      <td>1.0</td>\n",
       "      <td>3.0</td>\n",
       "      <td>3.0</td>\n",
       "      <td>2.0</td>\n",
       "      <td>1.5</td>\n",
       "      <td>1.0</td>\n",
       "      <td>1.0</td>\n",
       "      <td>1.5</td>\n",
       "      <td>2.5</td>\n",
       "      <td>2.5</td>\n",
       "    </tr>\n",
       "    <tr>\n",
       "      <th>31309</th>\n",
       "      <td>NaN</td>\n",
       "      <td>2.0</td>\n",
       "      <td>5.0</td>\n",
       "      <td>2.5</td>\n",
       "      <td>NaN</td>\n",
       "      <td>NaN</td>\n",
       "      <td>NaN</td>\n",
       "      <td>NaN</td>\n",
       "      <td>NaN</td>\n",
       "      <td>2.0</td>\n",
       "    </tr>\n",
       "    <tr>\n",
       "      <th>75303</th>\n",
       "      <td>NaN</td>\n",
       "      <td>3.5</td>\n",
       "      <td>2.0</td>\n",
       "      <td>1.0</td>\n",
       "      <td>NaN</td>\n",
       "      <td>NaN</td>\n",
       "      <td>NaN</td>\n",
       "      <td>NaN</td>\n",
       "      <td>NaN</td>\n",
       "      <td>1.5</td>\n",
       "    </tr>\n",
       "    <tr>\n",
       "      <th>116570</th>\n",
       "      <td>NaN</td>\n",
       "      <td>4.0</td>\n",
       "      <td>NaN</td>\n",
       "      <td>NaN</td>\n",
       "      <td>NaN</td>\n",
       "      <td>2.0</td>\n",
       "      <td>1.0</td>\n",
       "      <td>NaN</td>\n",
       "      <td>NaN</td>\n",
       "      <td>4.0</td>\n",
       "    </tr>\n",
       "    <tr>\n",
       "      <th>143960</th>\n",
       "      <td>NaN</td>\n",
       "      <td>NaN</td>\n",
       "      <td>NaN</td>\n",
       "      <td>NaN</td>\n",
       "      <td>1.0</td>\n",
       "      <td>5.0</td>\n",
       "      <td>NaN</td>\n",
       "      <td>NaN</td>\n",
       "      <td>1.0</td>\n",
       "      <td>1.5</td>\n",
       "    </tr>\n",
       "    <tr>\n",
       "      <th>151993</th>\n",
       "      <td>1.0</td>\n",
       "      <td>2.0</td>\n",
       "      <td>4.5</td>\n",
       "      <td>2.0</td>\n",
       "      <td>NaN</td>\n",
       "      <td>NaN</td>\n",
       "      <td>1.0</td>\n",
       "      <td>2.0</td>\n",
       "      <td>1.0</td>\n",
       "      <td>2.0</td>\n",
       "    </tr>\n",
       "    <tr>\n",
       "      <th>152143</th>\n",
       "      <td>3.5</td>\n",
       "      <td>2.5</td>\n",
       "      <td>1.0</td>\n",
       "      <td>1.0</td>\n",
       "      <td>NaN</td>\n",
       "      <td>4.0</td>\n",
       "      <td>1.0</td>\n",
       "      <td>NaN</td>\n",
       "      <td>1.5</td>\n",
       "      <td>3.0</td>\n",
       "    </tr>\n",
       "    <tr>\n",
       "      <th>181208</th>\n",
       "      <td>NaN</td>\n",
       "      <td>NaN</td>\n",
       "      <td>NaN</td>\n",
       "      <td>NaN</td>\n",
       "      <td>NaN</td>\n",
       "      <td>NaN</td>\n",
       "      <td>NaN</td>\n",
       "      <td>NaN</td>\n",
       "      <td>2.0</td>\n",
       "      <td>2.0</td>\n",
       "    </tr>\n",
       "    <tr>\n",
       "      <th>182400</th>\n",
       "      <td>5.0</td>\n",
       "      <td>NaN</td>\n",
       "      <td>2.0</td>\n",
       "      <td>1.5</td>\n",
       "      <td>1.0</td>\n",
       "      <td>4.0</td>\n",
       "      <td>1.0</td>\n",
       "      <td>2.5</td>\n",
       "      <td>2.5</td>\n",
       "      <td>1.0</td>\n",
       "    </tr>\n",
       "    <tr>\n",
       "      <th>185079</th>\n",
       "      <td>4.0</td>\n",
       "      <td>2.0</td>\n",
       "      <td>2.0</td>\n",
       "      <td>1.0</td>\n",
       "      <td>NaN</td>\n",
       "      <td>NaN</td>\n",
       "      <td>NaN</td>\n",
       "      <td>NaN</td>\n",
       "      <td>NaN</td>\n",
       "      <td>NaN</td>\n",
       "    </tr>\n",
       "  </tbody>\n",
       "</table>\n",
       "</div>"
      ],
      "text/plain": [
       "product_name  Bag of Organic Bananas  Banana  Large Lemon  Limes  \\\n",
       "user_id                                                            \n",
       "15123                            1.0     3.0          3.0    2.0   \n",
       "31309                            NaN     2.0          5.0    2.5   \n",
       "75303                            NaN     3.5          2.0    1.0   \n",
       "116570                           NaN     4.0          NaN    NaN   \n",
       "143960                           NaN     NaN          NaN    NaN   \n",
       "151993                           1.0     2.0          4.5    2.0   \n",
       "152143                           3.5     2.5          1.0    1.0   \n",
       "181208                           NaN     NaN          NaN    NaN   \n",
       "182400                           5.0     NaN          2.0    1.5   \n",
       "185079                           4.0     2.0          2.0    1.0   \n",
       "\n",
       "product_name  Organic Avocado  Organic Baby Spinach  Organic Blueberries  \\\n",
       "user_id                                                                    \n",
       "15123                     1.5                   1.0                  1.0   \n",
       "31309                     NaN                   NaN                  NaN   \n",
       "75303                     NaN                   NaN                  NaN   \n",
       "116570                    NaN                   2.0                  1.0   \n",
       "143960                    1.0                   5.0                  NaN   \n",
       "151993                    NaN                   NaN                  1.0   \n",
       "152143                    NaN                   4.0                  1.0   \n",
       "181208                    NaN                   NaN                  NaN   \n",
       "182400                    1.0                   4.0                  1.0   \n",
       "185079                    NaN                   NaN                  NaN   \n",
       "\n",
       "product_name  Organic Hass Avocado  Organic Strawberries  Strawberries  \n",
       "user_id                                                                 \n",
       "15123                          1.5                   2.5           2.5  \n",
       "31309                          NaN                   NaN           2.0  \n",
       "75303                          NaN                   NaN           1.5  \n",
       "116570                         NaN                   NaN           4.0  \n",
       "143960                         NaN                   1.0           1.5  \n",
       "151993                         2.0                   1.0           2.0  \n",
       "152143                         NaN                   1.5           3.0  \n",
       "181208                         NaN                   2.0           2.0  \n",
       "182400                         2.5                   2.5           1.0  \n",
       "185079                         NaN                   NaN           NaN  "
      ]
     },
     "execution_count": 18,
     "metadata": {},
     "output_type": "execute_result"
    }
   ],
   "source": [
    "pd.crosstab(top_r.user_id, top_r.product_name, top_r.product_score, aggfunc=np.sum)"
   ]
  },
  {
   "cell_type": "markdown",
   "metadata": {},
   "source": [
    "Randomly split into training and validation."
   ]
  },
  {
   "cell_type": "code",
   "execution_count": 21,
   "metadata": {
    "collapsed": true
   },
   "outputs": [],
   "source": [
    "np.random.seed = 42\n",
    "msk = np.random.rand(len(prod_ratings)) < 0.9\n",
    "trn = prod_ratings[msk]\n",
    "val = prod_ratings[~msk]"
   ]
  },
  {
   "cell_type": "markdown",
   "metadata": {},
   "source": [
    "##  Simple dot product model using embeddings in Keras"
   ]
  },
  {
   "cell_type": "code",
   "execution_count": 22,
   "metadata": {
    "collapsed": true
   },
   "outputs": [],
   "source": [
    "def embedding_input(name, n_in, n_out, reg):\n",
    "    inp = Input(shape=(1,), dtype='int64', name=name)\n",
    "    return inp, Embedding(input_dim=n_in, output_dim=n_out, input_length=1, embeddings_regularizer=l2(reg))(inp)"
   ]
  },
  {
   "cell_type": "code",
   "execution_count": 23,
   "metadata": {
    "collapsed": true
   },
   "outputs": [],
   "source": [
    "#number of latent factors \n",
    "n_factors = 50\n",
    "\n",
    "#get embedding inputs\n",
    "user_in, u = embedding_input('user_in', n_users, n_factors, 1e-2)\n",
    "prod_in, p = embedding_input('prod_in', n_prods, n_factors, 1e-2)"
   ]
  },
  {
   "cell_type": "code",
   "execution_count": 24,
   "metadata": {
    "collapsed": true
   },
   "outputs": [],
   "source": [
    "def create_bias(inp, n_in):\n",
    "    x = Embedding(input_dim=n_in, output_dim=1, input_length=1)(inp)\n",
    "    return Flatten()(x)"
   ]
  },
  {
   "cell_type": "code",
   "execution_count": 25,
   "metadata": {
    "collapsed": true
   },
   "outputs": [],
   "source": [
    "ub = create_bias(user_in, n_users)\n",
    "pb = create_bias(prod_in, n_prods)"
   ]
  },
  {
   "cell_type": "code",
   "execution_count": 26,
   "metadata": {
    "collapsed": true
   },
   "outputs": [
    {
     "name": "stdout",
     "output_type": "stream",
     "text": [
      "Train on 326878 samples, validate on 81934 samples\n",
      "Epoch 1/4\n",
      "223744/326878 [===================>..........] - ETA: 59s - loss: 2.5612 - rmse: 1.1229"
     ]
    },
    {
     "ename": "KeyboardInterrupt",
     "evalue": "",
     "output_type": "error",
     "traceback": [
      "\u001b[0;31m---------------------------------------------------------------------------\u001b[0m",
      "\u001b[0;31mKeyboardInterrupt\u001b[0m                         Traceback (most recent call last)",
      "\u001b[0;32m<ipython-input-26-1d66ef4fc65f>\u001b[0m in \u001b[0;36m<module>\u001b[0;34m()\u001b[0m\n\u001b[1;32m     16\u001b[0m \u001b[0;34m\u001b[0m\u001b[0m\n\u001b[1;32m     17\u001b[0m history = model.fit([trn.user_id, trn.product_id], trn.product_score, batch_size=64, epochs=4, \n\u001b[0;32m---> 18\u001b[0;31m           validation_data=([val.user_id, val.product_id], val.product_score), callbacks=callbacks)\n\u001b[0m\u001b[1;32m     19\u001b[0m \u001b[0mplt\u001b[0m\u001b[0;34m.\u001b[0m\u001b[0mplot\u001b[0m\u001b[0;34m(\u001b[0m\u001b[0mhistory\u001b[0m\u001b[0;34m.\u001b[0m\u001b[0mhistory\u001b[0m\u001b[0;34m[\u001b[0m\u001b[0;34m'val_loss'\u001b[0m\u001b[0;34m]\u001b[0m\u001b[0;34m)\u001b[0m\u001b[0;34m\u001b[0m\u001b[0m\n",
      "\u001b[0;32m/home/cyrfar/anaconda3/lib/python3.6/site-packages/keras/engine/training.py\u001b[0m in \u001b[0;36mfit\u001b[0;34m(self, x, y, batch_size, epochs, verbose, callbacks, validation_split, validation_data, shuffle, class_weight, sample_weight, initial_epoch, **kwargs)\u001b[0m\n\u001b[1;32m   1483\u001b[0m                               \u001b[0mval_f\u001b[0m\u001b[0;34m=\u001b[0m\u001b[0mval_f\u001b[0m\u001b[0;34m,\u001b[0m \u001b[0mval_ins\u001b[0m\u001b[0;34m=\u001b[0m\u001b[0mval_ins\u001b[0m\u001b[0;34m,\u001b[0m \u001b[0mshuffle\u001b[0m\u001b[0;34m=\u001b[0m\u001b[0mshuffle\u001b[0m\u001b[0;34m,\u001b[0m\u001b[0;34m\u001b[0m\u001b[0m\n\u001b[1;32m   1484\u001b[0m                               \u001b[0mcallback_metrics\u001b[0m\u001b[0;34m=\u001b[0m\u001b[0mcallback_metrics\u001b[0m\u001b[0;34m,\u001b[0m\u001b[0;34m\u001b[0m\u001b[0m\n\u001b[0;32m-> 1485\u001b[0;31m                               initial_epoch=initial_epoch)\n\u001b[0m\u001b[1;32m   1486\u001b[0m \u001b[0;34m\u001b[0m\u001b[0m\n\u001b[1;32m   1487\u001b[0m     \u001b[0;32mdef\u001b[0m \u001b[0mevaluate\u001b[0m\u001b[0;34m(\u001b[0m\u001b[0mself\u001b[0m\u001b[0;34m,\u001b[0m \u001b[0mx\u001b[0m\u001b[0;34m,\u001b[0m \u001b[0my\u001b[0m\u001b[0;34m,\u001b[0m \u001b[0mbatch_size\u001b[0m\u001b[0;34m=\u001b[0m\u001b[0;36m32\u001b[0m\u001b[0;34m,\u001b[0m \u001b[0mverbose\u001b[0m\u001b[0;34m=\u001b[0m\u001b[0;36m1\u001b[0m\u001b[0;34m,\u001b[0m \u001b[0msample_weight\u001b[0m\u001b[0;34m=\u001b[0m\u001b[0;32mNone\u001b[0m\u001b[0;34m)\u001b[0m\u001b[0;34m:\u001b[0m\u001b[0;34m\u001b[0m\u001b[0m\n",
      "\u001b[0;32m/home/cyrfar/anaconda3/lib/python3.6/site-packages/keras/engine/training.py\u001b[0m in \u001b[0;36m_fit_loop\u001b[0;34m(self, f, ins, out_labels, batch_size, epochs, verbose, callbacks, val_f, val_ins, shuffle, callback_metrics, initial_epoch)\u001b[0m\n\u001b[1;32m   1138\u001b[0m                 \u001b[0mbatch_logs\u001b[0m\u001b[0;34m[\u001b[0m\u001b[0;34m'size'\u001b[0m\u001b[0;34m]\u001b[0m \u001b[0;34m=\u001b[0m \u001b[0mlen\u001b[0m\u001b[0;34m(\u001b[0m\u001b[0mbatch_ids\u001b[0m\u001b[0;34m)\u001b[0m\u001b[0;34m\u001b[0m\u001b[0m\n\u001b[1;32m   1139\u001b[0m                 \u001b[0mcallbacks\u001b[0m\u001b[0;34m.\u001b[0m\u001b[0mon_batch_begin\u001b[0m\u001b[0;34m(\u001b[0m\u001b[0mbatch_index\u001b[0m\u001b[0;34m,\u001b[0m \u001b[0mbatch_logs\u001b[0m\u001b[0;34m)\u001b[0m\u001b[0;34m\u001b[0m\u001b[0m\n\u001b[0;32m-> 1140\u001b[0;31m                 \u001b[0mouts\u001b[0m \u001b[0;34m=\u001b[0m \u001b[0mf\u001b[0m\u001b[0;34m(\u001b[0m\u001b[0mins_batch\u001b[0m\u001b[0;34m)\u001b[0m\u001b[0;34m\u001b[0m\u001b[0m\n\u001b[0m\u001b[1;32m   1141\u001b[0m                 \u001b[0;32mif\u001b[0m \u001b[0;32mnot\u001b[0m \u001b[0misinstance\u001b[0m\u001b[0;34m(\u001b[0m\u001b[0mouts\u001b[0m\u001b[0;34m,\u001b[0m \u001b[0mlist\u001b[0m\u001b[0;34m)\u001b[0m\u001b[0;34m:\u001b[0m\u001b[0;34m\u001b[0m\u001b[0m\n\u001b[1;32m   1142\u001b[0m                     \u001b[0mouts\u001b[0m \u001b[0;34m=\u001b[0m \u001b[0;34m[\u001b[0m\u001b[0mouts\u001b[0m\u001b[0;34m]\u001b[0m\u001b[0;34m\u001b[0m\u001b[0m\n",
      "\u001b[0;32m/home/cyrfar/anaconda3/lib/python3.6/site-packages/keras/backend/tensorflow_backend.py\u001b[0m in \u001b[0;36m__call__\u001b[0;34m(self, inputs)\u001b[0m\n\u001b[1;32m   2071\u001b[0m         \u001b[0msession\u001b[0m \u001b[0;34m=\u001b[0m \u001b[0mget_session\u001b[0m\u001b[0;34m(\u001b[0m\u001b[0;34m)\u001b[0m\u001b[0;34m\u001b[0m\u001b[0m\n\u001b[1;32m   2072\u001b[0m         updated = session.run(self.outputs + [self.updates_op],\n\u001b[0;32m-> 2073\u001b[0;31m                               feed_dict=feed_dict)\n\u001b[0m\u001b[1;32m   2074\u001b[0m         \u001b[0;32mreturn\u001b[0m \u001b[0mupdated\u001b[0m\u001b[0;34m[\u001b[0m\u001b[0;34m:\u001b[0m\u001b[0mlen\u001b[0m\u001b[0;34m(\u001b[0m\u001b[0mself\u001b[0m\u001b[0;34m.\u001b[0m\u001b[0moutputs\u001b[0m\u001b[0;34m)\u001b[0m\u001b[0;34m]\u001b[0m\u001b[0;34m\u001b[0m\u001b[0m\n\u001b[1;32m   2075\u001b[0m \u001b[0;34m\u001b[0m\u001b[0m\n",
      "\u001b[0;32m/home/cyrfar/anaconda3/lib/python3.6/site-packages/tensorflow/python/client/session.py\u001b[0m in \u001b[0;36mrun\u001b[0;34m(self, fetches, feed_dict, options, run_metadata)\u001b[0m\n\u001b[1;32m    776\u001b[0m     \u001b[0;32mtry\u001b[0m\u001b[0;34m:\u001b[0m\u001b[0;34m\u001b[0m\u001b[0m\n\u001b[1;32m    777\u001b[0m       result = self._run(None, fetches, feed_dict, options_ptr,\n\u001b[0;32m--> 778\u001b[0;31m                          run_metadata_ptr)\n\u001b[0m\u001b[1;32m    779\u001b[0m       \u001b[0;32mif\u001b[0m \u001b[0mrun_metadata\u001b[0m\u001b[0;34m:\u001b[0m\u001b[0;34m\u001b[0m\u001b[0m\n\u001b[1;32m    780\u001b[0m         \u001b[0mproto_data\u001b[0m \u001b[0;34m=\u001b[0m \u001b[0mtf_session\u001b[0m\u001b[0;34m.\u001b[0m\u001b[0mTF_GetBuffer\u001b[0m\u001b[0;34m(\u001b[0m\u001b[0mrun_metadata_ptr\u001b[0m\u001b[0;34m)\u001b[0m\u001b[0;34m\u001b[0m\u001b[0m\n",
      "\u001b[0;32m/home/cyrfar/anaconda3/lib/python3.6/site-packages/tensorflow/python/client/session.py\u001b[0m in \u001b[0;36m_run\u001b[0;34m(self, handle, fetches, feed_dict, options, run_metadata)\u001b[0m\n\u001b[1;32m    980\u001b[0m     \u001b[0;32mif\u001b[0m \u001b[0mfinal_fetches\u001b[0m \u001b[0;32mor\u001b[0m \u001b[0mfinal_targets\u001b[0m\u001b[0;34m:\u001b[0m\u001b[0;34m\u001b[0m\u001b[0m\n\u001b[1;32m    981\u001b[0m       results = self._do_run(handle, final_targets, final_fetches,\n\u001b[0;32m--> 982\u001b[0;31m                              feed_dict_string, options, run_metadata)\n\u001b[0m\u001b[1;32m    983\u001b[0m     \u001b[0;32melse\u001b[0m\u001b[0;34m:\u001b[0m\u001b[0;34m\u001b[0m\u001b[0m\n\u001b[1;32m    984\u001b[0m       \u001b[0mresults\u001b[0m \u001b[0;34m=\u001b[0m \u001b[0;34m[\u001b[0m\u001b[0;34m]\u001b[0m\u001b[0;34m\u001b[0m\u001b[0m\n",
      "\u001b[0;32m/home/cyrfar/anaconda3/lib/python3.6/site-packages/tensorflow/python/client/session.py\u001b[0m in \u001b[0;36m_do_run\u001b[0;34m(self, handle, target_list, fetch_list, feed_dict, options, run_metadata)\u001b[0m\n\u001b[1;32m   1030\u001b[0m     \u001b[0;32mif\u001b[0m \u001b[0mhandle\u001b[0m \u001b[0;32mis\u001b[0m \u001b[0;32mNone\u001b[0m\u001b[0;34m:\u001b[0m\u001b[0;34m\u001b[0m\u001b[0m\n\u001b[1;32m   1031\u001b[0m       return self._do_call(_run_fn, self._session, feed_dict, fetch_list,\n\u001b[0;32m-> 1032\u001b[0;31m                            target_list, options, run_metadata)\n\u001b[0m\u001b[1;32m   1033\u001b[0m     \u001b[0;32melse\u001b[0m\u001b[0;34m:\u001b[0m\u001b[0;34m\u001b[0m\u001b[0m\n\u001b[1;32m   1034\u001b[0m       return self._do_call(_prun_fn, self._session, handle, feed_dict,\n",
      "\u001b[0;32m/home/cyrfar/anaconda3/lib/python3.6/site-packages/tensorflow/python/client/session.py\u001b[0m in \u001b[0;36m_do_call\u001b[0;34m(self, fn, *args)\u001b[0m\n\u001b[1;32m   1037\u001b[0m   \u001b[0;32mdef\u001b[0m \u001b[0m_do_call\u001b[0m\u001b[0;34m(\u001b[0m\u001b[0mself\u001b[0m\u001b[0;34m,\u001b[0m \u001b[0mfn\u001b[0m\u001b[0;34m,\u001b[0m \u001b[0;34m*\u001b[0m\u001b[0margs\u001b[0m\u001b[0;34m)\u001b[0m\u001b[0;34m:\u001b[0m\u001b[0;34m\u001b[0m\u001b[0m\n\u001b[1;32m   1038\u001b[0m     \u001b[0;32mtry\u001b[0m\u001b[0;34m:\u001b[0m\u001b[0;34m\u001b[0m\u001b[0m\n\u001b[0;32m-> 1039\u001b[0;31m       \u001b[0;32mreturn\u001b[0m \u001b[0mfn\u001b[0m\u001b[0;34m(\u001b[0m\u001b[0;34m*\u001b[0m\u001b[0margs\u001b[0m\u001b[0;34m)\u001b[0m\u001b[0;34m\u001b[0m\u001b[0m\n\u001b[0m\u001b[1;32m   1040\u001b[0m     \u001b[0;32mexcept\u001b[0m \u001b[0merrors\u001b[0m\u001b[0;34m.\u001b[0m\u001b[0mOpError\u001b[0m \u001b[0;32mas\u001b[0m \u001b[0me\u001b[0m\u001b[0;34m:\u001b[0m\u001b[0;34m\u001b[0m\u001b[0m\n\u001b[1;32m   1041\u001b[0m       \u001b[0mmessage\u001b[0m \u001b[0;34m=\u001b[0m \u001b[0mcompat\u001b[0m\u001b[0;34m.\u001b[0m\u001b[0mas_text\u001b[0m\u001b[0;34m(\u001b[0m\u001b[0me\u001b[0m\u001b[0;34m.\u001b[0m\u001b[0mmessage\u001b[0m\u001b[0;34m)\u001b[0m\u001b[0;34m\u001b[0m\u001b[0m\n",
      "\u001b[0;32m/home/cyrfar/anaconda3/lib/python3.6/site-packages/tensorflow/python/client/session.py\u001b[0m in \u001b[0;36m_run_fn\u001b[0;34m(session, feed_dict, fetch_list, target_list, options, run_metadata)\u001b[0m\n\u001b[1;32m   1019\u001b[0m         return tf_session.TF_Run(session, options,\n\u001b[1;32m   1020\u001b[0m                                  \u001b[0mfeed_dict\u001b[0m\u001b[0;34m,\u001b[0m \u001b[0mfetch_list\u001b[0m\u001b[0;34m,\u001b[0m \u001b[0mtarget_list\u001b[0m\u001b[0;34m,\u001b[0m\u001b[0;34m\u001b[0m\u001b[0m\n\u001b[0;32m-> 1021\u001b[0;31m                                  status, run_metadata)\n\u001b[0m\u001b[1;32m   1022\u001b[0m \u001b[0;34m\u001b[0m\u001b[0m\n\u001b[1;32m   1023\u001b[0m     \u001b[0;32mdef\u001b[0m \u001b[0m_prun_fn\u001b[0m\u001b[0;34m(\u001b[0m\u001b[0msession\u001b[0m\u001b[0;34m,\u001b[0m \u001b[0mhandle\u001b[0m\u001b[0;34m,\u001b[0m \u001b[0mfeed_dict\u001b[0m\u001b[0;34m,\u001b[0m \u001b[0mfetch_list\u001b[0m\u001b[0;34m)\u001b[0m\u001b[0;34m:\u001b[0m\u001b[0;34m\u001b[0m\u001b[0m\n",
      "\u001b[0;31mKeyboardInterrupt\u001b[0m: "
     ]
    }
   ],
   "source": [
    "from keras import backend\n",
    "from keras.callbacks import EarlyStopping\n",
    "\n",
    "def rmse(y_true, y_pred):\n",
    "    '''Define Root Mean Squared Error as our custom metric'''\n",
    "    return backend.sqrt(backend.mean(backend.square(y_pred - y_true), axis=-1))\n",
    "\n",
    "callbacks = [EarlyStopping(monitor='val_loss', patience=2, verbose=0)]\n",
    "\n",
    "x = dot([u, p], axes=2)\n",
    "x = Flatten()(x)\n",
    "x = add([x, ub])\n",
    "x = add([x, pb])\n",
    "model = Model([user_in, prod_in], x)\n",
    "model.compile(Adam(0.1), loss='mse', metrics=[rmse])\n",
    "\n",
    "history = model.fit([trn.user_id, trn.product_id], trn.product_score, batch_size=64, epochs=4, \n",
    "          validation_data=([val.user_id, val.product_id], val.product_score), callbacks=callbacks)\n",
    "plt.plot(history.history['val_loss'])"
   ]
  },
  {
   "cell_type": "code",
   "execution_count": 138,
   "metadata": {
    "collapsed": true
   },
   "outputs": [],
   "source": [
    "model.save_weights('models/simplemodel.h5')"
   ]
  },
  {
   "cell_type": "code",
   "execution_count": 42,
   "metadata": {
    "collapsed": true,
    "scrolled": true
   },
   "outputs": [],
   "source": [
    "model.load_weights('models/simplemodel.h5')"
   ]
  },
  {
   "cell_type": "markdown",
   "metadata": {},
   "source": [
    "Helper function to predict new product scores"
   ]
  },
  {
   "cell_type": "code",
   "execution_count": 40,
   "metadata": {
    "collapsed": true
   },
   "outputs": [],
   "source": [
    "def predictions(u_id, p_id):\n",
    "    '''create a product_name:product_score dictionary '''\n",
    "    return (prod_id2name[p_id], np.round(model.predict([np.array([u_id]), np.array([p_id])]))[0][0])"
   ]
  },
  {
   "cell_type": "markdown",
   "metadata": {},
   "source": [
    "Recommend a list of product to a given user, using the top predicted product_scores"
   ]
  },
  {
   "cell_type": "code",
   "execution_count": 41,
   "metadata": {
    "collapsed": true
   },
   "outputs": [],
   "source": [
    "def user_recommendation(u_id):\n",
    "    '''recommend 20 new products to user'''\n",
    "    \n",
    "    #exclude products the user has already bought\n",
    "    prods_to_rate = list(set(prod_ratings.product_id) - set(prod_ratings[prod_ratings.user_id==u_id].product_id))\n",
    "    \n",
    "    #predict the ratings for new unseen products\n",
    "    scores = {predictions(u_id,p)[0]:predictions(u_id,p)[1] for p in prods_to_rate}\n",
    "    \n",
    "    return list(OrderedDict(sorted(scores.items(), key =itemgetter(1), reverse = True)))[:20]"
   ]
  },
  {
   "cell_type": "code",
   "execution_count": 44,
   "metadata": {
    "collapsed": true
   },
   "outputs": [
    {
     "data": {
      "text/plain": [
       "['Pure Almond Unsweetened Original Almond Milk',\n",
       " 'Everything Bagel',\n",
       " 'Burrata Mozzarela Cheese',\n",
       " 'Just Green Unsweetened Tea',\n",
       " 'Authentic French Brioche',\n",
       " 'New Orleans Iced Coffee',\n",
       " 'Frozen Desserts, Cookies and Cream',\n",
       " 'Lager',\n",
       " 'Perfectouch Grab N Go Cups With Lids',\n",
       " 'Lemon Seltzer Water',\n",
       " '80  Vodka Holiday Edition',\n",
       " 'Natural Lime Flavor Sparkling Mineral Water',\n",
       " 'Vegetable Classics Green Split Pea Soup',\n",
       " 'Chocolate Milk 1% Milkfat',\n",
       " 'Mini Classic Ice Cream',\n",
       " 'Hand Dipped Basket Whole Milk Ricotta',\n",
       " 'Organic Heritage Flakes Cereal',\n",
       " 'Milk Chocolate Covered Frozen Banana',\n",
       " 'Whipped Mixed Berry Tub',\n",
       " 'Santa Fe Fiesta Salad',\n",
       " 'Thousand Island Salad Snax',\n",
       " 'Anejo Tequila',\n",
       " 'Goat Milk',\n",
       " 'DanActive Vanilla Probiotic Dairy Drink',\n",
       " 'Half Tea & Half Lemonade',\n",
       " 'Organic Power Greens',\n",
       " 'Dishwasher Detergent',\n",
       " 'Dolmas',\n",
       " 'Caramel with Almond Milk Iced Coffee',\n",
       " 'Greek Yogurt 0% Fat Plain']"
      ]
     },
     "execution_count": 44,
     "metadata": {},
     "output_type": "execute_result"
    }
   ],
   "source": [
    "user_recommendation(0)"
   ]
  },
  {
   "cell_type": "markdown",
   "metadata": {},
   "source": [
    "## Analyze results"
   ]
  },
  {
   "cell_type": "markdown",
   "metadata": {},
   "source": [
    "For simplicity, we restrict the analysis to the top 2000 most popular products."
   ]
  },
  {
   "cell_type": "code",
   "execution_count": 98,
   "metadata": {
    "collapsed": true
   },
   "outputs": [],
   "source": [
    "g=prod_ratings.groupby('product_id')['product_score'].count()\n",
    "topProds=g.sort_values(ascending=False)[:2000]\n",
    "topProds = np.array(topProds.index)"
   ]
  },
  {
   "cell_type": "code",
   "execution_count": 99,
   "metadata": {},
   "outputs": [
    {
     "data": {
      "text/plain": [
       "array([  23,    2,  141, ..., 5398, 5355, 4011])"
      ]
     },
     "execution_count": 99,
     "metadata": {},
     "output_type": "execute_result"
    }
   ],
   "source": [
    "topProds"
   ]
  },
  {
   "cell_type": "markdown",
   "metadata": {},
   "source": [
    "Let us first look at the product bias term. We create a model using the functional API. Our input is the product id and the output is the product bias term."
   ]
  },
  {
   "cell_type": "code",
   "execution_count": 100,
   "metadata": {
    "collapsed": true
   },
   "outputs": [],
   "source": [
    "prod_names = prod_ratings['product_name'].to_dict"
   ]
  },
  {
   "cell_type": "code",
   "execution_count": 101,
   "metadata": {},
   "outputs": [
    {
     "data": {
      "text/plain": [
       "'Baked Organic Sea Salt Crunchy Pea Snack'"
      ]
     },
     "execution_count": 101,
     "metadata": {},
     "output_type": "execute_result"
    }
   ],
   "source": [
    "#top product is banana\n",
    "prod_names()[topProds[0]]"
   ]
  },
  {
   "cell_type": "code",
   "execution_count": 103,
   "metadata": {},
   "outputs": [
    {
     "ename": "TypeError",
     "evalue": "__call__() takes 2 positional arguments but 3 were given",
     "output_type": "error",
     "traceback": [
      "\u001b[0;31m---------------------------------------------------------------------------\u001b[0m",
      "\u001b[0;31mTypeError\u001b[0m                                 Traceback (most recent call last)",
      "\u001b[0;32m<ipython-input-103-cc00ee89dd0b>\u001b[0m in \u001b[0;36m<module>\u001b[0;34m()\u001b[0m\n\u001b[0;32m----> 1\u001b[0;31m \u001b[0mget_prod_bias\u001b[0m \u001b[0;34m=\u001b[0m \u001b[0mnn\u001b[0m\u001b[0;34m(\u001b[0m\u001b[0mprod_in\u001b[0m\u001b[0;34m,\u001b[0m \u001b[0mpb\u001b[0m\u001b[0;34m)\u001b[0m\u001b[0;34m\u001b[0m\u001b[0m\n\u001b[0m\u001b[1;32m      2\u001b[0m \u001b[0mprod_bias\u001b[0m \u001b[0;34m=\u001b[0m \u001b[0mget_prod_bias\u001b[0m\u001b[0;34m.\u001b[0m\u001b[0mpredict\u001b[0m\u001b[0;34m(\u001b[0m\u001b[0mtopProds\u001b[0m\u001b[0;34m)\u001b[0m\u001b[0;34m\u001b[0m\u001b[0m\n\u001b[1;32m      3\u001b[0m \u001b[0mproduct_ratings\u001b[0m \u001b[0;34m=\u001b[0m \u001b[0;34m[\u001b[0m\u001b[0;34m(\u001b[0m\u001b[0mb\u001b[0m\u001b[0;34m[\u001b[0m\u001b[0;36m0\u001b[0m\u001b[0;34m]\u001b[0m\u001b[0;34m,\u001b[0m \u001b[0mprod_names\u001b[0m\u001b[0;34m(\u001b[0m\u001b[0;34m)\u001b[0m\u001b[0;34m[\u001b[0m\u001b[0mprod_ratings\u001b[0m\u001b[0;34m.\u001b[0m\u001b[0mproduct_id\u001b[0m\u001b[0;34m[\u001b[0m\u001b[0mi\u001b[0m\u001b[0;34m]\u001b[0m\u001b[0;34m]\u001b[0m\u001b[0;34m)\u001b[0m \u001b[0;32mfor\u001b[0m \u001b[0mi\u001b[0m\u001b[0;34m,\u001b[0m\u001b[0mb\u001b[0m \u001b[0;32min\u001b[0m \u001b[0mzip\u001b[0m\u001b[0;34m(\u001b[0m\u001b[0mtopProds\u001b[0m\u001b[0;34m,\u001b[0m\u001b[0mprod_bias\u001b[0m\u001b[0;34m)\u001b[0m\u001b[0;34m]\u001b[0m\u001b[0;34m\u001b[0m\u001b[0m\n",
      "\u001b[0;31mTypeError\u001b[0m: __call__() takes 2 positional arguments but 3 were given"
     ]
    }
   ],
   "source": [
    "get_prod_bias = Model(prod_in, pb)\n",
    "prod_bias = get_prod_bias.predict(topProds)\n",
    "product_ratings = [(b[0], prod_names()[prod_ratings.product_id[i]]) for i,b in zip(topProds,prod_bias)]"
   ]
  },
  {
   "cell_type": "markdown",
   "metadata": {},
   "source": [
    "Now we can look at the top and bottom rated products. These ratings take into account user sentiment, as well as different types of producst that different users reorder."
   ]
  },
  {
   "cell_type": "code",
   "execution_count": 49,
   "metadata": {},
   "outputs": [
    {
     "data": {
      "text/plain": [
       "[(-12.260419, 'Balsamic Vinegar Of Modena'),\n",
       " (-12.254536, 'Electrolyte Water'),\n",
       " (-11.362408, 'Banana'),\n",
       " (-11.015893, 'Sparkling Peach'),\n",
       " (-10.818048, 'Organic Bunch Beets'),\n",
       " (-10.793405, 'PlusShot Blueberry Acai Probiotic Juice Drink'),\n",
       " (-10.363061, 'Jalapeno Peppers'),\n",
       " (-10.295506, 'Beef Flavor Top Ramen'),\n",
       " (-10.130666, 'Roma Tomato'),\n",
       " (-9.8693409, 'Truffle Parmesan Macaroni & Cheese Bowl'),\n",
       " (-9.8534021, 'Canned Aranciata Orange'),\n",
       " (-9.7313662, 'Chili Sauce'),\n",
       " (-9.6588259, 'Roasted Red Pepper Hummus'),\n",
       " (-9.6164093, 'Organic Roma Tomato'),\n",
       " (-9.5881796, 'Reclosable Sandwich Bags')]"
      ]
     },
     "execution_count": 49,
     "metadata": {},
     "output_type": "execute_result"
    }
   ],
   "source": [
    "sorted(product_ratings, key=itemgetter(0))[:15]\n"
   ]
  },
  {
   "cell_type": "code",
   "execution_count": 50,
   "metadata": {},
   "outputs": [
    {
     "data": {
      "text/plain": [
       "[(22.147203, 'Potato Chips Cheddar & Sour Cream Flavored Party Size!'),\n",
       " (20.278847, 'Dairy Pure Heavy Whipping Cream'),\n",
       " (19.12274, 'Citrus + Mint'),\n",
       " (18.937477, 'Mini Double Caramel Ice Cream Bars'),\n",
       " (17.414837, '100% Whole Wheat Bread'),\n",
       " (17.263594, 'Garlic'),\n",
       " (16.503759, 'Feta Cheese Crumbles'),\n",
       " (16.435913, 'Creamy Peanut Butter'),\n",
       " (15.88129, '12 Oz Lager'),\n",
       " (15.265867, 'Organic Whole Grain Wheat English Muffins'),\n",
       " (14.064123, 'Pita Chips, Simply Naked'),\n",
       " (13.671357, 'Strawberry Ice Cream'),\n",
       " (13.486944, 'Green Tea Green Ginger Tea Bags'),\n",
       " (13.267944, 'Unsweetened Watermelon Water'),\n",
       " (12.929931, 'Strawberry Cheesecake Ice Cream')]"
      ]
     },
     "execution_count": 50,
     "metadata": {},
     "output_type": "execute_result"
    }
   ],
   "source": [
    "sorted(product_ratings, key=itemgetter(0), reverse=True)[:15]"
   ]
  },
  {
   "cell_type": "markdown",
   "metadata": {},
   "source": [
    "We can now do the same thing for the embeddings."
   ]
  },
  {
   "cell_type": "code",
   "execution_count": 51,
   "metadata": {},
   "outputs": [
    {
     "data": {
      "text/plain": [
       "(2000, 50)"
      ]
     },
     "execution_count": 51,
     "metadata": {},
     "output_type": "execute_result"
    }
   ],
   "source": [
    "get_prod_emb = Model(prod_in, p)\n",
    "prod_emb = np.squeeze(get_prod_emb.predict([topProds]))\n",
    "prod_emb.shape"
   ]
  },
  {
   "cell_type": "markdown",
   "metadata": {},
   "source": [
    "Because it's hard to interpret 50 embeddings, we use [PCA](https://plot.ly/ipython-notebooks/principal-component-analysis/) to simplify them down to just 3 vectors. "
   ]
  },
  {
   "cell_type": "code",
   "execution_count": 52,
   "metadata": {
    "collapsed": true
   },
   "outputs": [],
   "source": [
    "from sklearn.decomposition import PCA\n",
    "pca = PCA(n_components=3)\n",
    "prod_pca = pca.fit(prod_emb.T).components_"
   ]
  },
  {
   "cell_type": "code",
   "execution_count": 53,
   "metadata": {
    "collapsed": true
   },
   "outputs": [],
   "source": [
    "fac0 = prod_pca[0]"
   ]
  },
  {
   "cell_type": "code",
   "execution_count": 54,
   "metadata": {
    "collapsed": true
   },
   "outputs": [],
   "source": [
    "prod_comp = [(f, prod_names()[prod_ratings.product_id[i]]) for f,i in zip(fac0, topProds)]"
   ]
  },
  {
   "cell_type": "markdown",
   "metadata": {},
   "source": [
    "Here's the 1st component. Hard to tell what these features represent..."
   ]
  },
  {
   "cell_type": "code",
   "execution_count": 68,
   "metadata": {},
   "outputs": [
    {
     "data": {
      "text/plain": [
       "[(-0.77194913478691962, 'Regular Pork Sausage Tube'),\n",
       " (-0.21088083492249446, 'Vanilla Coke'),\n",
       " (-0.12160985720519842, 'Natural Monterey Jack Cheese'),\n",
       " (-0.11564633881408577, 'Goat Cheese Log'),\n",
       " (-0.11464596686377114, 'Gluten Free Pretzel Sticks'),\n",
       " (-0.076984518970863058, 'White Distilled Vinegar'),\n",
       " (-0.062745999765025193, 'Vegetable Lasagna'),\n",
       " (-0.058988514424249065, 'White English Muffins'),\n",
       " (-0.048447304447711531, 'Diced Tomatoes'),\n",
       " (-0.043709688997337674, 'Naturally Hickory Smoked Thick Cut Bacon')]"
      ]
     },
     "execution_count": 68,
     "metadata": {},
     "output_type": "execute_result"
    }
   ],
   "source": [
    "sorted(prod_comp, key=itemgetter(0))[:10]"
   ]
  },
  {
   "cell_type": "code",
   "execution_count": 69,
   "metadata": {},
   "outputs": [
    {
     "data": {
      "text/plain": [
       "[(0.3212293673025598, 'The Original Worcestershire Sauce'),\n",
       " (0.23003288058576157, 'Snacks String Cheese Natural Mozzarella Cheese'),\n",
       " (0.19252063340850084, 'Mediterranean Mint Gelato'),\n",
       " (0.13872596091071723,\n",
       "  \"Blasts! Reese's Peanut Butter Cups Frozen Dairy Dessert\"),\n",
       " (0.11818800123157888, 'Total 0% Nonfat Greek Yogurt'),\n",
       " (0.10284608272032775, 'Organic Rosemary'),\n",
       " (0.087100174687347959, 'Organic Hass Avocado'),\n",
       " (0.078506096765528721, 'Iced Tea with Peach Liquid Water Enhancer'),\n",
       " (0.071597330300261081, 'Sprouted Seven Grain Reduced Sodium Sliced Bread'),\n",
       " (0.061754565818606812, 'Balsamic Vinegar Of Modena')]"
      ]
     },
     "execution_count": 69,
     "metadata": {},
     "output_type": "execute_result"
    }
   ],
   "source": [
    "sorted(prod_comp, key=itemgetter(0),reverse=True)[:10]"
   ]
  },
  {
   "cell_type": "code",
   "execution_count": 57,
   "metadata": {
    "collapsed": true
   },
   "outputs": [],
   "source": [
    "fac1 = prod_pca[1]"
   ]
  },
  {
   "cell_type": "code",
   "execution_count": 58,
   "metadata": {
    "collapsed": true
   },
   "outputs": [],
   "source": [
    "prod_comp = [(f, prod_names()[prod_ratings.product_id[i]]) for f,i in zip(fac1, topProds)]"
   ]
  },
  {
   "cell_type": "markdown",
   "metadata": {},
   "source": [
    "Here's the 2nd component"
   ]
  },
  {
   "cell_type": "code",
   "execution_count": 72,
   "metadata": {},
   "outputs": [
    {
     "data": {
      "text/plain": [
       "[(-0.77194913478691962, 'Regular Pork Sausage Tube'),\n",
       " (-0.21088083492249446, 'Vanilla Coke'),\n",
       " (-0.12160985720519842, 'Natural Monterey Jack Cheese'),\n",
       " (-0.11564633881408577, 'Goat Cheese Log'),\n",
       " (-0.11464596686377114, 'Gluten Free Pretzel Sticks'),\n",
       " (-0.076984518970863058, 'White Distilled Vinegar'),\n",
       " (-0.062745999765025193, 'Vegetable Lasagna'),\n",
       " (-0.058988514424249065, 'White English Muffins'),\n",
       " (-0.048447304447711531, 'Diced Tomatoes'),\n",
       " (-0.043709688997337674, 'Naturally Hickory Smoked Thick Cut Bacon')]"
      ]
     },
     "execution_count": 72,
     "metadata": {},
     "output_type": "execute_result"
    }
   ],
   "source": [
    "sorted(prod_comp, key=itemgetter(0))[:10]"
   ]
  },
  {
   "cell_type": "code",
   "execution_count": 73,
   "metadata": {
    "scrolled": true
   },
   "outputs": [
    {
     "data": {
      "text/plain": [
       "[(0.3212293673025598, 'The Original Worcestershire Sauce'),\n",
       " (0.23003288058576157, 'Snacks String Cheese Natural Mozzarella Cheese'),\n",
       " (0.19252063340850084, 'Mediterranean Mint Gelato'),\n",
       " (0.13872596091071723,\n",
       "  \"Blasts! Reese's Peanut Butter Cups Frozen Dairy Dessert\"),\n",
       " (0.11818800123157888, 'Total 0% Nonfat Greek Yogurt'),\n",
       " (0.10284608272032775, 'Organic Rosemary'),\n",
       " (0.087100174687347959, 'Organic Hass Avocado'),\n",
       " (0.078506096765528721, 'Iced Tea with Peach Liquid Water Enhancer'),\n",
       " (0.071597330300261081, 'Sprouted Seven Grain Reduced Sodium Sliced Bread'),\n",
       " (0.061754565818606812, 'Balsamic Vinegar Of Modena')]"
      ]
     },
     "execution_count": 73,
     "metadata": {},
     "output_type": "execute_result"
    }
   ],
   "source": [
    "sorted(prod_comp, key=itemgetter(0),reverse=True)[:10]"
   ]
  },
  {
   "cell_type": "code",
   "execution_count": 74,
   "metadata": {
    "collapsed": true
   },
   "outputs": [],
   "source": [
    "fac2 = prod_pca[2]"
   ]
  },
  {
   "cell_type": "code",
   "execution_count": 75,
   "metadata": {
    "collapsed": true
   },
   "outputs": [],
   "source": [
    "prod_comp = [(f, prod_names()[prod_ratings.product_id[i]]) for f,i in zip(fac2, topProds)]"
   ]
  },
  {
   "cell_type": "markdown",
   "metadata": {},
   "source": [
    "Here's the 3rd component"
   ]
  },
  {
   "cell_type": "code",
   "execution_count": 76,
   "metadata": {},
   "outputs": [
    {
     "data": {
      "text/plain": [
       "[(-0.77194913478691962, 'Regular Pork Sausage Tube'),\n",
       " (-0.21088083492249446, 'Vanilla Coke'),\n",
       " (-0.12160985720519842, 'Natural Monterey Jack Cheese'),\n",
       " (-0.11564633881408577, 'Goat Cheese Log'),\n",
       " (-0.11464596686377114, 'Gluten Free Pretzel Sticks'),\n",
       " (-0.076984518970863058, 'White Distilled Vinegar'),\n",
       " (-0.062745999765025193, 'Vegetable Lasagna'),\n",
       " (-0.058988514424249065, 'White English Muffins'),\n",
       " (-0.048447304447711531, 'Diced Tomatoes'),\n",
       " (-0.043709688997337674, 'Naturally Hickory Smoked Thick Cut Bacon')]"
      ]
     },
     "execution_count": 76,
     "metadata": {},
     "output_type": "execute_result"
    }
   ],
   "source": [
    "sorted(prod_comp, key=itemgetter(0))[:10]"
   ]
  },
  {
   "cell_type": "code",
   "execution_count": 77,
   "metadata": {},
   "outputs": [
    {
     "data": {
      "text/plain": [
       "[(0.3212293673025598, 'The Original Worcestershire Sauce'),\n",
       " (0.23003288058576157, 'Snacks String Cheese Natural Mozzarella Cheese'),\n",
       " (0.19252063340850084, 'Mediterranean Mint Gelato'),\n",
       " (0.13872596091071723,\n",
       "  \"Blasts! Reese's Peanut Butter Cups Frozen Dairy Dessert\"),\n",
       " (0.11818800123157888, 'Total 0% Nonfat Greek Yogurt'),\n",
       " (0.10284608272032775, 'Organic Rosemary'),\n",
       " (0.087100174687347959, 'Organic Hass Avocado'),\n",
       " (0.078506096765528721, 'Iced Tea with Peach Liquid Water Enhancer'),\n",
       " (0.071597330300261081, 'Sprouted Seven Grain Reduced Sodium Sliced Bread'),\n",
       " (0.061754565818606812, 'Balsamic Vinegar Of Modena')]"
      ]
     },
     "execution_count": 77,
     "metadata": {},
     "output_type": "execute_result"
    }
   ],
   "source": [
    "sorted(prod_comp, key=itemgetter(0),reverse=True)[:10]"
   ]
  },
  {
   "cell_type": "markdown",
   "metadata": {},
   "source": [
    "We can draw a picture to see how various products appear on the map of these components. This picture shows the 1st and 3rd components."
   ]
  },
  {
   "cell_type": "code",
   "execution_count": 78,
   "metadata": {},
   "outputs": [
    {
     "data": {
      "image/png": "[encoded data removed]",
      "text/plain": [
       "<matplotlib.figure.Figure at 0x7f0a4ac91940>"
      ]
     },
     "metadata": {},
     "output_type": "display_data"
    }
   ],
   "source": [
    "start=50; end=100\n",
    "X = fac0[start:end]\n",
    "Y = fac2[start:end]\n",
    "plt.figure(figsize=(15,15))\n",
    "plt.scatter(X, Y)\n",
    "for i, x, y in zip(topProds[start:end], X, Y):\n",
    "    plt.text(x,y,prod_names()[prod_ratings.product_id[i]], color=np.random.rand(3)*0.7, fontsize=14)\n",
    "plt.show()"
   ]
  },
  {
   "cell_type": "markdown",
   "metadata": {},
   "source": [
    "## Model: Feed user/prod embedding to a Neural Net"
   ]
  },
  {
   "cell_type": "code",
   "execution_count": 19,
   "metadata": {
    "collapsed": true
   },
   "outputs": [],
   "source": [
    "from keras import backend\n",
    "from keras.callbacks import EarlyStopping\n",
    "\n",
    "def embedding_input(name, n_in, n_out, reg):\n",
    "    '''returns input and its embedding using Keras'''\n",
    "    inp = Input(shape=(1,), dtype='int64', name=name)\n",
    "    return inp, Embedding(input_dim=n_in, output_dim=n_out, input_length=1, embeddings_regularizer=l2(reg))(inp)\n",
    "\n",
    "def rmse(y_true, y_pred):\n",
    "    '''Define Root Mean Squared Error as a custom metric'''\n",
    "    return backend.sqrt(backend.mean(backend.square(y_pred - y_true), axis=-1))\n",
    "\n",
    "#number of elements in embedding layer (latent factors)\n",
    "n_factors=5\n",
    "\n",
    "#get input and embedding for users and products\n",
    "user_in, u = embedding_input('user_in', n_users, n_factors, 1e-1)\n",
    "prod_in, p = embedding_input('prod_in', n_prods, n_factors, 1e-1)\n",
    "\n",
    "#stop training when val_loss starts to increase\n",
    "callbacks = [EarlyStopping(monitor='val_loss', patience=2, verbose=0)]\n",
    "\n",
    "#model: concat embedding layers and feed to neural net\n",
    "x = concatenate([u, p], axis=2)\n",
    "x = Flatten()(x)\n",
    "x = Dropout(0.8)(x)\n",
    "x = BatchNormalization()(x)\n",
    "x = Dense(50, activation='relu')(x)\n",
    "x = Dropout(0.8)(x)\n",
    "x = BatchNormalization()(x)\n",
    "x = Dense(10, activation='relu')(x)\n",
    "x = Dropout(0.8)(x)\n",
    "x = BatchNormalization()(x)\n",
    "x = Dense(5, activation='relu')(x)\n",
    "x = Dropout(0.8)(x)\n",
    "x = BatchNormalization()(x)\n",
    "x = Dense(1)(x)\n",
    "nn = Model([user_in, prod_in], x)\n",
    "nn.compile(optimizer=Adam(0.001), loss='mse', metrics=[rmse])"
   ]
  },
  {
   "cell_type": "code",
   "execution_count": 20,
   "metadata": {},
   "outputs": [
    {
     "name": "stdout",
     "output_type": "stream",
     "text": [
      "Train on 12477371 samples, validate on 1386375 samples\n",
      "Epoch 1/100\n",
      "12477371/12477371 [==============================] - 2848s - loss: 0.8169 - rmse: 0.6167 - val_loss: 0.7898 - val_rmse: 0.6153\n",
      "Epoch 2/100\n",
      "12477371/12477371 [==============================] - 2838s - loss: 0.7912 - rmse: 0.6156 - val_loss: 0.7891 - val_rmse: 0.6199\n",
      "Epoch 3/100\n",
      "12477371/12477371 [==============================] - 2875s - loss: 0.7908 - rmse: 0.6156 - val_loss: 0.7892 - val_rmse: 0.6086\n",
      "Epoch 4/100\n",
      "12477371/12477371 [==============================] - 2755s - loss: 0.7907 - rmse: 0.6156 - val_loss: 0.7888 - val_rmse: 0.6118\n",
      "Epoch 5/100\n",
      "12477371/12477371 [==============================] - 2776s - loss: 0.7905 - rmse: 0.6155 - val_loss: 0.7887 - val_rmse: 0.6123\n",
      "Epoch 6/100\n",
      "12477371/12477371 [==============================] - 2848s - loss: 0.7907 - rmse: 0.6155 - val_loss: 0.7887 - val_rmse: 0.6130\n",
      "Epoch 7/100\n",
      "12477371/12477371 [==============================] - 3263s - loss: 0.7905 - rmse: 0.6155 - val_loss: 0.7886 - val_rmse: 0.6140\n",
      "Epoch 8/100\n",
      " 6678528/12477371 [===============>..............] - ETA: 1504s - loss: 0.7909 - rmse: 0.6158"
     ]
    },
    {
     "ename": "KeyboardInterrupt",
     "evalue": "",
     "output_type": "error",
     "traceback": [
      "\u001b[0;31m---------------------------------------------------------------------------\u001b[0m",
      "\u001b[0;31mKeyboardInterrupt\u001b[0m                         Traceback (most recent call last)",
      "\u001b[0;32m<ipython-input-20-9abe9c35dd6f>\u001b[0m in \u001b[0;36m<module>\u001b[0;34m()\u001b[0m\n\u001b[1;32m      1\u001b[0m history = nn.fit([prod_ratings.user_id, prod_ratings.product_id], prod_ratings.product_score, batch_size=64,\n\u001b[0;32m----> 2\u001b[0;31m        epochs=100, validation_split=0.1, verbose =1, callbacks=callbacks)\n\u001b[0m\u001b[1;32m      3\u001b[0m \u001b[0;34m\u001b[0m\u001b[0m\n\u001b[1;32m      4\u001b[0m \u001b[0mplt\u001b[0m\u001b[0;34m.\u001b[0m\u001b[0mplot\u001b[0m\u001b[0;34m(\u001b[0m\u001b[0mhistory\u001b[0m\u001b[0;34m.\u001b[0m\u001b[0mhistory\u001b[0m\u001b[0;34m[\u001b[0m\u001b[0;34m'val_loss'\u001b[0m\u001b[0;34m]\u001b[0m\u001b[0;34m)\u001b[0m\u001b[0;34m\u001b[0m\u001b[0m\n",
      "\u001b[0;32m/home/paperspace/anaconda3/lib/python3.6/site-packages/keras/engine/training.py\u001b[0m in \u001b[0;36mfit\u001b[0;34m(self, x, y, batch_size, epochs, verbose, callbacks, validation_split, validation_data, shuffle, class_weight, sample_weight, initial_epoch, **kwargs)\u001b[0m\n\u001b[1;32m   1415\u001b[0m                               \u001b[0mval_f\u001b[0m\u001b[0;34m=\u001b[0m\u001b[0mval_f\u001b[0m\u001b[0;34m,\u001b[0m \u001b[0mval_ins\u001b[0m\u001b[0;34m=\u001b[0m\u001b[0mval_ins\u001b[0m\u001b[0;34m,\u001b[0m \u001b[0mshuffle\u001b[0m\u001b[0;34m=\u001b[0m\u001b[0mshuffle\u001b[0m\u001b[0;34m,\u001b[0m\u001b[0;34m\u001b[0m\u001b[0m\n\u001b[1;32m   1416\u001b[0m                               \u001b[0mcallback_metrics\u001b[0m\u001b[0;34m=\u001b[0m\u001b[0mcallback_metrics\u001b[0m\u001b[0;34m,\u001b[0m\u001b[0;34m\u001b[0m\u001b[0m\n\u001b[0;32m-> 1417\u001b[0;31m                               initial_epoch=initial_epoch)\n\u001b[0m\u001b[1;32m   1418\u001b[0m \u001b[0;34m\u001b[0m\u001b[0m\n\u001b[1;32m   1419\u001b[0m     \u001b[0;32mdef\u001b[0m \u001b[0mevaluate\u001b[0m\u001b[0;34m(\u001b[0m\u001b[0mself\u001b[0m\u001b[0;34m,\u001b[0m \u001b[0mx\u001b[0m\u001b[0;34m,\u001b[0m \u001b[0my\u001b[0m\u001b[0;34m,\u001b[0m \u001b[0mbatch_size\u001b[0m\u001b[0;34m=\u001b[0m\u001b[0;36m32\u001b[0m\u001b[0;34m,\u001b[0m \u001b[0mverbose\u001b[0m\u001b[0;34m=\u001b[0m\u001b[0;36m1\u001b[0m\u001b[0;34m,\u001b[0m \u001b[0msample_weight\u001b[0m\u001b[0;34m=\u001b[0m\u001b[0;32mNone\u001b[0m\u001b[0;34m)\u001b[0m\u001b[0;34m:\u001b[0m\u001b[0;34m\u001b[0m\u001b[0m\n",
      "\u001b[0;32m/home/paperspace/anaconda3/lib/python3.6/site-packages/keras/engine/training.py\u001b[0m in \u001b[0;36m_fit_loop\u001b[0;34m(self, f, ins, out_labels, batch_size, epochs, verbose, callbacks, val_f, val_ins, shuffle, callback_metrics, initial_epoch)\u001b[0m\n\u001b[1;32m   1064\u001b[0m                 \u001b[0mbatch_logs\u001b[0m\u001b[0;34m[\u001b[0m\u001b[0;34m'size'\u001b[0m\u001b[0;34m]\u001b[0m \u001b[0;34m=\u001b[0m \u001b[0mlen\u001b[0m\u001b[0;34m(\u001b[0m\u001b[0mbatch_ids\u001b[0m\u001b[0;34m)\u001b[0m\u001b[0;34m\u001b[0m\u001b[0m\n\u001b[1;32m   1065\u001b[0m                 \u001b[0mcallbacks\u001b[0m\u001b[0;34m.\u001b[0m\u001b[0mon_batch_begin\u001b[0m\u001b[0;34m(\u001b[0m\u001b[0mbatch_index\u001b[0m\u001b[0;34m,\u001b[0m \u001b[0mbatch_logs\u001b[0m\u001b[0;34m)\u001b[0m\u001b[0;34m\u001b[0m\u001b[0m\n\u001b[0;32m-> 1066\u001b[0;31m                 \u001b[0mouts\u001b[0m \u001b[0;34m=\u001b[0m \u001b[0mf\u001b[0m\u001b[0;34m(\u001b[0m\u001b[0mins_batch\u001b[0m\u001b[0;34m)\u001b[0m\u001b[0;34m\u001b[0m\u001b[0m\n\u001b[0m\u001b[1;32m   1067\u001b[0m                 \u001b[0;32mif\u001b[0m \u001b[0;32mnot\u001b[0m \u001b[0misinstance\u001b[0m\u001b[0;34m(\u001b[0m\u001b[0mouts\u001b[0m\u001b[0;34m,\u001b[0m \u001b[0mlist\u001b[0m\u001b[0;34m)\u001b[0m\u001b[0;34m:\u001b[0m\u001b[0;34m\u001b[0m\u001b[0m\n\u001b[1;32m   1068\u001b[0m                     \u001b[0mouts\u001b[0m \u001b[0;34m=\u001b[0m \u001b[0;34m[\u001b[0m\u001b[0mouts\u001b[0m\u001b[0;34m]\u001b[0m\u001b[0;34m\u001b[0m\u001b[0m\n",
      "\u001b[0;32m/home/paperspace/anaconda3/lib/python3.6/site-packages/keras/backend/tensorflow_backend.py\u001b[0m in \u001b[0;36m__call__\u001b[0;34m(self, inputs)\u001b[0m\n\u001b[1;32m   2265\u001b[0m         updated = session.run(self.outputs + [self.updates_op],\n\u001b[1;32m   2266\u001b[0m                               \u001b[0mfeed_dict\u001b[0m\u001b[0;34m=\u001b[0m\u001b[0mfeed_dict\u001b[0m\u001b[0;34m,\u001b[0m\u001b[0;34m\u001b[0m\u001b[0m\n\u001b[0;32m-> 2267\u001b[0;31m                               **self.session_kwargs)\n\u001b[0m\u001b[1;32m   2268\u001b[0m         \u001b[0;32mreturn\u001b[0m \u001b[0mupdated\u001b[0m\u001b[0;34m[\u001b[0m\u001b[0;34m:\u001b[0m\u001b[0mlen\u001b[0m\u001b[0;34m(\u001b[0m\u001b[0mself\u001b[0m\u001b[0;34m.\u001b[0m\u001b[0moutputs\u001b[0m\u001b[0;34m)\u001b[0m\u001b[0;34m]\u001b[0m\u001b[0;34m\u001b[0m\u001b[0m\n\u001b[1;32m   2269\u001b[0m \u001b[0;34m\u001b[0m\u001b[0m\n",
      "\u001b[0;32m/home/paperspace/anaconda3/lib/python3.6/site-packages/tensorflow/python/client/session.py\u001b[0m in \u001b[0;36mrun\u001b[0;34m(self, fetches, feed_dict, options, run_metadata)\u001b[0m\n\u001b[1;32m    787\u001b[0m     \u001b[0;32mtry\u001b[0m\u001b[0;34m:\u001b[0m\u001b[0;34m\u001b[0m\u001b[0m\n\u001b[1;32m    788\u001b[0m       result = self._run(None, fetches, feed_dict, options_ptr,\n\u001b[0;32m--> 789\u001b[0;31m                          run_metadata_ptr)\n\u001b[0m\u001b[1;32m    790\u001b[0m       \u001b[0;32mif\u001b[0m \u001b[0mrun_metadata\u001b[0m\u001b[0;34m:\u001b[0m\u001b[0;34m\u001b[0m\u001b[0m\n\u001b[1;32m    791\u001b[0m         \u001b[0mproto_data\u001b[0m \u001b[0;34m=\u001b[0m \u001b[0mtf_session\u001b[0m\u001b[0;34m.\u001b[0m\u001b[0mTF_GetBuffer\u001b[0m\u001b[0;34m(\u001b[0m\u001b[0mrun_metadata_ptr\u001b[0m\u001b[0;34m)\u001b[0m\u001b[0;34m\u001b[0m\u001b[0m\n",
      "\u001b[0;32m/home/paperspace/anaconda3/lib/python3.6/site-packages/tensorflow/python/client/session.py\u001b[0m in \u001b[0;36m_run\u001b[0;34m(self, handle, fetches, feed_dict, options, run_metadata)\u001b[0m\n\u001b[1;32m    995\u001b[0m     \u001b[0;32mif\u001b[0m \u001b[0mfinal_fetches\u001b[0m \u001b[0;32mor\u001b[0m \u001b[0mfinal_targets\u001b[0m\u001b[0;34m:\u001b[0m\u001b[0;34m\u001b[0m\u001b[0m\n\u001b[1;32m    996\u001b[0m       results = self._do_run(handle, final_targets, final_fetches,\n\u001b[0;32m--> 997\u001b[0;31m                              feed_dict_string, options, run_metadata)\n\u001b[0m\u001b[1;32m    998\u001b[0m     \u001b[0;32melse\u001b[0m\u001b[0;34m:\u001b[0m\u001b[0;34m\u001b[0m\u001b[0m\n\u001b[1;32m    999\u001b[0m       \u001b[0mresults\u001b[0m \u001b[0;34m=\u001b[0m \u001b[0;34m[\u001b[0m\u001b[0;34m]\u001b[0m\u001b[0;34m\u001b[0m\u001b[0m\n",
      "\u001b[0;32m/home/paperspace/anaconda3/lib/python3.6/site-packages/tensorflow/python/client/session.py\u001b[0m in \u001b[0;36m_do_run\u001b[0;34m(self, handle, target_list, fetch_list, feed_dict, options, run_metadata)\u001b[0m\n\u001b[1;32m   1130\u001b[0m     \u001b[0;32mif\u001b[0m \u001b[0mhandle\u001b[0m \u001b[0;32mis\u001b[0m \u001b[0;32mNone\u001b[0m\u001b[0;34m:\u001b[0m\u001b[0;34m\u001b[0m\u001b[0m\n\u001b[1;32m   1131\u001b[0m       return self._do_call(_run_fn, self._session, feed_dict, fetch_list,\n\u001b[0;32m-> 1132\u001b[0;31m                            target_list, options, run_metadata)\n\u001b[0m\u001b[1;32m   1133\u001b[0m     \u001b[0;32melse\u001b[0m\u001b[0;34m:\u001b[0m\u001b[0;34m\u001b[0m\u001b[0m\n\u001b[1;32m   1134\u001b[0m       return self._do_call(_prun_fn, self._session, handle, feed_dict,\n",
      "\u001b[0;32m/home/paperspace/anaconda3/lib/python3.6/site-packages/tensorflow/python/client/session.py\u001b[0m in \u001b[0;36m_do_call\u001b[0;34m(self, fn, *args)\u001b[0m\n\u001b[1;32m   1137\u001b[0m   \u001b[0;32mdef\u001b[0m \u001b[0m_do_call\u001b[0m\u001b[0;34m(\u001b[0m\u001b[0mself\u001b[0m\u001b[0;34m,\u001b[0m \u001b[0mfn\u001b[0m\u001b[0;34m,\u001b[0m \u001b[0;34m*\u001b[0m\u001b[0margs\u001b[0m\u001b[0;34m)\u001b[0m\u001b[0;34m:\u001b[0m\u001b[0;34m\u001b[0m\u001b[0m\n\u001b[1;32m   1138\u001b[0m     \u001b[0;32mtry\u001b[0m\u001b[0;34m:\u001b[0m\u001b[0;34m\u001b[0m\u001b[0m\n\u001b[0;32m-> 1139\u001b[0;31m       \u001b[0;32mreturn\u001b[0m \u001b[0mfn\u001b[0m\u001b[0;34m(\u001b[0m\u001b[0;34m*\u001b[0m\u001b[0margs\u001b[0m\u001b[0;34m)\u001b[0m\u001b[0;34m\u001b[0m\u001b[0m\n\u001b[0m\u001b[1;32m   1140\u001b[0m     \u001b[0;32mexcept\u001b[0m \u001b[0merrors\u001b[0m\u001b[0;34m.\u001b[0m\u001b[0mOpError\u001b[0m \u001b[0;32mas\u001b[0m \u001b[0me\u001b[0m\u001b[0;34m:\u001b[0m\u001b[0;34m\u001b[0m\u001b[0m\n\u001b[1;32m   1141\u001b[0m       \u001b[0mmessage\u001b[0m \u001b[0;34m=\u001b[0m \u001b[0mcompat\u001b[0m\u001b[0;34m.\u001b[0m\u001b[0mas_text\u001b[0m\u001b[0;34m(\u001b[0m\u001b[0me\u001b[0m\u001b[0;34m.\u001b[0m\u001b[0mmessage\u001b[0m\u001b[0;34m)\u001b[0m\u001b[0;34m\u001b[0m\u001b[0m\n",
      "\u001b[0;32m/home/paperspace/anaconda3/lib/python3.6/site-packages/tensorflow/python/client/session.py\u001b[0m in \u001b[0;36m_run_fn\u001b[0;34m(session, feed_dict, fetch_list, target_list, options, run_metadata)\u001b[0m\n\u001b[1;32m   1119\u001b[0m         return tf_session.TF_Run(session, options,\n\u001b[1;32m   1120\u001b[0m                                  \u001b[0mfeed_dict\u001b[0m\u001b[0;34m,\u001b[0m \u001b[0mfetch_list\u001b[0m\u001b[0;34m,\u001b[0m \u001b[0mtarget_list\u001b[0m\u001b[0;34m,\u001b[0m\u001b[0;34m\u001b[0m\u001b[0m\n\u001b[0;32m-> 1121\u001b[0;31m                                  status, run_metadata)\n\u001b[0m\u001b[1;32m   1122\u001b[0m \u001b[0;34m\u001b[0m\u001b[0m\n\u001b[1;32m   1123\u001b[0m     \u001b[0;32mdef\u001b[0m \u001b[0m_prun_fn\u001b[0m\u001b[0;34m(\u001b[0m\u001b[0msession\u001b[0m\u001b[0;34m,\u001b[0m \u001b[0mhandle\u001b[0m\u001b[0;34m,\u001b[0m \u001b[0mfeed_dict\u001b[0m\u001b[0;34m,\u001b[0m \u001b[0mfetch_list\u001b[0m\u001b[0;34m)\u001b[0m\u001b[0;34m:\u001b[0m\u001b[0;34m\u001b[0m\u001b[0m\n",
      "\u001b[0;31mKeyboardInterrupt\u001b[0m: "
     ]
    }
   ],
   "source": [
    "history = nn.fit([prod_ratings.user_id, prod_ratings.product_id], prod_ratings.product_score, batch_size=64,\n",
    "       epochs=100, validation_split=0.1, verbose =1, callbacks=callbacks)\n",
    "\n",
    "#plt.plot(history.history['val_loss'])"
   ]
  },
  {
   "cell_type": "code",
   "execution_count": 21,
   "metadata": {
    "collapsed": true
   },
   "outputs": [],
   "source": [
    "nn.save_weights('models/nn4.h5')"
   ]
  },
  {
   "cell_type": "code",
   "execution_count": null,
   "metadata": {
    "collapsed": true
   },
   "outputs": [],
   "source": [
    "nn.load_weights('models/nn4.h5')"
   ]
  },
  {
   "cell_type": "code",
   "execution_count": 40,
   "metadata": {
    "collapsed": true
   },
   "outputs": [],
   "source": [
    "#prod id to prod name dictionary:\n",
    "prod_id2name = pd.Series(prod_ratings.product_name.values, index=prod_ratings.product_id).to_dict()"
   ]
  },
  {
   "cell_type": "code",
   "execution_count": 48,
   "metadata": {
    "collapsed": true
   },
   "outputs": [],
   "source": [
    "def predictions_nn(u_id, p_id):\n",
    "    '''create a product_name:product_score dictionary '''\n",
    "    return (prod_id2name[p_id], nn.predict([np.array([u_id]), np.array([p_id])])[0][0])\n",
    "\n",
    "def user_recommendation_nn(u_id):\n",
    "    '''recommend 20 new products to user'''\n",
    "    \n",
    "    #exclude products the user has already bought\n",
    "    prods_to_rate = list(set(prod_ratings.product_id) - set(prod_ratings[prod_ratings.user_id==u_id].product_id))\n",
    "    \n",
    "    #predict the ratings for new unseen products\n",
    "    scores = {predictions_nn(u_id,p)[0]:predictions_nn(u_id,p)[1] for p in prods_to_rate}\n",
    "    \n",
    "    return list(OrderedDict(sorted(scores.items(), key =itemgetter(1), reverse = True)))[:20]"
   ]
  },
  {
   "cell_type": "code",
   "execution_count": 49,
   "metadata": {},
   "outputs": [
    {
     "data": {
      "image/png": "[encoded data removed]",
      "text/plain": [
       "<matplotlib.figure.Figure at 0x7f91eeb140f0>"
      ]
     },
     "metadata": {},
     "output_type": "display_data"
    }
   ],
   "source": [
    "product_dist(0)"
   ]
  },
  {
   "cell_type": "code",
   "execution_count": 25,
   "metadata": {},
   "outputs": [
    {
     "data": {
      "text/plain": [
       "[('100% Mighty Mango Juice Smoothie', 1.4718801),\n",
       " ('All Natural Honey Almond Butter', 1.4718801),\n",
       " ('Apple Cinnamon Fig Bar', 1.4718801),\n",
       " ('Artichoke Spinach Dip', 1.4718801),\n",
       " ('Asian Pears', 1.4718801),\n",
       " ('Baked Organic Sea Salt Crunchy Pea Snack', 1.4718801),\n",
       " ('Banana', 1.4718801),\n",
       " ('Birthday Cake Light Ice Cream', 1.4718801),\n",
       " ('Black Bean Vegetables Burrito', 1.4718801),\n",
       " ('Black Plum', 1.4718801),\n",
       " ('Blueberry Yoghurt', 1.4718801),\n",
       " ('Broccoli & Cheddar Bake Meal Bowl', 1.4718801),\n",
       " ('Brown Rice Black-Eyed Peas and Veggies Bowl', 1.4718801),\n",
       " ('Bubblegum Flavor Natural Chewing Gum', 1.4718801),\n",
       " ('Carrot Ginger Soup', 1.4718801),\n",
       " ('Cheddar Bunnies Snack Crackers', 1.4718801),\n",
       " ('Cherry Pomegranate Greek Yogurt', 1.4718801),\n",
       " ('Chicken Caesar Salad', 1.4718801),\n",
       " ('Chicken Tikka Masala with Cumin Infused Basmati Rice Frozen Meal',\n",
       "  1.4718801),\n",
       " ('Chipotle Beef & Pork Realstick', 1.4718801)]"
      ]
     },
     "execution_count": 25,
     "metadata": {},
     "output_type": "execute_result"
    }
   ],
   "source": [
    "user_recommendation_nn(0)"
   ]
  },
  {
   "cell_type": "code",
   "execution_count": 28,
   "metadata": {
    "scrolled": true
   },
   "outputs": [
    {
     "data": {
      "image/png": "[encoded data removed]",
      "text/plain": [
       "<matplotlib.figure.Figure at 0x7f922b91ecc0>"
      ]
     },
     "metadata": {},
     "output_type": "display_data"
    }
   ],
   "source": [
    "product_dist(99)"
   ]
  },
  {
   "cell_type": "code",
   "execution_count": 26,
   "metadata": {},
   "outputs": [
    {
     "data": {
      "text/plain": [
       "[('0% Greek Strained Yogurt', 1.4718801),\n",
       " ('Aged White Cheddar Popcorn', 1.4718801),\n",
       " ('Bag of Organic Bananas', 1.4718801),\n",
       " ('Bartlett Pears', 1.4718801),\n",
       " ('Cinnamon Toast Crunch', 1.4718801),\n",
       " ('Creamy Almond Butter', 1.4718801),\n",
       " ('Honeycrisp Apples', 1.4718801),\n",
       " ('Milk Chocolate Almonds', 1.4718801),\n",
       " ('Organic Fuji Apples', 1.4718801),\n",
       " ('Organic Half & Half', 1.4718801),\n",
       " ('Organic String Cheese', 1.4718801),\n",
       " ('Organic Unsweetened Almond Milk', 1.4718801),\n",
       " ('Organic Unsweetened Vanilla Almond Milk', 1.4718801),\n",
       " ('Organic Whole Milk', 1.4718801),\n",
       " ('Original Beef Jerky', 1.4718801),\n",
       " ('Pistachios', 1.4718801),\n",
       " ('Soda', 1.4718801),\n",
       " ('XL Pick-A-Size Paper Towel Rolls', 1.4718801),\n",
       " ('Zero Calorie Cola', 1.4718801),\n",
       " ('100% Mighty Mango Juice Smoothie', 1.4718801)]"
      ]
     },
     "execution_count": 26,
     "metadata": {},
     "output_type": "execute_result"
    }
   ],
   "source": [
    "user_recommendation_nn(99)"
   ]
  },
  {
   "cell_type": "markdown",
   "metadata": {},
   "source": [
    "## Analyze results"
   ]
  },
  {
   "cell_type": "markdown",
   "metadata": {},
   "source": [
    "For simplicity, we restrict the analysis to the top 2000 most popular products."
   ]
  },
  {
   "cell_type": "code",
   "execution_count": 82,
   "metadata": {
    "collapsed": true
   },
   "outputs": [],
   "source": [
    "g_names=prod_ratings.groupby(['product_name'])['product_count'].sum()\n",
    "g=prod_ratings.groupby(['product_id'])['product_count'].sum()\n",
    "\n",
    "topProds_names = g_names.sort_values(ascending=False)[:2000]\n",
    "topProds=g.sort_values(ascending=False)[:2000]\n",
    "topProds = np.array(topProds.index)"
   ]
  },
  {
   "cell_type": "code",
   "execution_count": 84,
   "metadata": {},
   "outputs": [
    {
     "data": {
      "text/plain": [
       "product_name\n",
       "Banana                      491291\n",
       "Bag of Organic Bananas      394930\n",
       "Organic Strawberries        275577\n",
       "Organic Baby Spinach        251705\n",
       "Organic Hass Avocado        220877\n",
       "Organic Avocado             184224\n",
       "Large Lemon                 160792\n",
       "Strawberries                149445\n",
       "Limes                       146660\n",
       "Organic Whole Milk          142813\n",
       "Organic Raspberries         142603\n",
       "Organic Yellow Onion        117716\n",
       "Organic Garlic              113936\n",
       "Organic Zucchini            109412\n",
       "Organic Blueberries         105026\n",
       "Cucumber Kirby               99728\n",
       "Organic Fuji Apple           92889\n",
       "Organic Lemon                91251\n",
       "Organic Grape Tomatoes       88078\n",
       "Apple Honeycrisp Organic     87272\n",
       "Name: product_count, dtype: int64"
      ]
     },
     "execution_count": 84,
     "metadata": {},
     "output_type": "execute_result"
    }
   ],
   "source": [
    "#Here are the top 20 prod by name\n",
    "topProds_names[:20]"
   ]
  },
  {
   "cell_type": "code",
   "execution_count": 85,
   "metadata": {},
   "outputs": [
    {
     "data": {
      "text/plain": [
       "array([   25,     2,   159, ...,  4297,  2524, 10778])"
      ]
     },
     "execution_count": 85,
     "metadata": {},
     "output_type": "execute_result"
    }
   ],
   "source": [
    "#Here are their ids\n",
    "topProds"
   ]
  },
  {
   "cell_type": "markdown",
   "metadata": {},
   "source": [
    "We can look at the top and bottom rated products and their embeddings"
   ]
  },
  {
   "cell_type": "code",
   "execution_count": 75,
   "metadata": {},
   "outputs": [
    {
     "data": {
      "text/plain": [
       "(2000, 5)"
      ]
     },
     "execution_count": 75,
     "metadata": {},
     "output_type": "execute_result"
    }
   ],
   "source": [
    "get_prod_emb = Model(prod_in, p)\n",
    "prod_emb = np.squeeze(get_prod_emb.predict([topProds]))\n",
    "prod_emb.shape"
   ]
  },
  {
   "cell_type": "markdown",
   "metadata": {},
   "source": [
    "Because it's hard to interpret 50 embeddings, we use [PCA](https://plot.ly/ipython-notebooks/principal-component-analysis/) to simplify them down to just 3 vectors. \n"
   ]
  },
  {
   "cell_type": "code",
   "execution_count": 87,
   "metadata": {
    "collapsed": true
   },
   "outputs": [],
   "source": [
    "from sklearn.decomposition import PCA\n",
    "\n",
    "pca = PCA(n_components=3)\n",
    "prod_pca = pca.fit(prod_emb.T).components_"
   ]
  },
  {
   "cell_type": "markdown",
   "metadata": {},
   "source": [
    "Here's the 1st component. Hard to tell what these features represent...\n"
   ]
  },
  {
   "cell_type": "code",
   "execution_count": 102,
   "metadata": {
    "collapsed": true
   },
   "outputs": [],
   "source": [
    "c0 = prod_pca[0]\n",
    "prod_comp = [(c, prod_id2name[i]) for c,i in zip(c0, topProds)]"
   ]
  },
  {
   "cell_type": "code",
   "execution_count": 106,
   "metadata": {},
   "outputs": [
    {
     "data": {
      "text/plain": [
       "[(0.15483096211102707, '100% Recycled Paper Towels'),\n",
       " (0.13612726855216908, 'Milk, Vitamin D'),\n",
       " (0.13316449503257716, 'Organic Large Grade A Eggs'),\n",
       " (0.13207441506901763, 'Large Grade AA Organic Eggs'),\n",
       " (0.11981001063915749, 'Kale & Spinach Superfood Puffs'),\n",
       " (0.11981001063915749, 'Spicy Hummus'),\n",
       " (0.10189377917844478, 'Cara Cara Navel Orange'),\n",
       " (0.096916387942302687, 'Cherry Pomegranate Greek Yogurt'),\n",
       " (0.092252645342378259, 'Organic Lactose Free Whole Milk'),\n",
       " (0.090317639393340074, 'Sliced Sourdough Bread')]"
      ]
     },
     "execution_count": 106,
     "metadata": {},
     "output_type": "execute_result"
    }
   ],
   "source": [
    "sorted(prod_comp, key=itemgetter(0), reverse=True)[:10]"
   ]
  },
  {
   "cell_type": "code",
   "execution_count": 107,
   "metadata": {},
   "outputs": [
    {
     "data": {
      "text/plain": [
       "[(-0.1475778739052466, 'Total 2% Lowfat Plain Greek Yogurt'),\n",
       " (-0.14481574527893071, 'Petit Suisse Fruit'),\n",
       " (-0.14481574527893071, 'Lightly Salted Rice Cakes'),\n",
       " (-0.14087222597223018, 'Organic Air Chilled Whole Chicken'),\n",
       " (-0.13773137170534866, 'Thick & Crispy Tortilla Chips'),\n",
       " (-0.13412214880956483, 'Pear & Mango Stage 2 Baby Food'),\n",
       " (-0.13398924605557483, 'Unsweetened Almond Milk'),\n",
       " (-0.13398924605557483, 'Original Beef Jerky'),\n",
       " (-0.13032572885899943, 'Chocolate Peanut Butter Cup Gelato'),\n",
       " (-0.1255435435712012, 'Organic White English Muffins')]"
      ]
     },
     "execution_count": 107,
     "metadata": {},
     "output_type": "execute_result"
    }
   ],
   "source": [
    "sorted(prod_comp, key=itemgetter(0))[:10]"
   ]
  },
  {
   "cell_type": "markdown",
   "metadata": {},
   "source": [
    "Here's the 2nd component"
   ]
  },
  {
   "cell_type": "code",
   "execution_count": 108,
   "metadata": {
    "collapsed": true
   },
   "outputs": [],
   "source": [
    "c1 = prod_pca[1]\n",
    "prod_comp = [(c, prod_id2name[i]) for c,i in zip(c1, topProds)]"
   ]
  },
  {
   "cell_type": "code",
   "execution_count": 109,
   "metadata": {},
   "outputs": [
    {
     "data": {
      "text/plain": [
       "[(0.21859038069024433, 'Semi-Sweet Chocolate Premium Baking Chips'),\n",
       " (0.14147974778116565, 'Cage Free Brown Eggs-Large, Grade A'),\n",
       " (0.12989311011684268, 'Lemon Lime Thirst Quencher'),\n",
       " (0.12989311011684268, '70% Dark Chocolate Salted Almond Bar'),\n",
       " (0.12856463475013274, 'Grilled Chicken Breast Strips'),\n",
       " (0.12459902094336009, 'Fruit Punch Sports Drink'),\n",
       " (0.11761902277550082, 'Smoked Turkey Breast Slices'),\n",
       " (0.11485107218951596, 'Canned Aranciata Orange'),\n",
       " (0.11393950537569207, 'Organic YoKids Very Berry Smoothies'),\n",
       " (0.11118859748767392, 'Dairy Free Unsweetened Vanilla Coconut Milk')]"
      ]
     },
     "execution_count": 109,
     "metadata": {},
     "output_type": "execute_result"
    }
   ],
   "source": [
    "sorted(prod_comp, key=itemgetter(0),reverse=True)[:10]"
   ]
  },
  {
   "cell_type": "code",
   "execution_count": 110,
   "metadata": {},
   "outputs": [
    {
     "data": {
      "text/plain": [
       "[(-0.14266125510546629, 'Organic Australian Style Vanilla Lowfat Yogurt'),\n",
       " (-0.13364401270878642, 'All Natural Marinara Sauce'),\n",
       " (-0.12685217902382068, 'Whole Hearts of Palm'),\n",
       " (-0.12685217902382068, 'Original Roasted Seaweed Snacks'),\n",
       " (-0.12685217902382068, 'Power Grains Waffles 6 ct'),\n",
       " (-0.12410139278757265, 'Traditional Favorites Tomato & Basil Pasta Sauce'),\n",
       " (-0.12410139278757265, 'Sea Salt Made With Organic Grain Rice Chips'),\n",
       " (-0.11930182406585188, 'Sweet Baguette'),\n",
       " (-0.11291793646265734, 'Organic Apple Juice'),\n",
       " (-0.1115673626045055, 'Lactose Free 2% Reduced Fat Milk')]"
      ]
     },
     "execution_count": 110,
     "metadata": {},
     "output_type": "execute_result"
    }
   ],
   "source": [
    "sorted(prod_comp, key=itemgetter(0))[:10]"
   ]
  },
  {
   "cell_type": "markdown",
   "metadata": {},
   "source": [
    "Here's the 3rd component"
   ]
  },
  {
   "cell_type": "code",
   "execution_count": 111,
   "metadata": {
    "collapsed": true
   },
   "outputs": [],
   "source": [
    "c2 = prod_pca[2]\n",
    "prod_comp = [(c, prod_id2name[i]) for c,i in zip(c2, topProds)]"
   ]
  },
  {
   "cell_type": "code",
   "execution_count": 112,
   "metadata": {},
   "outputs": [
    {
     "data": {
      "text/plain": [
       "[(0.15922550253698031, 'Gala Apples'),\n",
       " (0.14917539074052383, 'Lemon Hummus'),\n",
       " (0.14706261587946901, 'Reduced Fat 2% Milk'),\n",
       " (0.14688199269880578, 'Sustainably Soft Bath Tissue'),\n",
       " (0.13504192843320212, 'Strawberry Flavored Organic Z Fruit Rope'),\n",
       " (0.12604081795927774, 'Blood Orange Italian Soda'),\n",
       " (0.10749824997436265, 'Organic Pinto Beans'),\n",
       " (0.10490779942135213, 'Lemon Lime Thirst Quencher'),\n",
       " (0.10490779942135213, '70% Dark Chocolate Salted Almond Bar'),\n",
       " (0.10294036825548405, 'Extralean Ground Turkey Breast')]"
      ]
     },
     "execution_count": 112,
     "metadata": {},
     "output_type": "execute_result"
    }
   ],
   "source": [
    "sorted(prod_comp, key=itemgetter(0),reverse=True)[:10]"
   ]
  },
  {
   "cell_type": "code",
   "execution_count": 113,
   "metadata": {},
   "outputs": [
    {
     "data": {
      "text/plain": [
       "[(-0.15773329586238416, 'Select-A-Size White Paper Towels'),\n",
       " (-0.14754491866795694, 'Pink Lady Apple Kombucha'),\n",
       " (-0.13795691456246365, 'Apple and Carrot Stage 2 Baby Food'),\n",
       " (-0.12907142451422335, 'Salted Tub of Butter'),\n",
       " (-0.11507420827434961, 'Classic Hummus'),\n",
       " (-0.11505939207301218, 'Whole Wheat Crackers'),\n",
       " (-0.10913640296433386, 'Unsweetened Blackberry Water'),\n",
       " (-0.10913640296433386, 'Annie Peely Fruit 4.5 Z'),\n",
       " (-0.10707321910730118, 'Crunchy Peanut Butter Energy Bar'),\n",
       " (-0.10400664765467768,\n",
       "  'Stage 1 Apples & Strawberries Organic Pureed Baby Food')]"
      ]
     },
     "execution_count": 113,
     "metadata": {},
     "output_type": "execute_result"
    }
   ],
   "source": [
    "sorted(prod_comp, key=itemgetter(0))[:10]"
   ]
  },
  {
   "cell_type": "markdown",
   "metadata": {},
   "source": [
    "We can draw a picture to see how various products appear on the map of these components. This picture shows the 1st and 3rd components."
   ]
  },
  {
   "cell_type": "code",
   "execution_count": 114,
   "metadata": {
    "scrolled": true
   },
   "outputs": [
    {
     "data": {
      "image/png": "[encoded data removed]",
      "text/plain": [
       "<matplotlib.figure.Figure at 0x7f90ceb50c88>"
      ]
     },
     "metadata": {},
     "output_type": "display_data"
    }
   ],
   "source": [
    "start=50; end=100\n",
    "X = c0[start:end]\n",
    "Y = c2[start:end]\n",
    "plt.figure(figsize=(15,15))\n",
    "plt.scatter(X, Y)\n",
    "\n",
    "for i, x, y in zip(topProds[start:end], X, Y):\n",
    "    plt.text(x,y,prod_id2name[i], color=np.random.rand(3)*0.7, fontsize=14)\n",
    "plt.show()"
   ]
  }
 ],
 "metadata": {
  "kernelspec": {
   "display_name": "Python 3",
   "language": "python",
   "name": "python3"
  },
  "language_info": {
   "codemirror_mode": {
    "name": "ipython",
    "version": 3
   },
   "file_extension": ".py",
   "mimetype": "text/x-python",
   "name": "python",
   "nbconvert_exporter": "python",
   "pygments_lexer": "ipython3",
   "version": "3.6.1"
  },
  "toc": {
   "colors": {
    "hover_highlight": "#DAA520",
    "navigate_num": "#000000",
    "navigate_text": "#333333",
    "running_highlight": "#FF0000",
    "selected_highlight": "#FFD700",
    "sidebar_border": "#EEEEEE",
    "wrapper_background": "#FFFFFF"
   },
   "moveMenuLeft": true,
   "nav_menu": {
    "height": "105px",
    "width": "254px"
   },
   "navigate_menu": true,
   "number_sections": true,
   "sideBar": true,
   "threshold": 4,
   "toc_cell": false,
   "toc_position": {
    "height": "709px",
    "left": "0px",
    "right": "1431.82px",
    "top": "82px",
    "width": "255px"
   },
   "toc_section_display": "block",
   "toc_window_display": true,
   "widenNotebook": false
  }
 },
 "nbformat": 4,
 "nbformat_minor": 1
}
