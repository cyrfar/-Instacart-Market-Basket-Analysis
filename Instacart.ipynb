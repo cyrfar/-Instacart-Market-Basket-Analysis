{
 "cells": [
  {
   "cell_type": "code",
   "execution_count": 1,
   "metadata": {
    "scrolled": true
   },
   "outputs": [
    {
     "name": "stderr",
     "output_type": "stream",
     "text": [
      "Using TensorFlow backend.\n"
     ]
    }
   ],
   "source": [
    "from __future__ import division, print_function\n",
    "%matplotlib inline\n",
    "from utils import *\n",
    "from keras.layers.merge import dot, add, concatenate\n",
    "from pandas_summary import DataFrameSummary\n",
    "import seaborn as sns"
   ]
  },
  {
   "cell_type": "markdown",
   "metadata": {},
   "source": [
    "The goal is to predict the next order basket (list of products) for each user in the test set, given info about its prior orders."
   ]
  },
  {
   "cell_type": "markdown",
   "metadata": {},
   "source": [
    "# Set up data"
   ]
  },
  {
   "cell_type": "markdown",
   "metadata": {},
   "source": [
    "Read data"
   ]
  },
  {
   "cell_type": "code",
   "execution_count": 8,
   "metadata": {
    "collapsed": true,
    "scrolled": true
   },
   "outputs": [],
   "source": [
    "order_products_train_df = pd.read_csv(\"data/order_products__train.csv\")\n",
    "order_products_prior_df = pd.read_csv(\"data/order_products__prior.csv\")\n",
    "orders_df = pd.read_csv(\"data/orders.csv\")\n",
    "products_df = pd.read_csv(\"data/products.csv\")\n",
    "aisles_df = pd.read_csv(\"data/aisles.csv\")\n",
    "departments_df = pd.read_csv(\"data/departments.csv\")"
   ]
  },
  {
   "cell_type": "markdown",
   "metadata": {},
   "source": [
    "Take a peak at the data"
   ]
  },
  {
   "cell_type": "code",
   "execution_count": 9,
   "metadata": {},
   "outputs": [
    {
     "data": {
      "text/html": [
       "<div>\n",
       "<style>\n",
       "    .dataframe thead tr:only-child th {\n",
       "        text-align: right;\n",
       "    }\n",
       "\n",
       "    .dataframe thead th {\n",
       "        text-align: left;\n",
       "    }\n",
       "\n",
       "    .dataframe tbody tr th {\n",
       "        vertical-align: top;\n",
       "    }\n",
       "</style>\n",
       "<table border=\"1\" class=\"dataframe\">\n",
       "  <thead>\n",
       "    <tr style=\"text-align: right;\">\n",
       "      <th></th>\n",
       "      <th>order_id</th>\n",
       "      <th>user_id</th>\n",
       "      <th>eval_set</th>\n",
       "      <th>order_number</th>\n",
       "      <th>order_dow</th>\n",
       "      <th>order_hour_of_day</th>\n",
       "      <th>days_since_prior_order</th>\n",
       "    </tr>\n",
       "  </thead>\n",
       "  <tbody>\n",
       "    <tr>\n",
       "      <th>0</th>\n",
       "      <td>2539329</td>\n",
       "      <td>1</td>\n",
       "      <td>prior</td>\n",
       "      <td>1</td>\n",
       "      <td>2</td>\n",
       "      <td>8</td>\n",
       "      <td>NaN</td>\n",
       "    </tr>\n",
       "    <tr>\n",
       "      <th>1</th>\n",
       "      <td>2398795</td>\n",
       "      <td>1</td>\n",
       "      <td>prior</td>\n",
       "      <td>2</td>\n",
       "      <td>3</td>\n",
       "      <td>7</td>\n",
       "      <td>15.0</td>\n",
       "    </tr>\n",
       "    <tr>\n",
       "      <th>2</th>\n",
       "      <td>473747</td>\n",
       "      <td>1</td>\n",
       "      <td>prior</td>\n",
       "      <td>3</td>\n",
       "      <td>3</td>\n",
       "      <td>12</td>\n",
       "      <td>21.0</td>\n",
       "    </tr>\n",
       "    <tr>\n",
       "      <th>3</th>\n",
       "      <td>2254736</td>\n",
       "      <td>1</td>\n",
       "      <td>prior</td>\n",
       "      <td>4</td>\n",
       "      <td>4</td>\n",
       "      <td>7</td>\n",
       "      <td>29.0</td>\n",
       "    </tr>\n",
       "    <tr>\n",
       "      <th>4</th>\n",
       "      <td>431534</td>\n",
       "      <td>1</td>\n",
       "      <td>prior</td>\n",
       "      <td>5</td>\n",
       "      <td>4</td>\n",
       "      <td>15</td>\n",
       "      <td>28.0</td>\n",
       "    </tr>\n",
       "  </tbody>\n",
       "</table>\n",
       "</div>"
      ],
      "text/plain": [
       "   order_id  user_id eval_set  order_number  order_dow  order_hour_of_day  \\\n",
       "0   2539329        1    prior             1          2                  8   \n",
       "1   2398795        1    prior             2          3                  7   \n",
       "2    473747        1    prior             3          3                 12   \n",
       "3   2254736        1    prior             4          4                  7   \n",
       "4    431534        1    prior             5          4                 15   \n",
       "\n",
       "   days_since_prior_order  \n",
       "0                     NaN  \n",
       "1                    15.0  \n",
       "2                    21.0  \n",
       "3                    29.0  \n",
       "4                    28.0  "
      ]
     },
     "execution_count": 9,
     "metadata": {},
     "output_type": "execute_result"
    }
   ],
   "source": [
    "orders_df.head()"
   ]
  },
  {
   "cell_type": "code",
   "execution_count": 10,
   "metadata": {},
   "outputs": [
    {
     "data": {
      "text/html": [
       "<div>\n",
       "<style>\n",
       "    .dataframe thead tr:only-child th {\n",
       "        text-align: right;\n",
       "    }\n",
       "\n",
       "    .dataframe thead th {\n",
       "        text-align: left;\n",
       "    }\n",
       "\n",
       "    .dataframe tbody tr th {\n",
       "        vertical-align: top;\n",
       "    }\n",
       "</style>\n",
       "<table border=\"1\" class=\"dataframe\">\n",
       "  <thead>\n",
       "    <tr style=\"text-align: right;\">\n",
       "      <th></th>\n",
       "      <th>order_id</th>\n",
       "      <th>product_id</th>\n",
       "      <th>add_to_cart_order</th>\n",
       "      <th>reordered</th>\n",
       "    </tr>\n",
       "  </thead>\n",
       "  <tbody>\n",
       "    <tr>\n",
       "      <th>0</th>\n",
       "      <td>2</td>\n",
       "      <td>33120</td>\n",
       "      <td>1</td>\n",
       "      <td>1</td>\n",
       "    </tr>\n",
       "    <tr>\n",
       "      <th>1</th>\n",
       "      <td>2</td>\n",
       "      <td>28985</td>\n",
       "      <td>2</td>\n",
       "      <td>1</td>\n",
       "    </tr>\n",
       "    <tr>\n",
       "      <th>2</th>\n",
       "      <td>2</td>\n",
       "      <td>9327</td>\n",
       "      <td>3</td>\n",
       "      <td>0</td>\n",
       "    </tr>\n",
       "    <tr>\n",
       "      <th>3</th>\n",
       "      <td>2</td>\n",
       "      <td>45918</td>\n",
       "      <td>4</td>\n",
       "      <td>1</td>\n",
       "    </tr>\n",
       "    <tr>\n",
       "      <th>4</th>\n",
       "      <td>2</td>\n",
       "      <td>30035</td>\n",
       "      <td>5</td>\n",
       "      <td>0</td>\n",
       "    </tr>\n",
       "  </tbody>\n",
       "</table>\n",
       "</div>"
      ],
      "text/plain": [
       "   order_id  product_id  add_to_cart_order  reordered\n",
       "0         2       33120                  1          1\n",
       "1         2       28985                  2          1\n",
       "2         2        9327                  3          0\n",
       "3         2       45918                  4          1\n",
       "4         2       30035                  5          0"
      ]
     },
     "execution_count": 10,
     "metadata": {},
     "output_type": "execute_result"
    }
   ],
   "source": [
    "order_products_prior_df.head()"
   ]
  },
  {
   "cell_type": "code",
   "execution_count": 11,
   "metadata": {},
   "outputs": [
    {
     "data": {
      "text/html": [
       "<div>\n",
       "<style>\n",
       "    .dataframe thead tr:only-child th {\n",
       "        text-align: right;\n",
       "    }\n",
       "\n",
       "    .dataframe thead th {\n",
       "        text-align: left;\n",
       "    }\n",
       "\n",
       "    .dataframe tbody tr th {\n",
       "        vertical-align: top;\n",
       "    }\n",
       "</style>\n",
       "<table border=\"1\" class=\"dataframe\">\n",
       "  <thead>\n",
       "    <tr style=\"text-align: right;\">\n",
       "      <th></th>\n",
       "      <th>order_id</th>\n",
       "      <th>product_id</th>\n",
       "      <th>add_to_cart_order</th>\n",
       "      <th>reordered</th>\n",
       "    </tr>\n",
       "  </thead>\n",
       "  <tbody>\n",
       "    <tr>\n",
       "      <th>0</th>\n",
       "      <td>1</td>\n",
       "      <td>49302</td>\n",
       "      <td>1</td>\n",
       "      <td>1</td>\n",
       "    </tr>\n",
       "    <tr>\n",
       "      <th>1</th>\n",
       "      <td>1</td>\n",
       "      <td>11109</td>\n",
       "      <td>2</td>\n",
       "      <td>1</td>\n",
       "    </tr>\n",
       "    <tr>\n",
       "      <th>2</th>\n",
       "      <td>1</td>\n",
       "      <td>10246</td>\n",
       "      <td>3</td>\n",
       "      <td>0</td>\n",
       "    </tr>\n",
       "    <tr>\n",
       "      <th>3</th>\n",
       "      <td>1</td>\n",
       "      <td>49683</td>\n",
       "      <td>4</td>\n",
       "      <td>0</td>\n",
       "    </tr>\n",
       "    <tr>\n",
       "      <th>4</th>\n",
       "      <td>1</td>\n",
       "      <td>43633</td>\n",
       "      <td>5</td>\n",
       "      <td>1</td>\n",
       "    </tr>\n",
       "  </tbody>\n",
       "</table>\n",
       "</div>"
      ],
      "text/plain": [
       "   order_id  product_id  add_to_cart_order  reordered\n",
       "0         1       49302                  1          1\n",
       "1         1       11109                  2          1\n",
       "2         1       10246                  3          0\n",
       "3         1       49683                  4          0\n",
       "4         1       43633                  5          1"
      ]
     },
     "execution_count": 11,
     "metadata": {},
     "output_type": "execute_result"
    }
   ],
   "source": [
    "order_products_train_df.head()"
   ]
  },
  {
   "cell_type": "code",
   "execution_count": 12,
   "metadata": {},
   "outputs": [
    {
     "data": {
      "text/html": [
       "<div>\n",
       "<style>\n",
       "    .dataframe thead tr:only-child th {\n",
       "        text-align: right;\n",
       "    }\n",
       "\n",
       "    .dataframe thead th {\n",
       "        text-align: left;\n",
       "    }\n",
       "\n",
       "    .dataframe tbody tr th {\n",
       "        vertical-align: top;\n",
       "    }\n",
       "</style>\n",
       "<table border=\"1\" class=\"dataframe\">\n",
       "  <thead>\n",
       "    <tr style=\"text-align: right;\">\n",
       "      <th></th>\n",
       "      <th>product_id</th>\n",
       "      <th>product_name</th>\n",
       "      <th>aisle_id</th>\n",
       "      <th>department_id</th>\n",
       "    </tr>\n",
       "  </thead>\n",
       "  <tbody>\n",
       "    <tr>\n",
       "      <th>0</th>\n",
       "      <td>1</td>\n",
       "      <td>Chocolate Sandwich Cookies</td>\n",
       "      <td>61</td>\n",
       "      <td>19</td>\n",
       "    </tr>\n",
       "    <tr>\n",
       "      <th>1</th>\n",
       "      <td>2</td>\n",
       "      <td>All-Seasons Salt</td>\n",
       "      <td>104</td>\n",
       "      <td>13</td>\n",
       "    </tr>\n",
       "    <tr>\n",
       "      <th>2</th>\n",
       "      <td>3</td>\n",
       "      <td>Robust Golden Unsweetened Oolong Tea</td>\n",
       "      <td>94</td>\n",
       "      <td>7</td>\n",
       "    </tr>\n",
       "    <tr>\n",
       "      <th>3</th>\n",
       "      <td>4</td>\n",
       "      <td>Smart Ones Classic Favorites Mini Rigatoni Wit...</td>\n",
       "      <td>38</td>\n",
       "      <td>1</td>\n",
       "    </tr>\n",
       "    <tr>\n",
       "      <th>4</th>\n",
       "      <td>5</td>\n",
       "      <td>Green Chile Anytime Sauce</td>\n",
       "      <td>5</td>\n",
       "      <td>13</td>\n",
       "    </tr>\n",
       "  </tbody>\n",
       "</table>\n",
       "</div>"
      ],
      "text/plain": [
       "   product_id                                       product_name  aisle_id  \\\n",
       "0           1                         Chocolate Sandwich Cookies        61   \n",
       "1           2                                   All-Seasons Salt       104   \n",
       "2           3               Robust Golden Unsweetened Oolong Tea        94   \n",
       "3           4  Smart Ones Classic Favorites Mini Rigatoni Wit...        38   \n",
       "4           5                          Green Chile Anytime Sauce         5   \n",
       "\n",
       "   department_id  \n",
       "0             19  \n",
       "1             13  \n",
       "2              7  \n",
       "3              1  \n",
       "4             13  "
      ]
     },
     "execution_count": 12,
     "metadata": {},
     "output_type": "execute_result"
    }
   ],
   "source": [
    "products_df.head()"
   ]
  },
  {
   "cell_type": "code",
   "execution_count": 13,
   "metadata": {},
   "outputs": [
    {
     "data": {
      "text/html": [
       "<div>\n",
       "<style>\n",
       "    .dataframe thead tr:only-child th {\n",
       "        text-align: right;\n",
       "    }\n",
       "\n",
       "    .dataframe thead th {\n",
       "        text-align: left;\n",
       "    }\n",
       "\n",
       "    .dataframe tbody tr th {\n",
       "        vertical-align: top;\n",
       "    }\n",
       "</style>\n",
       "<table border=\"1\" class=\"dataframe\">\n",
       "  <thead>\n",
       "    <tr style=\"text-align: right;\">\n",
       "      <th></th>\n",
       "      <th>product_id</th>\n",
       "      <th>product_name</th>\n",
       "      <th>aisle_id</th>\n",
       "      <th>department_id</th>\n",
       "    </tr>\n",
       "  </thead>\n",
       "  <tbody>\n",
       "    <tr>\n",
       "      <th>0</th>\n",
       "      <td>1</td>\n",
       "      <td>Chocolate Sandwich Cookies</td>\n",
       "      <td>61</td>\n",
       "      <td>19</td>\n",
       "    </tr>\n",
       "    <tr>\n",
       "      <th>1</th>\n",
       "      <td>2</td>\n",
       "      <td>All-Seasons Salt</td>\n",
       "      <td>104</td>\n",
       "      <td>13</td>\n",
       "    </tr>\n",
       "    <tr>\n",
       "      <th>2</th>\n",
       "      <td>3</td>\n",
       "      <td>Robust Golden Unsweetened Oolong Tea</td>\n",
       "      <td>94</td>\n",
       "      <td>7</td>\n",
       "    </tr>\n",
       "    <tr>\n",
       "      <th>3</th>\n",
       "      <td>4</td>\n",
       "      <td>Smart Ones Classic Favorites Mini Rigatoni Wit...</td>\n",
       "      <td>38</td>\n",
       "      <td>1</td>\n",
       "    </tr>\n",
       "    <tr>\n",
       "      <th>4</th>\n",
       "      <td>5</td>\n",
       "      <td>Green Chile Anytime Sauce</td>\n",
       "      <td>5</td>\n",
       "      <td>13</td>\n",
       "    </tr>\n",
       "    <tr>\n",
       "      <th>5</th>\n",
       "      <td>6</td>\n",
       "      <td>Dry Nose Oil</td>\n",
       "      <td>11</td>\n",
       "      <td>11</td>\n",
       "    </tr>\n",
       "    <tr>\n",
       "      <th>6</th>\n",
       "      <td>7</td>\n",
       "      <td>Pure Coconut Water With Orange</td>\n",
       "      <td>98</td>\n",
       "      <td>7</td>\n",
       "    </tr>\n",
       "    <tr>\n",
       "      <th>7</th>\n",
       "      <td>8</td>\n",
       "      <td>Cut Russet Potatoes Steam N' Mash</td>\n",
       "      <td>116</td>\n",
       "      <td>1</td>\n",
       "    </tr>\n",
       "    <tr>\n",
       "      <th>8</th>\n",
       "      <td>9</td>\n",
       "      <td>Light Strawberry Blueberry Yogurt</td>\n",
       "      <td>120</td>\n",
       "      <td>16</td>\n",
       "    </tr>\n",
       "    <tr>\n",
       "      <th>9</th>\n",
       "      <td>10</td>\n",
       "      <td>Sparkling Orange Juice &amp; Prickly Pear Beverage</td>\n",
       "      <td>115</td>\n",
       "      <td>7</td>\n",
       "    </tr>\n",
       "    <tr>\n",
       "      <th>10</th>\n",
       "      <td>11</td>\n",
       "      <td>Peach Mango Juice</td>\n",
       "      <td>31</td>\n",
       "      <td>7</td>\n",
       "    </tr>\n",
       "    <tr>\n",
       "      <th>11</th>\n",
       "      <td>12</td>\n",
       "      <td>Chocolate Fudge Layer Cake</td>\n",
       "      <td>119</td>\n",
       "      <td>1</td>\n",
       "    </tr>\n",
       "    <tr>\n",
       "      <th>12</th>\n",
       "      <td>13</td>\n",
       "      <td>Saline Nasal Mist</td>\n",
       "      <td>11</td>\n",
       "      <td>11</td>\n",
       "    </tr>\n",
       "    <tr>\n",
       "      <th>13</th>\n",
       "      <td>14</td>\n",
       "      <td>Fresh Scent Dishwasher Cleaner</td>\n",
       "      <td>74</td>\n",
       "      <td>17</td>\n",
       "    </tr>\n",
       "    <tr>\n",
       "      <th>14</th>\n",
       "      <td>15</td>\n",
       "      <td>Overnight Diapers Size 6</td>\n",
       "      <td>56</td>\n",
       "      <td>18</td>\n",
       "    </tr>\n",
       "    <tr>\n",
       "      <th>15</th>\n",
       "      <td>16</td>\n",
       "      <td>Mint Chocolate Flavored Syrup</td>\n",
       "      <td>103</td>\n",
       "      <td>19</td>\n",
       "    </tr>\n",
       "    <tr>\n",
       "      <th>16</th>\n",
       "      <td>17</td>\n",
       "      <td>Rendered Duck Fat</td>\n",
       "      <td>35</td>\n",
       "      <td>12</td>\n",
       "    </tr>\n",
       "    <tr>\n",
       "      <th>17</th>\n",
       "      <td>18</td>\n",
       "      <td>Pizza for One Suprema  Frozen Pizza</td>\n",
       "      <td>79</td>\n",
       "      <td>1</td>\n",
       "    </tr>\n",
       "    <tr>\n",
       "      <th>18</th>\n",
       "      <td>19</td>\n",
       "      <td>Gluten Free Quinoa Three Cheese &amp; Mushroom Blend</td>\n",
       "      <td>63</td>\n",
       "      <td>9</td>\n",
       "    </tr>\n",
       "    <tr>\n",
       "      <th>19</th>\n",
       "      <td>20</td>\n",
       "      <td>Pomegranate Cranberry &amp; Aloe Vera Enrich Drink</td>\n",
       "      <td>98</td>\n",
       "      <td>7</td>\n",
       "    </tr>\n",
       "    <tr>\n",
       "      <th>20</th>\n",
       "      <td>21</td>\n",
       "      <td>Small &amp; Medium Dental Dog Treats</td>\n",
       "      <td>40</td>\n",
       "      <td>8</td>\n",
       "    </tr>\n",
       "    <tr>\n",
       "      <th>21</th>\n",
       "      <td>22</td>\n",
       "      <td>Fresh Breath Oral Rinse Mild Mint</td>\n",
       "      <td>20</td>\n",
       "      <td>11</td>\n",
       "    </tr>\n",
       "    <tr>\n",
       "      <th>22</th>\n",
       "      <td>23</td>\n",
       "      <td>Organic Turkey Burgers</td>\n",
       "      <td>49</td>\n",
       "      <td>12</td>\n",
       "    </tr>\n",
       "    <tr>\n",
       "      <th>23</th>\n",
       "      <td>24</td>\n",
       "      <td>Tri-Vi-Sol® Vitamins A-C-and D Supplement Drop...</td>\n",
       "      <td>47</td>\n",
       "      <td>11</td>\n",
       "    </tr>\n",
       "    <tr>\n",
       "      <th>24</th>\n",
       "      <td>25</td>\n",
       "      <td>Salted Caramel Lean Protein &amp; Fiber Bar</td>\n",
       "      <td>3</td>\n",
       "      <td>19</td>\n",
       "    </tr>\n",
       "    <tr>\n",
       "      <th>25</th>\n",
       "      <td>26</td>\n",
       "      <td>Fancy Feast Trout Feast Flaked Wet Cat Food</td>\n",
       "      <td>41</td>\n",
       "      <td>8</td>\n",
       "    </tr>\n",
       "    <tr>\n",
       "      <th>26</th>\n",
       "      <td>27</td>\n",
       "      <td>Complete Spring Water Foaming Antibacterial Ha...</td>\n",
       "      <td>127</td>\n",
       "      <td>11</td>\n",
       "    </tr>\n",
       "    <tr>\n",
       "      <th>27</th>\n",
       "      <td>28</td>\n",
       "      <td>Wheat Chex Cereal</td>\n",
       "      <td>121</td>\n",
       "      <td>14</td>\n",
       "    </tr>\n",
       "    <tr>\n",
       "      <th>28</th>\n",
       "      <td>29</td>\n",
       "      <td>Fresh Cut Golden Sweet No Salt Added Whole Ker...</td>\n",
       "      <td>81</td>\n",
       "      <td>15</td>\n",
       "    </tr>\n",
       "    <tr>\n",
       "      <th>29</th>\n",
       "      <td>30</td>\n",
       "      <td>Three Cheese Ziti, Marinara with Meatballs</td>\n",
       "      <td>38</td>\n",
       "      <td>1</td>\n",
       "    </tr>\n",
       "    <tr>\n",
       "      <th>...</th>\n",
       "      <td>...</td>\n",
       "      <td>...</td>\n",
       "      <td>...</td>\n",
       "      <td>...</td>\n",
       "    </tr>\n",
       "    <tr>\n",
       "      <th>49658</th>\n",
       "      <td>49659</td>\n",
       "      <td>Organic Creamed Coconut</td>\n",
       "      <td>17</td>\n",
       "      <td>13</td>\n",
       "    </tr>\n",
       "    <tr>\n",
       "      <th>49659</th>\n",
       "      <td>49660</td>\n",
       "      <td>Professionals Sleek Shampoo</td>\n",
       "      <td>22</td>\n",
       "      <td>11</td>\n",
       "    </tr>\n",
       "    <tr>\n",
       "      <th>49660</th>\n",
       "      <td>49661</td>\n",
       "      <td>Porto</td>\n",
       "      <td>134</td>\n",
       "      <td>5</td>\n",
       "    </tr>\n",
       "    <tr>\n",
       "      <th>49661</th>\n",
       "      <td>49662</td>\n",
       "      <td>Bacon Cheddar Pretzel Pieces</td>\n",
       "      <td>107</td>\n",
       "      <td>19</td>\n",
       "    </tr>\n",
       "    <tr>\n",
       "      <th>49662</th>\n",
       "      <td>49663</td>\n",
       "      <td>Ultra Protein Power Crunch Peanut Butter N' Ho...</td>\n",
       "      <td>57</td>\n",
       "      <td>14</td>\n",
       "    </tr>\n",
       "    <tr>\n",
       "      <th>49663</th>\n",
       "      <td>49664</td>\n",
       "      <td>Lemon Cayenne Drinking Vinegar</td>\n",
       "      <td>100</td>\n",
       "      <td>21</td>\n",
       "    </tr>\n",
       "    <tr>\n",
       "      <th>49664</th>\n",
       "      <td>49665</td>\n",
       "      <td>Super Dark Coconut Ash &amp; Banana Chocolate Bar</td>\n",
       "      <td>45</td>\n",
       "      <td>19</td>\n",
       "    </tr>\n",
       "    <tr>\n",
       "      <th>49665</th>\n",
       "      <td>49666</td>\n",
       "      <td>Ginger Snaps Snacking Cookies</td>\n",
       "      <td>61</td>\n",
       "      <td>19</td>\n",
       "    </tr>\n",
       "    <tr>\n",
       "      <th>49666</th>\n",
       "      <td>49667</td>\n",
       "      <td>Enchilada with Spanish Rice &amp; Beans Meal</td>\n",
       "      <td>38</td>\n",
       "      <td>1</td>\n",
       "    </tr>\n",
       "    <tr>\n",
       "      <th>49667</th>\n",
       "      <td>49668</td>\n",
       "      <td>Apple Cinnamon Scented Candles</td>\n",
       "      <td>101</td>\n",
       "      <td>17</td>\n",
       "    </tr>\n",
       "    <tr>\n",
       "      <th>49668</th>\n",
       "      <td>49669</td>\n",
       "      <td>K Cup Dark Blend</td>\n",
       "      <td>100</td>\n",
       "      <td>21</td>\n",
       "    </tr>\n",
       "    <tr>\n",
       "      <th>49669</th>\n",
       "      <td>49670</td>\n",
       "      <td>Beef Summer Sausage</td>\n",
       "      <td>106</td>\n",
       "      <td>12</td>\n",
       "    </tr>\n",
       "    <tr>\n",
       "      <th>49670</th>\n",
       "      <td>49671</td>\n",
       "      <td>Milk Chocolate Drops</td>\n",
       "      <td>45</td>\n",
       "      <td>19</td>\n",
       "    </tr>\n",
       "    <tr>\n",
       "      <th>49671</th>\n",
       "      <td>49672</td>\n",
       "      <td>Cafe Mocha K-Cup Packs</td>\n",
       "      <td>26</td>\n",
       "      <td>7</td>\n",
       "    </tr>\n",
       "    <tr>\n",
       "      <th>49672</th>\n",
       "      <td>49673</td>\n",
       "      <td>Stone Baked Multi Grain Artisan Rolls</td>\n",
       "      <td>129</td>\n",
       "      <td>1</td>\n",
       "    </tr>\n",
       "    <tr>\n",
       "      <th>49673</th>\n",
       "      <td>49674</td>\n",
       "      <td>Frozen Greek Yogurt Bars Chocolate Chip</td>\n",
       "      <td>37</td>\n",
       "      <td>1</td>\n",
       "    </tr>\n",
       "    <tr>\n",
       "      <th>49674</th>\n",
       "      <td>49675</td>\n",
       "      <td>Cinnamon Dolce Keurig Brewed K Cups</td>\n",
       "      <td>26</td>\n",
       "      <td>7</td>\n",
       "    </tr>\n",
       "    <tr>\n",
       "      <th>49675</th>\n",
       "      <td>49676</td>\n",
       "      <td>Ultra Red Energy Drink</td>\n",
       "      <td>64</td>\n",
       "      <td>7</td>\n",
       "    </tr>\n",
       "    <tr>\n",
       "      <th>49676</th>\n",
       "      <td>49677</td>\n",
       "      <td>Thick &amp; Chunky Sloppy Joe Sauce</td>\n",
       "      <td>59</td>\n",
       "      <td>15</td>\n",
       "    </tr>\n",
       "    <tr>\n",
       "      <th>49677</th>\n",
       "      <td>49678</td>\n",
       "      <td>Large Chicken &amp; Cheese Taquitos</td>\n",
       "      <td>129</td>\n",
       "      <td>1</td>\n",
       "    </tr>\n",
       "    <tr>\n",
       "      <th>49678</th>\n",
       "      <td>49679</td>\n",
       "      <td>Famous Chocolate Wafers</td>\n",
       "      <td>61</td>\n",
       "      <td>19</td>\n",
       "    </tr>\n",
       "    <tr>\n",
       "      <th>49679</th>\n",
       "      <td>49680</td>\n",
       "      <td>All Natural Creamy Caesar Dressing</td>\n",
       "      <td>89</td>\n",
       "      <td>13</td>\n",
       "    </tr>\n",
       "    <tr>\n",
       "      <th>49680</th>\n",
       "      <td>49681</td>\n",
       "      <td>Spaghetti with Meatballs and Sauce Meal</td>\n",
       "      <td>38</td>\n",
       "      <td>1</td>\n",
       "    </tr>\n",
       "    <tr>\n",
       "      <th>49681</th>\n",
       "      <td>49682</td>\n",
       "      <td>California Limeade</td>\n",
       "      <td>98</td>\n",
       "      <td>7</td>\n",
       "    </tr>\n",
       "    <tr>\n",
       "      <th>49682</th>\n",
       "      <td>49683</td>\n",
       "      <td>Cucumber Kirby</td>\n",
       "      <td>83</td>\n",
       "      <td>4</td>\n",
       "    </tr>\n",
       "    <tr>\n",
       "      <th>49683</th>\n",
       "      <td>49684</td>\n",
       "      <td>Vodka, Triple Distilled, Twist of Vanilla</td>\n",
       "      <td>124</td>\n",
       "      <td>5</td>\n",
       "    </tr>\n",
       "    <tr>\n",
       "      <th>49684</th>\n",
       "      <td>49685</td>\n",
       "      <td>En Croute Roast Hazelnut Cranberry</td>\n",
       "      <td>42</td>\n",
       "      <td>1</td>\n",
       "    </tr>\n",
       "    <tr>\n",
       "      <th>49685</th>\n",
       "      <td>49686</td>\n",
       "      <td>Artisan Baguette</td>\n",
       "      <td>112</td>\n",
       "      <td>3</td>\n",
       "    </tr>\n",
       "    <tr>\n",
       "      <th>49686</th>\n",
       "      <td>49687</td>\n",
       "      <td>Smartblend Healthy Metabolism Dry Cat Food</td>\n",
       "      <td>41</td>\n",
       "      <td>8</td>\n",
       "    </tr>\n",
       "    <tr>\n",
       "      <th>49687</th>\n",
       "      <td>49688</td>\n",
       "      <td>Fresh Foaming Cleanser</td>\n",
       "      <td>73</td>\n",
       "      <td>11</td>\n",
       "    </tr>\n",
       "  </tbody>\n",
       "</table>\n",
       "<p>49688 rows × 4 columns</p>\n",
       "</div>"
      ],
      "text/plain": [
       "       product_id                                       product_name  \\\n",
       "0               1                         Chocolate Sandwich Cookies   \n",
       "1               2                                   All-Seasons Salt   \n",
       "2               3               Robust Golden Unsweetened Oolong Tea   \n",
       "3               4  Smart Ones Classic Favorites Mini Rigatoni Wit...   \n",
       "4               5                          Green Chile Anytime Sauce   \n",
       "5               6                                       Dry Nose Oil   \n",
       "6               7                     Pure Coconut Water With Orange   \n",
       "7               8                  Cut Russet Potatoes Steam N' Mash   \n",
       "8               9                  Light Strawberry Blueberry Yogurt   \n",
       "9              10     Sparkling Orange Juice & Prickly Pear Beverage   \n",
       "10             11                                  Peach Mango Juice   \n",
       "11             12                         Chocolate Fudge Layer Cake   \n",
       "12             13                                  Saline Nasal Mist   \n",
       "13             14                     Fresh Scent Dishwasher Cleaner   \n",
       "14             15                           Overnight Diapers Size 6   \n",
       "15             16                      Mint Chocolate Flavored Syrup   \n",
       "16             17                                  Rendered Duck Fat   \n",
       "17             18                Pizza for One Suprema  Frozen Pizza   \n",
       "18             19   Gluten Free Quinoa Three Cheese & Mushroom Blend   \n",
       "19             20     Pomegranate Cranberry & Aloe Vera Enrich Drink   \n",
       "20             21                   Small & Medium Dental Dog Treats   \n",
       "21             22                  Fresh Breath Oral Rinse Mild Mint   \n",
       "22             23                             Organic Turkey Burgers   \n",
       "23             24  Tri-Vi-Sol® Vitamins A-C-and D Supplement Drop...   \n",
       "24             25            Salted Caramel Lean Protein & Fiber Bar   \n",
       "25             26        Fancy Feast Trout Feast Flaked Wet Cat Food   \n",
       "26             27  Complete Spring Water Foaming Antibacterial Ha...   \n",
       "27             28                                  Wheat Chex Cereal   \n",
       "28             29  Fresh Cut Golden Sweet No Salt Added Whole Ker...   \n",
       "29             30         Three Cheese Ziti, Marinara with Meatballs   \n",
       "...           ...                                                ...   \n",
       "49658       49659                            Organic Creamed Coconut   \n",
       "49659       49660                        Professionals Sleek Shampoo   \n",
       "49660       49661                                              Porto   \n",
       "49661       49662                       Bacon Cheddar Pretzel Pieces   \n",
       "49662       49663  Ultra Protein Power Crunch Peanut Butter N' Ho...   \n",
       "49663       49664                     Lemon Cayenne Drinking Vinegar   \n",
       "49664       49665      Super Dark Coconut Ash & Banana Chocolate Bar   \n",
       "49665       49666                      Ginger Snaps Snacking Cookies   \n",
       "49666       49667           Enchilada with Spanish Rice & Beans Meal   \n",
       "49667       49668                     Apple Cinnamon Scented Candles   \n",
       "49668       49669                                   K Cup Dark Blend   \n",
       "49669       49670                                Beef Summer Sausage   \n",
       "49670       49671                               Milk Chocolate Drops   \n",
       "49671       49672                             Cafe Mocha K-Cup Packs   \n",
       "49672       49673              Stone Baked Multi Grain Artisan Rolls   \n",
       "49673       49674            Frozen Greek Yogurt Bars Chocolate Chip   \n",
       "49674       49675                Cinnamon Dolce Keurig Brewed K Cups   \n",
       "49675       49676                             Ultra Red Energy Drink   \n",
       "49676       49677                    Thick & Chunky Sloppy Joe Sauce   \n",
       "49677       49678                    Large Chicken & Cheese Taquitos   \n",
       "49678       49679                            Famous Chocolate Wafers   \n",
       "49679       49680                 All Natural Creamy Caesar Dressing   \n",
       "49680       49681            Spaghetti with Meatballs and Sauce Meal   \n",
       "49681       49682                                 California Limeade   \n",
       "49682       49683                                     Cucumber Kirby   \n",
       "49683       49684          Vodka, Triple Distilled, Twist of Vanilla   \n",
       "49684       49685                 En Croute Roast Hazelnut Cranberry   \n",
       "49685       49686                                   Artisan Baguette   \n",
       "49686       49687         Smartblend Healthy Metabolism Dry Cat Food   \n",
       "49687       49688                             Fresh Foaming Cleanser   \n",
       "\n",
       "       aisle_id  department_id  \n",
       "0            61             19  \n",
       "1           104             13  \n",
       "2            94              7  \n",
       "3            38              1  \n",
       "4             5             13  \n",
       "5            11             11  \n",
       "6            98              7  \n",
       "7           116              1  \n",
       "8           120             16  \n",
       "9           115              7  \n",
       "10           31              7  \n",
       "11          119              1  \n",
       "12           11             11  \n",
       "13           74             17  \n",
       "14           56             18  \n",
       "15          103             19  \n",
       "16           35             12  \n",
       "17           79              1  \n",
       "18           63              9  \n",
       "19           98              7  \n",
       "20           40              8  \n",
       "21           20             11  \n",
       "22           49             12  \n",
       "23           47             11  \n",
       "24            3             19  \n",
       "25           41              8  \n",
       "26          127             11  \n",
       "27          121             14  \n",
       "28           81             15  \n",
       "29           38              1  \n",
       "...         ...            ...  \n",
       "49658        17             13  \n",
       "49659        22             11  \n",
       "49660       134              5  \n",
       "49661       107             19  \n",
       "49662        57             14  \n",
       "49663       100             21  \n",
       "49664        45             19  \n",
       "49665        61             19  \n",
       "49666        38              1  \n",
       "49667       101             17  \n",
       "49668       100             21  \n",
       "49669       106             12  \n",
       "49670        45             19  \n",
       "49671        26              7  \n",
       "49672       129              1  \n",
       "49673        37              1  \n",
       "49674        26              7  \n",
       "49675        64              7  \n",
       "49676        59             15  \n",
       "49677       129              1  \n",
       "49678        61             19  \n",
       "49679        89             13  \n",
       "49680        38              1  \n",
       "49681        98              7  \n",
       "49682        83              4  \n",
       "49683       124              5  \n",
       "49684        42              1  \n",
       "49685       112              3  \n",
       "49686        41              8  \n",
       "49687        73             11  \n",
       "\n",
       "[49688 rows x 4 columns]"
      ]
     },
     "execution_count": 13,
     "metadata": {},
     "output_type": "execute_result"
    }
   ],
   "source": [
    "products_df"
   ]
  },
  {
   "cell_type": "markdown",
   "metadata": {},
   "source": [
    "Collect order and product info for each user in the training set and then merge into a data frame df"
   ]
  },
  {
   "cell_type": "code",
   "execution_count": 14,
   "metadata": {
    "collapsed": true
   },
   "outputs": [],
   "source": [
    "df_train = orders_df.merge(order_products_train_df, how = 'inner', on = 'order_id')\n",
    "df_train = df_train.merge(products_df, how = 'inner', on = 'product_id')\n",
    "df_train.sort_values(['user_id', 'order_number'], axis=0, inplace=True)"
   ]
  },
  {
   "cell_type": "code",
   "execution_count": 15,
   "metadata": {
    "collapsed": true
   },
   "outputs": [],
   "source": [
    "df_prior = orders_df.merge(order_products_prior_df, how = 'inner', on = 'order_id')\n",
    "df_prior = df_prior.merge(products_df, how = 'inner', on = 'product_id')\n",
    "df_prior.sort_values(['user_id', 'order_number'], axis=0, inplace=True)"
   ]
  },
  {
   "cell_type": "code",
   "execution_count": 16,
   "metadata": {
    "collapsed": true
   },
   "outputs": [],
   "source": [
    "df = pd.concat([df_prior, df_train])"
   ]
  },
  {
   "cell_type": "code",
   "execution_count": 17,
   "metadata": {
    "collapsed": true
   },
   "outputs": [],
   "source": [
    "sample=int(1e5)\n",
    "df = df.iloc[:sample]"
   ]
  },
  {
   "cell_type": "code",
   "execution_count": 18,
   "metadata": {
    "collapsed": true
   },
   "outputs": [],
   "source": [
    "#fillna\n",
    "df.fillna(0,axis=0, inplace=True)\n",
    "df.drop('eval_set', axis=1, inplace = True)\n",
    "df.reset_index(drop = True, inplace = True)\n",
    "del df_train, df_prior"
   ]
  },
  {
   "cell_type": "code",
   "execution_count": 21,
   "metadata": {
    "scrolled": true
   },
   "outputs": [
    {
     "data": {
      "text/html": [
       "<div>\n",
       "<style>\n",
       "    .dataframe thead tr:only-child th {\n",
       "        text-align: right;\n",
       "    }\n",
       "\n",
       "    .dataframe thead th {\n",
       "        text-align: left;\n",
       "    }\n",
       "\n",
       "    .dataframe tbody tr th {\n",
       "        vertical-align: top;\n",
       "    }\n",
       "</style>\n",
       "<table border=\"1\" class=\"dataframe\">\n",
       "  <thead>\n",
       "    <tr style=\"text-align: right;\">\n",
       "      <th></th>\n",
       "      <th>order_id</th>\n",
       "      <th>user_id</th>\n",
       "      <th>order_number</th>\n",
       "      <th>order_dow</th>\n",
       "      <th>order_hour_of_day</th>\n",
       "      <th>days_since_prior_order</th>\n",
       "      <th>product_id</th>\n",
       "      <th>add_to_cart_order</th>\n",
       "      <th>reordered</th>\n",
       "      <th>product_name</th>\n",
       "      <th>aisle_id</th>\n",
       "      <th>department_id</th>\n",
       "    </tr>\n",
       "  </thead>\n",
       "  <tbody>\n",
       "    <tr>\n",
       "      <th>0</th>\n",
       "      <td>2539329</td>\n",
       "      <td>1</td>\n",
       "      <td>1</td>\n",
       "      <td>2</td>\n",
       "      <td>8</td>\n",
       "      <td>0.0</td>\n",
       "      <td>196</td>\n",
       "      <td>1</td>\n",
       "      <td>0</td>\n",
       "      <td>Soda</td>\n",
       "      <td>77</td>\n",
       "      <td>7</td>\n",
       "    </tr>\n",
       "    <tr>\n",
       "      <th>1</th>\n",
       "      <td>2539329</td>\n",
       "      <td>1</td>\n",
       "      <td>1</td>\n",
       "      <td>2</td>\n",
       "      <td>8</td>\n",
       "      <td>0.0</td>\n",
       "      <td>14084</td>\n",
       "      <td>2</td>\n",
       "      <td>0</td>\n",
       "      <td>Organic Unsweetened Vanilla Almond Milk</td>\n",
       "      <td>91</td>\n",
       "      <td>16</td>\n",
       "    </tr>\n",
       "    <tr>\n",
       "      <th>2</th>\n",
       "      <td>2539329</td>\n",
       "      <td>1</td>\n",
       "      <td>1</td>\n",
       "      <td>2</td>\n",
       "      <td>8</td>\n",
       "      <td>0.0</td>\n",
       "      <td>12427</td>\n",
       "      <td>3</td>\n",
       "      <td>0</td>\n",
       "      <td>Original Beef Jerky</td>\n",
       "      <td>23</td>\n",
       "      <td>19</td>\n",
       "    </tr>\n",
       "    <tr>\n",
       "      <th>3</th>\n",
       "      <td>2539329</td>\n",
       "      <td>1</td>\n",
       "      <td>1</td>\n",
       "      <td>2</td>\n",
       "      <td>8</td>\n",
       "      <td>0.0</td>\n",
       "      <td>26088</td>\n",
       "      <td>4</td>\n",
       "      <td>0</td>\n",
       "      <td>Aged White Cheddar Popcorn</td>\n",
       "      <td>23</td>\n",
       "      <td>19</td>\n",
       "    </tr>\n",
       "    <tr>\n",
       "      <th>4</th>\n",
       "      <td>2539329</td>\n",
       "      <td>1</td>\n",
       "      <td>1</td>\n",
       "      <td>2</td>\n",
       "      <td>8</td>\n",
       "      <td>0.0</td>\n",
       "      <td>26405</td>\n",
       "      <td>5</td>\n",
       "      <td>0</td>\n",
       "      <td>XL Pick-A-Size Paper Towel Rolls</td>\n",
       "      <td>54</td>\n",
       "      <td>17</td>\n",
       "    </tr>\n",
       "  </tbody>\n",
       "</table>\n",
       "</div>"
      ],
      "text/plain": [
       "   order_id  user_id  order_number  order_dow  order_hour_of_day  \\\n",
       "0   2539329        1             1          2                  8   \n",
       "1   2539329        1             1          2                  8   \n",
       "2   2539329        1             1          2                  8   \n",
       "3   2539329        1             1          2                  8   \n",
       "4   2539329        1             1          2                  8   \n",
       "\n",
       "   days_since_prior_order  product_id  add_to_cart_order  reordered  \\\n",
       "0                     0.0         196                  1          0   \n",
       "1                     0.0       14084                  2          0   \n",
       "2                     0.0       12427                  3          0   \n",
       "3                     0.0       26088                  4          0   \n",
       "4                     0.0       26405                  5          0   \n",
       "\n",
       "                              product_name  aisle_id  department_id  \n",
       "0                                     Soda        77              7  \n",
       "1  Organic Unsweetened Vanilla Almond Milk        91             16  \n",
       "2                      Original Beef Jerky        23             19  \n",
       "3               Aged White Cheddar Popcorn        23             19  \n",
       "4         XL Pick-A-Size Paper Towel Rolls        54             17  "
      ]
     },
     "execution_count": 21,
     "metadata": {},
     "output_type": "execute_result"
    }
   ],
   "source": [
    "df.head()"
   ]
  },
  {
   "cell_type": "markdown",
   "metadata": {},
   "source": [
    "# Engineer new features"
   ]
  },
  {
   "cell_type": "markdown",
   "metadata": {},
   "source": [
    "## product  list per user"
   ]
  },
  {
   "cell_type": "markdown",
   "metadata": {},
   "source": [
    "Create new user features encoding order/product info"
   ]
  },
  {
   "cell_type": "code",
   "execution_count": 22,
   "metadata": {},
   "outputs": [
    {
     "name": "stdout",
     "output_type": "stream",
     "text": [
      "n_users_total = 206209, n_users_train = 131209, n_users_test = 75000\n"
     ]
    }
   ],
   "source": [
    "#separate orders according to their eval_set\n",
    "prior = orders_df[orders_df[\"eval_set\"]=='prior']\n",
    "train = orders_df[orders_df[\"eval_set\"]=='train']\n",
    "test = orders_df[orders_df[\"eval_set\"]=='test']\n",
    "\n",
    "#get user_ids and the number of users in each eval_set\n",
    "user_ids_total, n_users_total = prior['user_id'].unique(), prior['user_id'].nunique()\n",
    "user_ids_train, n_users_train = train['user_id'].unique(), train['user_id'].nunique()\n",
    "user_ids_test, n_users_test = test['user_id'].unique(), test['user_id'].nunique()\n",
    "\n",
    "del prior\n",
    "print(\"n_users_total = {}, n_users_train = {}, n_users_test = {}\".format(n_users_total, n_users_train, n_users_test))"
   ]
  },
  {
   "cell_type": "code",
   "execution_count": 23,
   "metadata": {
    "collapsed": true
   },
   "outputs": [],
   "source": [
    "#group by user_id and order_number (this takes ~4 minutes to run locally on the entire data set).\n",
    "X = df.groupby(['user_id', 'order_number'])['product_id'].apply(lambda x : list(x)).reset_index()\n",
    "X.columns = ['user_id', 'order_number', 'product_list']"
   ]
  },
  {
   "cell_type": "code",
   "execution_count": 24,
   "metadata": {},
   "outputs": [
    {
     "data": {
      "text/html": [
       "<div>\n",
       "<style>\n",
       "    .dataframe thead tr:only-child th {\n",
       "        text-align: right;\n",
       "    }\n",
       "\n",
       "    .dataframe thead th {\n",
       "        text-align: left;\n",
       "    }\n",
       "\n",
       "    .dataframe tbody tr th {\n",
       "        vertical-align: top;\n",
       "    }\n",
       "</style>\n",
       "<table border=\"1\" class=\"dataframe\">\n",
       "  <thead>\n",
       "    <tr style=\"text-align: right;\">\n",
       "      <th></th>\n",
       "      <th>user_id</th>\n",
       "      <th>order_number</th>\n",
       "      <th>product_list</th>\n",
       "    </tr>\n",
       "  </thead>\n",
       "  <tbody>\n",
       "    <tr>\n",
       "      <th>0</th>\n",
       "      <td>1</td>\n",
       "      <td>1</td>\n",
       "      <td>[196, 14084, 12427, 26088, 26405]</td>\n",
       "    </tr>\n",
       "    <tr>\n",
       "      <th>1</th>\n",
       "      <td>1</td>\n",
       "      <td>2</td>\n",
       "      <td>[196, 12427, 26088, 10258, 13176, 13032]</td>\n",
       "    </tr>\n",
       "    <tr>\n",
       "      <th>2</th>\n",
       "      <td>1</td>\n",
       "      <td>3</td>\n",
       "      <td>[196, 12427, 10258, 25133, 30450]</td>\n",
       "    </tr>\n",
       "    <tr>\n",
       "      <th>3</th>\n",
       "      <td>1</td>\n",
       "      <td>4</td>\n",
       "      <td>[196, 12427, 26405, 10258, 25133]</td>\n",
       "    </tr>\n",
       "    <tr>\n",
       "      <th>4</th>\n",
       "      <td>1</td>\n",
       "      <td>5</td>\n",
       "      <td>[196, 12427, 10258, 13176, 25133, 10326, 17122...</td>\n",
       "    </tr>\n",
       "  </tbody>\n",
       "</table>\n",
       "</div>"
      ],
      "text/plain": [
       "   user_id  order_number                                       product_list\n",
       "0        1             1                  [196, 14084, 12427, 26088, 26405]\n",
       "1        1             2           [196, 12427, 26088, 10258, 13176, 13032]\n",
       "2        1             3                  [196, 12427, 10258, 25133, 30450]\n",
       "3        1             4                  [196, 12427, 26405, 10258, 25133]\n",
       "4        1             5  [196, 12427, 10258, 13176, 25133, 10326, 17122..."
      ]
     },
     "execution_count": 24,
     "metadata": {},
     "output_type": "execute_result"
    }
   ],
   "source": [
    "X.head()"
   ]
  },
  {
   "cell_type": "code",
   "execution_count": null,
   "metadata": {
    "collapsed": true
   },
   "outputs": [],
   "source": []
  },
  {
   "cell_type": "code",
   "execution_count": 25,
   "metadata": {
    "collapsed": true
   },
   "outputs": [],
   "source": [
    "from keras.preprocessing.sequence import pad_sequences\n",
    "sequences = np.array(X.product_list)\n",
    "maxlen = X.product_list.map(len).max()\n",
    "\n",
    "# pad sequence\n",
    "padded = pad_sequences(sequences, padding='post', maxlen= maxlen)"
   ]
  },
  {
   "cell_type": "code",
   "execution_count": 26,
   "metadata": {
    "collapsed": true
   },
   "outputs": [],
   "source": [
    "#now group by user_id \n",
    "X_users =X.groupby('user_id')['product_list'].apply(lambda x : list(x)).reset_index()\n",
    "X_users['num_orders_per_user'] = X_users.product_list.map(len)\n",
    "X_users['ave_num_prods_per_order'] = X_users.product_list.map(lambda L: [len(x) for x in L]).map(np.mean).map(round)\n",
    "X_users.set_index('user_id',inplace = True)"
   ]
  },
  {
   "cell_type": "code",
   "execution_count": null,
   "metadata": {
    "collapsed": true
   },
   "outputs": [],
   "source": [
    "products_d"
   ]
  },
  {
   "cell_type": "code",
   "execution_count": 27,
   "metadata": {},
   "outputs": [
    {
     "data": {
      "text/html": [
       "<div>\n",
       "<style>\n",
       "    .dataframe thead tr:only-child th {\n",
       "        text-align: right;\n",
       "    }\n",
       "\n",
       "    .dataframe thead th {\n",
       "        text-align: left;\n",
       "    }\n",
       "\n",
       "    .dataframe tbody tr th {\n",
       "        vertical-align: top;\n",
       "    }\n",
       "</style>\n",
       "<table border=\"1\" class=\"dataframe\">\n",
       "  <thead>\n",
       "    <tr style=\"text-align: right;\">\n",
       "      <th></th>\n",
       "      <th>product_list</th>\n",
       "      <th>num_orders_per_user</th>\n",
       "      <th>ave_num_prods_per_order</th>\n",
       "    </tr>\n",
       "    <tr>\n",
       "      <th>user_id</th>\n",
       "      <th></th>\n",
       "      <th></th>\n",
       "      <th></th>\n",
       "    </tr>\n",
       "  </thead>\n",
       "  <tbody>\n",
       "    <tr>\n",
       "      <th>1</th>\n",
       "      <td>[[196, 14084, 12427, 26088, 26405], [196, 1242...</td>\n",
       "      <td>10</td>\n",
       "      <td>6</td>\n",
       "    </tr>\n",
       "    <tr>\n",
       "      <th>2</th>\n",
       "      <td>[[13176, 32792, 47766, 20574, 12000, 48110, 22...</td>\n",
       "      <td>14</td>\n",
       "      <td>14</td>\n",
       "    </tr>\n",
       "    <tr>\n",
       "      <th>3</th>\n",
       "      <td>[[47766, 16797, 9387, 17668, 15143, 39190, 219...</td>\n",
       "      <td>12</td>\n",
       "      <td>7</td>\n",
       "    </tr>\n",
       "    <tr>\n",
       "      <th>4</th>\n",
       "      <td>[[36606, 7350, 35469, 2707], [42329, 7160], [3...</td>\n",
       "      <td>5</td>\n",
       "      <td>4</td>\n",
       "    </tr>\n",
       "    <tr>\n",
       "      <th>5</th>\n",
       "      <td>[[15349, 21413, 48775, 28289, 8518, 11777, 317...</td>\n",
       "      <td>4</td>\n",
       "      <td>9</td>\n",
       "    </tr>\n",
       "  </tbody>\n",
       "</table>\n",
       "</div>"
      ],
      "text/plain": [
       "                                              product_list  \\\n",
       "user_id                                                      \n",
       "1        [[196, 14084, 12427, 26088, 26405], [196, 1242...   \n",
       "2        [[13176, 32792, 47766, 20574, 12000, 48110, 22...   \n",
       "3        [[47766, 16797, 9387, 17668, 15143, 39190, 219...   \n",
       "4        [[36606, 7350, 35469, 2707], [42329, 7160], [3...   \n",
       "5        [[15349, 21413, 48775, 28289, 8518, 11777, 317...   \n",
       "\n",
       "         num_orders_per_user  ave_num_prods_per_order  \n",
       "user_id                                                \n",
       "1                         10                        6  \n",
       "2                         14                       14  \n",
       "3                         12                        7  \n",
       "4                          5                        4  \n",
       "5                          4                        9  "
      ]
     },
     "execution_count": 27,
     "metadata": {},
     "output_type": "execute_result"
    }
   ],
   "source": [
    "X_users.head()"
   ]
  },
  {
   "cell_type": "code",
   "execution_count": 28,
   "metadata": {},
   "outputs": [
    {
     "data": {
      "text/plain": [
       "(667, 3)"
      ]
     },
     "execution_count": 28,
     "metadata": {},
     "output_type": "execute_result"
    }
   ],
   "source": [
    "X_users.shape"
   ]
  },
  {
   "cell_type": "markdown",
   "metadata": {},
   "source": [
    "## product rating per user"
   ]
  },
  {
   "cell_type": "markdown",
   "metadata": {},
   "source": [
    "Create a new product 'rating' feature encoding the likelyhood of it being reordered by the user"
   ]
  },
  {
   "cell_type": "code",
   "execution_count": 24,
   "metadata": {
    "collapsed": true
   },
   "outputs": [],
   "source": [
    "#drop the first order for each user ('reodered' is meaningless in that case)\n",
    "df2 = df[df['days_since_prior_order']!=0]"
   ]
  },
  {
   "cell_type": "code",
   "execution_count": null,
   "metadata": {
    "collapsed": true
   },
   "outputs": [],
   "source": [
    "g=df2.groupby(['user_id','product_name','product_id'])"
   ]
  },
  {
   "cell_type": "code",
   "execution_count": null,
   "metadata": {
    "collapsed": true,
    "scrolled": true
   },
   "outputs": [],
   "source": [
    "#create new data frame from df2\n",
    "prod_ratings = df2.groupby(['user_id','product_name','product_id'])['reordered'].aggregate('sum').reset_index()"
   ]
  },
  {
   "cell_type": "code",
   "execution_count": 113,
   "metadata": {},
   "outputs": [
    {
     "data": {
      "text/html": [
       "<div>\n",
       "<style>\n",
       "    .dataframe thead tr:only-child th {\n",
       "        text-align: right;\n",
       "    }\n",
       "\n",
       "    .dataframe thead th {\n",
       "        text-align: left;\n",
       "    }\n",
       "\n",
       "    .dataframe tbody tr th {\n",
       "        vertical-align: top;\n",
       "    }\n",
       "</style>\n",
       "<table border=\"1\" class=\"dataframe\">\n",
       "  <thead>\n",
       "    <tr style=\"text-align: right;\">\n",
       "      <th></th>\n",
       "      <th>user_id</th>\n",
       "      <th>product_name</th>\n",
       "      <th>product_id</th>\n",
       "      <th>reordered</th>\n",
       "    </tr>\n",
       "  </thead>\n",
       "  <tbody>\n",
       "    <tr>\n",
       "      <th>0</th>\n",
       "      <td>1</td>\n",
       "      <td>0% Greek Strained Yogurt</td>\n",
       "      <td>38928</td>\n",
       "      <td>1</td>\n",
       "    </tr>\n",
       "    <tr>\n",
       "      <th>1</th>\n",
       "      <td>1</td>\n",
       "      <td>Aged White Cheddar Popcorn</td>\n",
       "      <td>26088</td>\n",
       "      <td>2</td>\n",
       "    </tr>\n",
       "    <tr>\n",
       "      <th>2</th>\n",
       "      <td>1</td>\n",
       "      <td>Bag of Organic Bananas</td>\n",
       "      <td>13176</td>\n",
       "      <td>1</td>\n",
       "    </tr>\n",
       "    <tr>\n",
       "      <th>3</th>\n",
       "      <td>1</td>\n",
       "      <td>Bartlett Pears</td>\n",
       "      <td>41787</td>\n",
       "      <td>0</td>\n",
       "    </tr>\n",
       "    <tr>\n",
       "      <th>4</th>\n",
       "      <td>1</td>\n",
       "      <td>Cinnamon Toast Crunch</td>\n",
       "      <td>13032</td>\n",
       "      <td>3</td>\n",
       "    </tr>\n",
       "  </tbody>\n",
       "</table>\n",
       "</div>"
      ],
      "text/plain": [
       "   user_id                product_name  product_id  reordered\n",
       "0        1    0% Greek Strained Yogurt       38928          1\n",
       "1        1  Aged White Cheddar Popcorn       26088          2\n",
       "2        1      Bag of Organic Bananas       13176          1\n",
       "3        1              Bartlett Pears       41787          0\n",
       "4        1       Cinnamon Toast Crunch       13032          3"
      ]
     },
     "execution_count": 113,
     "metadata": {},
     "output_type": "execute_result"
    }
   ],
   "source": [
    "#reduce size of data\n",
    "#prod_ratings = prod_ratings.iloc[0:100000]\n",
    "prod_ratings.head()"
   ]
  },
  {
   "cell_type": "markdown",
   "metadata": {},
   "source": [
    "Update product and user ids so that they are contiguous integers, which we want when using embeddings."
   ]
  },
  {
   "cell_type": "code",
   "execution_count": 114,
   "metadata": {
    "collapsed": true
   },
   "outputs": [],
   "source": [
    "users = prod_ratings.user_id.unique()\n",
    "prods = prod_ratings.product_id.unique()\n",
    "\n",
    "userid2idx = {o:i for i,o in enumerate(users)}\n",
    "prodid2idx = {o:i for i,o in enumerate(prods)}\n",
    "\n",
    "prod_ratings.product_id = prod_ratings.product_id.apply(lambda x: prodid2idx[x])\n",
    "prod_ratings.user_id = prod_ratings.user_id.apply(lambda x: userid2idx[x])"
   ]
  },
  {
   "cell_type": "markdown",
   "metadata": {},
   "source": [
    "Apply StandardScaler (Subtract mean and divide by stdev) to the 'reordered' label "
   ]
  },
  {
   "cell_type": "code",
   "execution_count": 115,
   "metadata": {},
   "outputs": [
    {
     "name": "stderr",
     "output_type": "stream",
     "text": [
      "/home/cyrfar/anaconda3/lib/python3.6/site-packages/sklearn/utils/validation.py:429: DataConversionWarning: Data with input dtype int64 was converted to float64 by StandardScaler.\n",
      "  warnings.warn(msg, _DataConversionWarning)\n",
      "/home/cyrfar/anaconda3/lib/python3.6/site-packages/sklearn/preprocessing/data.py:586: DeprecationWarning: Passing 1d arrays as data is deprecated in 0.17 and will raise ValueError in 0.19. Reshape your data either using X.reshape(-1, 1) if your data has a single feature or X.reshape(1, -1) if it contains a single sample.\n",
      "  warnings.warn(DEPRECATION_MSG_1D, DeprecationWarning)\n",
      "/home/cyrfar/anaconda3/lib/python3.6/site-packages/sklearn/preprocessing/data.py:649: DeprecationWarning: Passing 1d arrays as data is deprecated in 0.17 and will raise ValueError in 0.19. Reshape your data either using X.reshape(-1, 1) if your data has a single feature or X.reshape(1, -1) if it contains a single sample.\n",
      "  warnings.warn(DEPRECATION_MSG_1D, DeprecationWarning)\n"
     ]
    }
   ],
   "source": [
    "from sklearn_pandas import DataFrameMapper\n",
    "from sklearn.preprocessing import StandardScaler\n",
    "\n",
    "mapper = DataFrameMapper([('reordered', StandardScaler())], df_out=True)\n",
    "prod_ratings.reordered = np.round(mapper.fit_transform(prod_ratings.copy()), 2)"
   ]
  },
  {
   "cell_type": "code",
   "execution_count": 116,
   "metadata": {
    "scrolled": true
   },
   "outputs": [
    {
     "data": {
      "text/html": [
       "<div>\n",
       "<style>\n",
       "    .dataframe thead tr:only-child th {\n",
       "        text-align: right;\n",
       "    }\n",
       "\n",
       "    .dataframe thead th {\n",
       "        text-align: left;\n",
       "    }\n",
       "\n",
       "    .dataframe tbody tr th {\n",
       "        vertical-align: top;\n",
       "    }\n",
       "</style>\n",
       "<table border=\"1\" class=\"dataframe\">\n",
       "  <thead>\n",
       "    <tr style=\"text-align: right;\">\n",
       "      <th></th>\n",
       "      <th>user_id</th>\n",
       "      <th>product_name</th>\n",
       "      <th>product_id</th>\n",
       "      <th>reordered</th>\n",
       "    </tr>\n",
       "  </thead>\n",
       "  <tbody>\n",
       "    <tr>\n",
       "      <th>0</th>\n",
       "      <td>0</td>\n",
       "      <td>0% Greek Strained Yogurt</td>\n",
       "      <td>0</td>\n",
       "      <td>-0.11</td>\n",
       "    </tr>\n",
       "    <tr>\n",
       "      <th>1</th>\n",
       "      <td>0</td>\n",
       "      <td>Aged White Cheddar Popcorn</td>\n",
       "      <td>1</td>\n",
       "      <td>0.18</td>\n",
       "    </tr>\n",
       "    <tr>\n",
       "      <th>2</th>\n",
       "      <td>0</td>\n",
       "      <td>Bag of Organic Bananas</td>\n",
       "      <td>2</td>\n",
       "      <td>-0.11</td>\n",
       "    </tr>\n",
       "    <tr>\n",
       "      <th>3</th>\n",
       "      <td>0</td>\n",
       "      <td>Bartlett Pears</td>\n",
       "      <td>3</td>\n",
       "      <td>-0.40</td>\n",
       "    </tr>\n",
       "    <tr>\n",
       "      <th>4</th>\n",
       "      <td>0</td>\n",
       "      <td>Cinnamon Toast Crunch</td>\n",
       "      <td>4</td>\n",
       "      <td>0.47</td>\n",
       "    </tr>\n",
       "  </tbody>\n",
       "</table>\n",
       "</div>"
      ],
      "text/plain": [
       "   user_id                product_name  product_id  reordered\n",
       "0        0    0% Greek Strained Yogurt           0      -0.11\n",
       "1        0  Aged White Cheddar Popcorn           1       0.18\n",
       "2        0      Bag of Organic Bananas           2      -0.11\n",
       "3        0              Bartlett Pears           3      -0.40\n",
       "4        0       Cinnamon Toast Crunch           4       0.47"
      ]
     },
     "execution_count": 116,
     "metadata": {},
     "output_type": "execute_result"
    }
   ],
   "source": [
    "prod_ratings.head()"
   ]
  },
  {
   "cell_type": "code",
   "execution_count": 117,
   "metadata": {},
   "outputs": [
    {
     "data": {
      "text/plain": [
       "(0, 1546, 0, 19057)"
      ]
     },
     "execution_count": 117,
     "metadata": {},
     "output_type": "execute_result"
    }
   ],
   "source": [
    "user_min, user_max, movie_min, movie_max = (prod_ratings.user_id.min(), \n",
    "    prod_ratings.user_id.max(), prod_ratings.product_id.min(), prod_ratings.product_id.max())\n",
    "user_min, user_max, movie_min, movie_max"
   ]
  },
  {
   "cell_type": "code",
   "execution_count": 118,
   "metadata": {},
   "outputs": [
    {
     "data": {
      "text/plain": [
       "(1547, 19058)"
      ]
     },
     "execution_count": 118,
     "metadata": {},
     "output_type": "execute_result"
    }
   ],
   "source": [
    "n_users = prod_ratings.user_id.nunique()\n",
    "n_prods = prod_ratings.product_id.nunique()\n",
    "\n",
    "n_users, n_prods"
   ]
  },
  {
   "cell_type": "markdown",
   "metadata": {},
   "source": [
    "This is the number of latent factors in each embedding."
   ]
  },
  {
   "cell_type": "code",
   "execution_count": 135,
   "metadata": {
    "collapsed": true
   },
   "outputs": [],
   "source": [
    "n_factors = 50"
   ]
  },
  {
   "cell_type": "code",
   "execution_count": 136,
   "metadata": {
    "collapsed": true
   },
   "outputs": [],
   "source": [
    "np.random.seed = 42"
   ]
  },
  {
   "cell_type": "markdown",
   "metadata": {},
   "source": [
    "Randomly split into training and validation."
   ]
  },
  {
   "cell_type": "code",
   "execution_count": 137,
   "metadata": {
    "collapsed": true
   },
   "outputs": [],
   "source": [
    "msk = np.random.rand(len(prod_ratings)) < 0.8\n",
    "trn = prod_ratings[msk]\n",
    "val = prod_ratings[~msk]"
   ]
  },
  {
   "cell_type": "markdown",
   "metadata": {},
   "source": [
    "##  Simple Model using embeddings in Keras"
   ]
  },
  {
   "cell_type": "code",
   "execution_count": 138,
   "metadata": {
    "collapsed": true
   },
   "outputs": [],
   "source": [
    "def embedding_input(name, n_in, n_out, reg):\n",
    "    inp = Input(shape=(1,), dtype='int64', name=name)\n",
    "    return inp, Embedding(input_dim=n_in, output_dim=n_out, input_length=1, embeddings_regularizer=l2(reg))(inp)"
   ]
  },
  {
   "cell_type": "code",
   "execution_count": 139,
   "metadata": {
    "collapsed": true
   },
   "outputs": [],
   "source": [
    "user_in, u = embedding_input('user_in', n_users, n_factors, 1e-3)\n",
    "prod_in, p = embedding_input('prod_in', n_prods, n_factors, 1e-3)"
   ]
  },
  {
   "cell_type": "code",
   "execution_count": 140,
   "metadata": {
    "collapsed": true
   },
   "outputs": [],
   "source": [
    "def create_bias(inp, n_in):\n",
    "    x = Embedding(input_dim=n_in, output_dim=1, input_length=1)(inp)\n",
    "    return Flatten()(x)"
   ]
  },
  {
   "cell_type": "code",
   "execution_count": 141,
   "metadata": {
    "collapsed": true
   },
   "outputs": [],
   "source": [
    "ub = create_bias(user_in, n_users)\n",
    "pb = create_bias(prod_in, n_prods)"
   ]
  },
  {
   "cell_type": "code",
   "execution_count": 142,
   "metadata": {
    "collapsed": true
   },
   "outputs": [],
   "source": [
    "x = dot([u, p], axes=2)\n",
    "x = Flatten()(x)\n",
    "x = add([x, ub])\n",
    "x = add([x, pb])\n",
    "model = Model([user_in, prod_in], x)\n",
    "model.compile(Adam(0.001), loss='mse')"
   ]
  },
  {
   "cell_type": "code",
   "execution_count": 143,
   "metadata": {},
   "outputs": [
    {
     "name": "stdout",
     "output_type": "stream",
     "text": [
      "Train on 80109 samples, validate on 19891 samples\n",
      "Epoch 1/1\n",
      "80109/80109 [==============================] - 21s - loss: 0.9724 - val_loss: 0.9576\n"
     ]
    },
    {
     "data": {
      "text/plain": [
       "<keras.callbacks.History at 0x7f20507cdba8>"
      ]
     },
     "execution_count": 143,
     "metadata": {},
     "output_type": "execute_result"
    }
   ],
   "source": [
    "model.fit([trn.user_id, trn.product_id], trn.reordered, batch_size=64, epochs=1, \n",
    "          validation_data=([val.user_id, val.product_id], val.reordered))"
   ]
  },
  {
   "cell_type": "code",
   "execution_count": 144,
   "metadata": {
    "collapsed": true
   },
   "outputs": [],
   "source": [
    "model.optimizer.lr=0.01"
   ]
  },
  {
   "cell_type": "code",
   "execution_count": 145,
   "metadata": {},
   "outputs": [
    {
     "name": "stdout",
     "output_type": "stream",
     "text": [
      "Train on 80109 samples, validate on 19891 samples\n",
      "Epoch 1/6\n",
      "80109/80109 [==============================] - 21s - loss: 0.9046 - val_loss: 0.9261\n",
      "Epoch 2/6\n",
      "80109/80109 [==============================] - 21s - loss: 0.8695 - val_loss: 0.9084\n",
      "Epoch 3/6\n",
      "80109/80109 [==============================] - 24s - loss: 0.8457 - val_loss: 0.8977\n",
      "Epoch 4/6\n",
      "80109/80109 [==============================] - 25s - loss: 0.8284 - val_loss: 0.8912\n",
      "Epoch 5/6\n",
      "80109/80109 [==============================] - 24s - loss: 0.8152 - val_loss: 0.8873\n",
      "Epoch 6/6\n",
      "80109/80109 [==============================] - 23s - loss: 0.8049 - val_loss: 0.8855\n"
     ]
    },
    {
     "data": {
      "text/plain": [
       "<keras.callbacks.History at 0x7f20507e4e80>"
      ]
     },
     "execution_count": 145,
     "metadata": {},
     "output_type": "execute_result"
    }
   ],
   "source": [
    "model.fit([trn.user_id, trn.product_id], trn.reordered, batch_size=64, epochs=6, \n",
    "          validation_data=([val.user_id, val.product_id], val.reordered))"
   ]
  },
  {
   "cell_type": "code",
   "execution_count": 146,
   "metadata": {
    "collapsed": true
   },
   "outputs": [],
   "source": [
    "model.optimizer.lr=0.001"
   ]
  },
  {
   "cell_type": "code",
   "execution_count": 147,
   "metadata": {},
   "outputs": [
    {
     "name": "stdout",
     "output_type": "stream",
     "text": [
      "Train on 80109 samples, validate on 19891 samples\n",
      "Epoch 1/10\n",
      "80109/80109 [==============================] - 24s - loss: 0.7964 - val_loss: 0.8840\n",
      "Epoch 2/10\n",
      "80109/80109 [==============================] - 25s - loss: 0.7894 - val_loss: 0.8836\n",
      "Epoch 3/10\n",
      "80109/80109 [==============================] - 23s - loss: 0.7835 - val_loss: 0.8835\n",
      "Epoch 4/10\n",
      "80109/80109 [==============================] - 25s - loss: 0.7783 - val_loss: 0.8836\n",
      "Epoch 5/10\n",
      "80109/80109 [==============================] - 25s - loss: 0.7739 - val_loss: 0.8844\n",
      "Epoch 6/10\n",
      "80109/80109 [==============================] - 25s - loss: 0.7698 - val_loss: 0.8851\n",
      "Epoch 7/10\n",
      "80109/80109 [==============================] - 24s - loss: 0.7663 - val_loss: 0.8857\n",
      "Epoch 8/10\n",
      "80109/80109 [==============================] - 24s - loss: 0.7632 - val_loss: 0.8868\n",
      "Epoch 9/10\n",
      "80109/80109 [==============================] - 24s - loss: 0.7602 - val_loss: 0.8875\n",
      "Epoch 10/10\n",
      "80109/80109 [==============================] - 25s - loss: 0.7576 - val_loss: 0.8885\n"
     ]
    },
    {
     "data": {
      "text/plain": [
       "<keras.callbacks.History at 0x7f2050725898>"
      ]
     },
     "execution_count": 147,
     "metadata": {},
     "output_type": "execute_result"
    }
   ],
   "source": [
    "model.fit([trn.user_id, trn.product_id], trn.reordered, batch_size=64, epochs=10, \n",
    "          validation_data=([val.user_id, val.product_id], val.reordered))"
   ]
  },
  {
   "cell_type": "code",
   "execution_count": 148,
   "metadata": {},
   "outputs": [
    {
     "name": "stdout",
     "output_type": "stream",
     "text": [
      "Train on 80109 samples, validate on 19891 samples\n",
      "Epoch 1/5\n",
      "80109/80109 [==============================] - 24s - loss: 0.7552 - val_loss: 0.8893\n",
      "Epoch 2/5\n",
      "80109/80109 [==============================] - 23s - loss: 0.7529 - val_loss: 0.8904\n",
      "Epoch 3/5\n",
      "80109/80109 [==============================] - 25s - loss: 0.7508 - val_loss: 0.8914\n",
      "Epoch 4/5\n",
      "80109/80109 [==============================] - 23s - loss: 0.7489 - val_loss: 0.8924\n",
      "Epoch 5/5\n",
      "80109/80109 [==============================] - 23s - loss: 0.7471 - val_loss: 0.8936\n"
     ]
    },
    {
     "data": {
      "text/plain": [
       "<keras.callbacks.History at 0x7f20497172b0>"
      ]
     },
     "execution_count": 148,
     "metadata": {},
     "output_type": "execute_result"
    }
   ],
   "source": [
    "model.fit([trn.user_id, trn.product_id], trn.reordered, batch_size=64, epochs=5, \n",
    "          validation_data=([val.user_id, val.product_id], val.reordered))"
   ]
  },
  {
   "cell_type": "code",
   "execution_count": 152,
   "metadata": {
    "collapsed": true
   },
   "outputs": [],
   "source": [
    "model.save_weights('models/simplemodel.h5')"
   ]
  },
  {
   "cell_type": "code",
   "execution_count": 153,
   "metadata": {
    "collapsed": true,
    "scrolled": true
   },
   "outputs": [],
   "source": [
    "model.load_weights('models/simplemodel.h5')"
   ]
  },
  {
   "cell_type": "markdown",
   "metadata": {},
   "source": [
    "We can use the model to generate predictions by passing a pair of ints - a user id and a product id. For instance, this predicts that user #0 is likely to reorder product #15 (soda) and not likely to reorder product #12 (organic whole milk)."
   ]
  },
  {
   "cell_type": "code",
   "execution_count": 159,
   "metadata": {},
   "outputs": [
    {
     "data": {
      "text/plain": [
       "(array([[ 0.6457]], dtype=float32), array([[ 1.3297]], dtype=float32))"
      ]
     },
     "execution_count": 159,
     "metadata": {},
     "output_type": "execute_result"
    }
   ],
   "source": [
    "model.predict([np.array([0]), np.array([16])]), model.predict([np.array([0]), np.array([13])])"
   ]
  },
  {
   "cell_type": "code",
   "execution_count": 155,
   "metadata": {},
   "outputs": [
    {
     "data": {
      "text/html": [
       "<div>\n",
       "<style>\n",
       "    .dataframe thead tr:only-child th {\n",
       "        text-align: right;\n",
       "    }\n",
       "\n",
       "    .dataframe thead th {\n",
       "        text-align: left;\n",
       "    }\n",
       "\n",
       "    .dataframe tbody tr th {\n",
       "        vertical-align: top;\n",
       "    }\n",
       "</style>\n",
       "<table border=\"1\" class=\"dataframe\">\n",
       "  <thead>\n",
       "    <tr style=\"text-align: right;\">\n",
       "      <th></th>\n",
       "      <th>user_id</th>\n",
       "      <th>product_name</th>\n",
       "      <th>product_id</th>\n",
       "      <th>reordered</th>\n",
       "    </tr>\n",
       "  </thead>\n",
       "  <tbody>\n",
       "    <tr>\n",
       "      <th>0</th>\n",
       "      <td>0</td>\n",
       "      <td>0% Greek Strained Yogurt</td>\n",
       "      <td>0</td>\n",
       "      <td>-0.11</td>\n",
       "    </tr>\n",
       "    <tr>\n",
       "      <th>1</th>\n",
       "      <td>0</td>\n",
       "      <td>Aged White Cheddar Popcorn</td>\n",
       "      <td>1</td>\n",
       "      <td>0.18</td>\n",
       "    </tr>\n",
       "    <tr>\n",
       "      <th>2</th>\n",
       "      <td>0</td>\n",
       "      <td>Bag of Organic Bananas</td>\n",
       "      <td>2</td>\n",
       "      <td>-0.11</td>\n",
       "    </tr>\n",
       "    <tr>\n",
       "      <th>3</th>\n",
       "      <td>0</td>\n",
       "      <td>Bartlett Pears</td>\n",
       "      <td>3</td>\n",
       "      <td>-0.40</td>\n",
       "    </tr>\n",
       "    <tr>\n",
       "      <th>4</th>\n",
       "      <td>0</td>\n",
       "      <td>Cinnamon Toast Crunch</td>\n",
       "      <td>4</td>\n",
       "      <td>0.47</td>\n",
       "    </tr>\n",
       "    <tr>\n",
       "      <th>5</th>\n",
       "      <td>0</td>\n",
       "      <td>Creamy Almond Butter</td>\n",
       "      <td>5</td>\n",
       "      <td>-0.40</td>\n",
       "    </tr>\n",
       "    <tr>\n",
       "      <th>6</th>\n",
       "      <td>0</td>\n",
       "      <td>Honeycrisp Apples</td>\n",
       "      <td>6</td>\n",
       "      <td>-0.40</td>\n",
       "    </tr>\n",
       "    <tr>\n",
       "      <th>7</th>\n",
       "      <td>0</td>\n",
       "      <td>Milk Chocolate Almonds</td>\n",
       "      <td>7</td>\n",
       "      <td>-0.11</td>\n",
       "    </tr>\n",
       "    <tr>\n",
       "      <th>8</th>\n",
       "      <td>0</td>\n",
       "      <td>Organic Fuji Apples</td>\n",
       "      <td>8</td>\n",
       "      <td>-0.40</td>\n",
       "    </tr>\n",
       "    <tr>\n",
       "      <th>9</th>\n",
       "      <td>0</td>\n",
       "      <td>Organic Half &amp; Half</td>\n",
       "      <td>9</td>\n",
       "      <td>0.18</td>\n",
       "    </tr>\n",
       "    <tr>\n",
       "      <th>10</th>\n",
       "      <td>0</td>\n",
       "      <td>Organic String Cheese</td>\n",
       "      <td>10</td>\n",
       "      <td>1.94</td>\n",
       "    </tr>\n",
       "    <tr>\n",
       "      <th>11</th>\n",
       "      <td>0</td>\n",
       "      <td>Organic Unsweetened Almond Milk</td>\n",
       "      <td>11</td>\n",
       "      <td>-0.40</td>\n",
       "    </tr>\n",
       "    <tr>\n",
       "      <th>12</th>\n",
       "      <td>0</td>\n",
       "      <td>Organic Unsweetened Vanilla Almond Milk</td>\n",
       "      <td>12</td>\n",
       "      <td>-0.40</td>\n",
       "    </tr>\n",
       "    <tr>\n",
       "      <th>13</th>\n",
       "      <td>0</td>\n",
       "      <td>Organic Whole Milk</td>\n",
       "      <td>13</td>\n",
       "      <td>-0.40</td>\n",
       "    </tr>\n",
       "    <tr>\n",
       "      <th>14</th>\n",
       "      <td>0</td>\n",
       "      <td>Original Beef Jerky</td>\n",
       "      <td>14</td>\n",
       "      <td>2.23</td>\n",
       "    </tr>\n",
       "    <tr>\n",
       "      <th>15</th>\n",
       "      <td>0</td>\n",
       "      <td>Pistachios</td>\n",
       "      <td>15</td>\n",
       "      <td>2.23</td>\n",
       "    </tr>\n",
       "    <tr>\n",
       "      <th>16</th>\n",
       "      <td>0</td>\n",
       "      <td>Soda</td>\n",
       "      <td>16</td>\n",
       "      <td>2.52</td>\n",
       "    </tr>\n",
       "    <tr>\n",
       "      <th>17</th>\n",
       "      <td>0</td>\n",
       "      <td>XL Pick-A-Size Paper Towel Rolls</td>\n",
       "      <td>17</td>\n",
       "      <td>0.18</td>\n",
       "    </tr>\n",
       "    <tr>\n",
       "      <th>18</th>\n",
       "      <td>0</td>\n",
       "      <td>Zero Calorie Cola</td>\n",
       "      <td>18</td>\n",
       "      <td>0.47</td>\n",
       "    </tr>\n",
       "    <tr>\n",
       "      <th>19</th>\n",
       "      <td>1</td>\n",
       "      <td>100% Mighty Mango Juice Smoothie</td>\n",
       "      <td>19</td>\n",
       "      <td>-0.40</td>\n",
       "    </tr>\n",
       "    <tr>\n",
       "      <th>20</th>\n",
       "      <td>1</td>\n",
       "      <td>All Natural Honey Almond Butter</td>\n",
       "      <td>20</td>\n",
       "      <td>-0.40</td>\n",
       "    </tr>\n",
       "    <tr>\n",
       "      <th>21</th>\n",
       "      <td>1</td>\n",
       "      <td>Apple Cinnamon Fig Bar</td>\n",
       "      <td>21</td>\n",
       "      <td>-0.40</td>\n",
       "    </tr>\n",
       "    <tr>\n",
       "      <th>22</th>\n",
       "      <td>1</td>\n",
       "      <td>Artichoke Spinach Dip</td>\n",
       "      <td>22</td>\n",
       "      <td>-0.40</td>\n",
       "    </tr>\n",
       "    <tr>\n",
       "      <th>23</th>\n",
       "      <td>1</td>\n",
       "      <td>Asian Pears</td>\n",
       "      <td>23</td>\n",
       "      <td>-0.40</td>\n",
       "    </tr>\n",
       "    <tr>\n",
       "      <th>24</th>\n",
       "      <td>1</td>\n",
       "      <td>Bag of Organic Bananas</td>\n",
       "      <td>2</td>\n",
       "      <td>-0.40</td>\n",
       "    </tr>\n",
       "    <tr>\n",
       "      <th>25</th>\n",
       "      <td>1</td>\n",
       "      <td>Baked Organic Sea Salt Crunchy Pea Snack</td>\n",
       "      <td>24</td>\n",
       "      <td>0.77</td>\n",
       "    </tr>\n",
       "    <tr>\n",
       "      <th>26</th>\n",
       "      <td>1</td>\n",
       "      <td>Banana</td>\n",
       "      <td>25</td>\n",
       "      <td>1.64</td>\n",
       "    </tr>\n",
       "    <tr>\n",
       "      <th>27</th>\n",
       "      <td>1</td>\n",
       "      <td>Bartlett Pears</td>\n",
       "      <td>3</td>\n",
       "      <td>0.18</td>\n",
       "    </tr>\n",
       "    <tr>\n",
       "      <th>28</th>\n",
       "      <td>1</td>\n",
       "      <td>Birthday Cake Light Ice Cream</td>\n",
       "      <td>26</td>\n",
       "      <td>-0.40</td>\n",
       "    </tr>\n",
       "    <tr>\n",
       "      <th>29</th>\n",
       "      <td>1</td>\n",
       "      <td>Black Bean Vegetables Burrito</td>\n",
       "      <td>27</td>\n",
       "      <td>-0.40</td>\n",
       "    </tr>\n",
       "    <tr>\n",
       "      <th>...</th>\n",
       "      <td>...</td>\n",
       "      <td>...</td>\n",
       "      <td>...</td>\n",
       "      <td>...</td>\n",
       "    </tr>\n",
       "    <tr>\n",
       "      <th>99970</th>\n",
       "      <td>1546</td>\n",
       "      <td>Large Lemon</td>\n",
       "      <td>385</td>\n",
       "      <td>0.18</td>\n",
       "    </tr>\n",
       "    <tr>\n",
       "      <th>99971</th>\n",
       "      <td>1546</td>\n",
       "      <td>Lemon Italian Sparkling Mineral Water</td>\n",
       "      <td>4642</td>\n",
       "      <td>-0.11</td>\n",
       "    </tr>\n",
       "    <tr>\n",
       "      <th>99972</th>\n",
       "      <td>1546</td>\n",
       "      <td>Lemon Sparkling Mineral Water</td>\n",
       "      <td>9331</td>\n",
       "      <td>1.06</td>\n",
       "    </tr>\n",
       "    <tr>\n",
       "      <th>99973</th>\n",
       "      <td>1546</td>\n",
       "      <td>Lime Italian Sparkling Mineral Water</td>\n",
       "      <td>822</td>\n",
       "      <td>0.47</td>\n",
       "    </tr>\n",
       "    <tr>\n",
       "      <th>99974</th>\n",
       "      <td>1546</td>\n",
       "      <td>Limes</td>\n",
       "      <td>238</td>\n",
       "      <td>-0.40</td>\n",
       "    </tr>\n",
       "    <tr>\n",
       "      <th>99975</th>\n",
       "      <td>1546</td>\n",
       "      <td>Liv A Littles Chicken Cat &amp; Dog Treats</td>\n",
       "      <td>11647</td>\n",
       "      <td>-0.40</td>\n",
       "    </tr>\n",
       "    <tr>\n",
       "      <th>99976</th>\n",
       "      <td>1546</td>\n",
       "      <td>Low Fat Strawberry Yogurt Tubes</td>\n",
       "      <td>2617</td>\n",
       "      <td>-0.11</td>\n",
       "    </tr>\n",
       "    <tr>\n",
       "      <th>99977</th>\n",
       "      <td>1546</td>\n",
       "      <td>Marinara Sauce</td>\n",
       "      <td>2417</td>\n",
       "      <td>-0.11</td>\n",
       "    </tr>\n",
       "    <tr>\n",
       "      <th>99978</th>\n",
       "      <td>1546</td>\n",
       "      <td>Mild Salsa</td>\n",
       "      <td>389</td>\n",
       "      <td>-0.40</td>\n",
       "    </tr>\n",
       "    <tr>\n",
       "      <th>99979</th>\n",
       "      <td>1546</td>\n",
       "      <td>Muffins, Flax, Wild Blueberry</td>\n",
       "      <td>6230</td>\n",
       "      <td>0.18</td>\n",
       "    </tr>\n",
       "    <tr>\n",
       "      <th>99980</th>\n",
       "      <td>1546</td>\n",
       "      <td>Multi-Seed Original Crackers</td>\n",
       "      <td>6948</td>\n",
       "      <td>-0.40</td>\n",
       "    </tr>\n",
       "    <tr>\n",
       "      <th>99981</th>\n",
       "      <td>1546</td>\n",
       "      <td>Natural Artisan Water</td>\n",
       "      <td>1215</td>\n",
       "      <td>0.18</td>\n",
       "    </tr>\n",
       "    <tr>\n",
       "      <th>99982</th>\n",
       "      <td>1546</td>\n",
       "      <td>Nectarines</td>\n",
       "      <td>2219</td>\n",
       "      <td>-0.11</td>\n",
       "    </tr>\n",
       "    <tr>\n",
       "      <th>99983</th>\n",
       "      <td>1546</td>\n",
       "      <td>Nordic Berries, Multivitamin Gummies</td>\n",
       "      <td>19055</td>\n",
       "      <td>-0.40</td>\n",
       "    </tr>\n",
       "    <tr>\n",
       "      <th>99984</th>\n",
       "      <td>1546</td>\n",
       "      <td>Orange Peel In Dark Chocolate Bar</td>\n",
       "      <td>2182</td>\n",
       "      <td>-0.40</td>\n",
       "    </tr>\n",
       "    <tr>\n",
       "      <th>99985</th>\n",
       "      <td>1546</td>\n",
       "      <td>Orange Sauce</td>\n",
       "      <td>19056</td>\n",
       "      <td>-0.40</td>\n",
       "    </tr>\n",
       "    <tr>\n",
       "      <th>99986</th>\n",
       "      <td>1546</td>\n",
       "      <td>Organic 100% Whole Wheat Loaf</td>\n",
       "      <td>14478</td>\n",
       "      <td>-0.11</td>\n",
       "    </tr>\n",
       "    <tr>\n",
       "      <th>99987</th>\n",
       "      <td>1546</td>\n",
       "      <td>Organic Aromatherapeutic Moroccan Argan Oil Set</td>\n",
       "      <td>19057</td>\n",
       "      <td>-0.40</td>\n",
       "    </tr>\n",
       "    <tr>\n",
       "      <th>99988</th>\n",
       "      <td>1546</td>\n",
       "      <td>Organic Baby Broccoli</td>\n",
       "      <td>503</td>\n",
       "      <td>-0.40</td>\n",
       "    </tr>\n",
       "    <tr>\n",
       "      <th>99989</th>\n",
       "      <td>1546</td>\n",
       "      <td>Organic Baby Rainbow Carrots</td>\n",
       "      <td>1620</td>\n",
       "      <td>-0.40</td>\n",
       "    </tr>\n",
       "    <tr>\n",
       "      <th>99990</th>\n",
       "      <td>1546</td>\n",
       "      <td>Organic Basil</td>\n",
       "      <td>1621</td>\n",
       "      <td>0.18</td>\n",
       "    </tr>\n",
       "    <tr>\n",
       "      <th>99991</th>\n",
       "      <td>1546</td>\n",
       "      <td>Organic Blueberries</td>\n",
       "      <td>246</td>\n",
       "      <td>-0.40</td>\n",
       "    </tr>\n",
       "    <tr>\n",
       "      <th>99992</th>\n",
       "      <td>1546</td>\n",
       "      <td>Organic Brown Rice</td>\n",
       "      <td>2722</td>\n",
       "      <td>-0.40</td>\n",
       "    </tr>\n",
       "    <tr>\n",
       "      <th>99993</th>\n",
       "      <td>1546</td>\n",
       "      <td>Organic Cold-Pressed Orange Juice</td>\n",
       "      <td>12584</td>\n",
       "      <td>0.47</td>\n",
       "    </tr>\n",
       "    <tr>\n",
       "      <th>99994</th>\n",
       "      <td>1546</td>\n",
       "      <td>Organic Cripps Pink Apples</td>\n",
       "      <td>824</td>\n",
       "      <td>-0.11</td>\n",
       "    </tr>\n",
       "    <tr>\n",
       "      <th>99995</th>\n",
       "      <td>1546</td>\n",
       "      <td>Organic Dark Chocolate Peanut Butter Cups</td>\n",
       "      <td>3446</td>\n",
       "      <td>-0.40</td>\n",
       "    </tr>\n",
       "    <tr>\n",
       "      <th>99996</th>\n",
       "      <td>1546</td>\n",
       "      <td>Organic Fat Free Milk</td>\n",
       "      <td>2432</td>\n",
       "      <td>-0.11</td>\n",
       "    </tr>\n",
       "    <tr>\n",
       "      <th>99997</th>\n",
       "      <td>1546</td>\n",
       "      <td>Organic Ginger Limeade Fruit Juice Drink</td>\n",
       "      <td>8615</td>\n",
       "      <td>-0.11</td>\n",
       "    </tr>\n",
       "    <tr>\n",
       "      <th>99998</th>\n",
       "      <td>1546</td>\n",
       "      <td>Organic Gluten Free &amp; Wheat Free Pumpkin Spice...</td>\n",
       "      <td>3847</td>\n",
       "      <td>-0.11</td>\n",
       "    </tr>\n",
       "    <tr>\n",
       "      <th>99999</th>\n",
       "      <td>1546</td>\n",
       "      <td>Organic Grade A Free Range Large Brown Eggs</td>\n",
       "      <td>455</td>\n",
       "      <td>-0.11</td>\n",
       "    </tr>\n",
       "  </tbody>\n",
       "</table>\n",
       "<p>100000 rows × 4 columns</p>\n",
       "</div>"
      ],
      "text/plain": [
       "       user_id                                       product_name  product_id  \\\n",
       "0            0                           0% Greek Strained Yogurt           0   \n",
       "1            0                         Aged White Cheddar Popcorn           1   \n",
       "2            0                             Bag of Organic Bananas           2   \n",
       "3            0                                     Bartlett Pears           3   \n",
       "4            0                              Cinnamon Toast Crunch           4   \n",
       "5            0                               Creamy Almond Butter           5   \n",
       "6            0                                  Honeycrisp Apples           6   \n",
       "7            0                             Milk Chocolate Almonds           7   \n",
       "8            0                                Organic Fuji Apples           8   \n",
       "9            0                                Organic Half & Half           9   \n",
       "10           0                              Organic String Cheese          10   \n",
       "11           0                    Organic Unsweetened Almond Milk          11   \n",
       "12           0            Organic Unsweetened Vanilla Almond Milk          12   \n",
       "13           0                                 Organic Whole Milk          13   \n",
       "14           0                                Original Beef Jerky          14   \n",
       "15           0                                         Pistachios          15   \n",
       "16           0                                               Soda          16   \n",
       "17           0                   XL Pick-A-Size Paper Towel Rolls          17   \n",
       "18           0                                  Zero Calorie Cola          18   \n",
       "19           1                   100% Mighty Mango Juice Smoothie          19   \n",
       "20           1                    All Natural Honey Almond Butter          20   \n",
       "21           1                             Apple Cinnamon Fig Bar          21   \n",
       "22           1                              Artichoke Spinach Dip          22   \n",
       "23           1                                        Asian Pears          23   \n",
       "24           1                             Bag of Organic Bananas           2   \n",
       "25           1           Baked Organic Sea Salt Crunchy Pea Snack          24   \n",
       "26           1                                             Banana          25   \n",
       "27           1                                     Bartlett Pears           3   \n",
       "28           1                      Birthday Cake Light Ice Cream          26   \n",
       "29           1                      Black Bean Vegetables Burrito          27   \n",
       "...        ...                                                ...         ...   \n",
       "99970     1546                                        Large Lemon         385   \n",
       "99971     1546              Lemon Italian Sparkling Mineral Water        4642   \n",
       "99972     1546                      Lemon Sparkling Mineral Water        9331   \n",
       "99973     1546               Lime Italian Sparkling Mineral Water         822   \n",
       "99974     1546                                              Limes         238   \n",
       "99975     1546             Liv A Littles Chicken Cat & Dog Treats       11647   \n",
       "99976     1546                    Low Fat Strawberry Yogurt Tubes        2617   \n",
       "99977     1546                                     Marinara Sauce        2417   \n",
       "99978     1546                                         Mild Salsa         389   \n",
       "99979     1546                      Muffins, Flax, Wild Blueberry        6230   \n",
       "99980     1546                       Multi-Seed Original Crackers        6948   \n",
       "99981     1546                              Natural Artisan Water        1215   \n",
       "99982     1546                                         Nectarines        2219   \n",
       "99983     1546               Nordic Berries, Multivitamin Gummies       19055   \n",
       "99984     1546                  Orange Peel In Dark Chocolate Bar        2182   \n",
       "99985     1546                                       Orange Sauce       19056   \n",
       "99986     1546                      Organic 100% Whole Wheat Loaf       14478   \n",
       "99987     1546    Organic Aromatherapeutic Moroccan Argan Oil Set       19057   \n",
       "99988     1546                              Organic Baby Broccoli         503   \n",
       "99989     1546                       Organic Baby Rainbow Carrots        1620   \n",
       "99990     1546                                      Organic Basil        1621   \n",
       "99991     1546                                Organic Blueberries         246   \n",
       "99992     1546                                 Organic Brown Rice        2722   \n",
       "99993     1546                  Organic Cold-Pressed Orange Juice       12584   \n",
       "99994     1546                         Organic Cripps Pink Apples         824   \n",
       "99995     1546          Organic Dark Chocolate Peanut Butter Cups        3446   \n",
       "99996     1546                              Organic Fat Free Milk        2432   \n",
       "99997     1546           Organic Ginger Limeade Fruit Juice Drink        8615   \n",
       "99998     1546  Organic Gluten Free & Wheat Free Pumpkin Spice...        3847   \n",
       "99999     1546        Organic Grade A Free Range Large Brown Eggs         455   \n",
       "\n",
       "       reordered  \n",
       "0          -0.11  \n",
       "1           0.18  \n",
       "2          -0.11  \n",
       "3          -0.40  \n",
       "4           0.47  \n",
       "5          -0.40  \n",
       "6          -0.40  \n",
       "7          -0.11  \n",
       "8          -0.40  \n",
       "9           0.18  \n",
       "10          1.94  \n",
       "11         -0.40  \n",
       "12         -0.40  \n",
       "13         -0.40  \n",
       "14          2.23  \n",
       "15          2.23  \n",
       "16          2.52  \n",
       "17          0.18  \n",
       "18          0.47  \n",
       "19         -0.40  \n",
       "20         -0.40  \n",
       "21         -0.40  \n",
       "22         -0.40  \n",
       "23         -0.40  \n",
       "24         -0.40  \n",
       "25          0.77  \n",
       "26          1.64  \n",
       "27          0.18  \n",
       "28         -0.40  \n",
       "29         -0.40  \n",
       "...          ...  \n",
       "99970       0.18  \n",
       "99971      -0.11  \n",
       "99972       1.06  \n",
       "99973       0.47  \n",
       "99974      -0.40  \n",
       "99975      -0.40  \n",
       "99976      -0.11  \n",
       "99977      -0.11  \n",
       "99978      -0.40  \n",
       "99979       0.18  \n",
       "99980      -0.40  \n",
       "99981       0.18  \n",
       "99982      -0.11  \n",
       "99983      -0.40  \n",
       "99984      -0.40  \n",
       "99985      -0.40  \n",
       "99986      -0.11  \n",
       "99987      -0.40  \n",
       "99988      -0.40  \n",
       "99989      -0.40  \n",
       "99990       0.18  \n",
       "99991      -0.40  \n",
       "99992      -0.40  \n",
       "99993       0.47  \n",
       "99994      -0.11  \n",
       "99995      -0.40  \n",
       "99996      -0.11  \n",
       "99997      -0.11  \n",
       "99998      -0.11  \n",
       "99999      -0.11  \n",
       "\n",
       "[100000 rows x 4 columns]"
      ]
     },
     "execution_count": 155,
     "metadata": {},
     "output_type": "execute_result"
    }
   ],
   "source": [
    "prod_ratings"
   ]
  },
  {
   "cell_type": "markdown",
   "metadata": {},
   "source": [
    "## Analyze results"
   ]
  },
  {
   "cell_type": "markdown",
   "metadata": {},
   "source": [
    "For simplicity, we restict the analysis to the top 2000 most popular products."
   ]
  },
  {
   "cell_type": "code",
   "execution_count": 165,
   "metadata": {
    "collapsed": true
   },
   "outputs": [],
   "source": [
    "g=prod_ratings.groupby('product_id')['reordered'].count()\n",
    "topProds=g.sort_values(ascending=False)[:2000]\n",
    "topProds = np.array(topProds.index)"
   ]
  },
  {
   "cell_type": "code",
   "execution_count": 190,
   "metadata": {},
   "outputs": [
    {
     "data": {
      "text/plain": [
       "array([  24,    2,  154, ...,  744, 5189, 3390])"
      ]
     },
     "execution_count": 190,
     "metadata": {},
     "output_type": "execute_result"
    }
   ],
   "source": [
    "topProds"
   ]
  },
  {
   "cell_type": "markdown",
   "metadata": {},
   "source": [
    "Let us first look at the product bias term. We create a model using the functional API. Our input is the product id and the output is the product bias term."
   ]
  },
  {
   "cell_type": "code",
   "execution_count": 181,
   "metadata": {
    "collapsed": true
   },
   "outputs": [],
   "source": [
    "prod_names = prod_ratings['product_name'].to_dict"
   ]
  },
  {
   "cell_type": "code",
   "execution_count": 193,
   "metadata": {},
   "outputs": [
    {
     "data": {
      "text/plain": [
       "'Banana'"
      ]
     },
     "execution_count": 193,
     "metadata": {},
     "output_type": "execute_result"
    }
   ],
   "source": [
    "#top product is banana\n",
    "prod_names()[topProds[0]]"
   ]
  },
  {
   "cell_type": "code",
   "execution_count": 194,
   "metadata": {
    "collapsed": true
   },
   "outputs": [],
   "source": [
    "get_prod_bias = Model(prod_in, pb)\n",
    "prod_bias = get_prod_bias.predict(topProds)\n",
    "product_ratings = [(b[0], prod_names()[prods[i]]) for i,b in zip(topProds,prod_bias)]"
   ]
  },
  {
   "cell_type": "markdown",
   "metadata": {},
   "source": [
    "Now we can look at the top and bottom rated products. These ratings take into account user sentiment, as well as different types of producst that different users reorder."
   ]
  },
  {
   "cell_type": "code",
   "execution_count": 195,
   "metadata": {},
   "outputs": [
    {
     "data": {
      "text/plain": [
       "[(-0.68483967, 'Spinach'),\n",
       " (-0.66879153, 'Frozen Broccoli Florets'),\n",
       " (-0.53963488, 'Total 2% Greek Strained Yogurt with Cherry 5.3 oz'),\n",
       " (-0.52844012, 'Organic Black Beans'),\n",
       " (-0.51432961, 'Seasoned Chicken Fry Batter Mix'),\n",
       " (-0.51392204, 'Organic Beans And Cheese Burrito'),\n",
       " (-0.51139426, 'Total 2% Lowfat Greek Strained Yogurt With Blueberry'),\n",
       " (-0.50461668, 'Mini Double Caramel Ice Cream Bars'),\n",
       " (-0.50375521, 'Organic Cream Cheese Bar'),\n",
       " (-0.5030793, 'Reduced Fat Irish Butter'),\n",
       " (-0.50286722, 'Seasoning Bay Leaf'),\n",
       " (-0.50137478, 'Beer'),\n",
       " (-0.50043839, 'Total 0% Greek Yogurt'),\n",
       " (-0.4955267, 'Hawaiian Breeze and Vanilla Passion Fruit 2-in-1 Candle'),\n",
       " (-0.48716488, 'Mild Red Enchilada Sauce')]"
      ]
     },
     "execution_count": 195,
     "metadata": {},
     "output_type": "execute_result"
    }
   ],
   "source": [
    "sorted(product_ratings, key=itemgetter(0))[:15]"
   ]
  },
  {
   "cell_type": "code",
   "execution_count": 196,
   "metadata": {},
   "outputs": [
    {
     "data": {
      "text/plain": [
       "[(1.1003503, 'Intensive Care Cocoa Radiant Lotion'),\n",
       " (0.92698514, 'Banana'),\n",
       " (0.833215, 'Nonfat Icelandic Style Strawberry Yogurt'),\n",
       " (0.82355499, 'Kettle Style Sweet Maui Onion Potato Chips'),\n",
       " (0.81986839, 'Bag of Organic Bananas'),\n",
       " (0.81064606, 'Unsweetened Watermelon Water'),\n",
       " (0.78022283, 'Organic Whole Milk'),\n",
       " (0.7734192, 'Table Water Crackers with Cracked Pepper'),\n",
       " (0.76904273, 'Original Key Lime Pie Yogurt'),\n",
       " (0.76465553, 'China Green Tips Green Tea'),\n",
       " (0.7511853, 'Alpine Spring Water'),\n",
       " (0.71296746, 'Mandarin Oranges'),\n",
       " (0.69823372, 'Premium Solid White Albacore Tuna in Water'),\n",
       " (0.69281495, 'Ranch Dressing'),\n",
       " (0.68892491, 'Organic Baby Arugula')]"
      ]
     },
     "execution_count": 196,
     "metadata": {},
     "output_type": "execute_result"
    }
   ],
   "source": [
    "sorted(product_ratings, key=itemgetter(0), reverse=True)[:15]"
   ]
  },
  {
   "cell_type": "markdown",
   "metadata": {},
   "source": [
    "We can now do the same thing for the embeddings."
   ]
  },
  {
   "cell_type": "code",
   "execution_count": 197,
   "metadata": {},
   "outputs": [
    {
     "data": {
      "text/plain": [
       "(2000, 100)"
      ]
     },
     "execution_count": 197,
     "metadata": {},
     "output_type": "execute_result"
    }
   ],
   "source": [
    "get_prod_emb = Model(prod_in, p)\n",
    "prod_emb = np.squeeze(get_prod_emb.predict([topProds]))\n",
    "prod_emb.shape"
   ]
  },
  {
   "cell_type": "markdown",
   "metadata": {},
   "source": [
    "Because it's hard to interpret 100 embeddings, we use [PCA](https://plot.ly/ipython-notebooks/principal-component-analysis/) to simplify them down to just 3 vectors. "
   ]
  },
  {
   "cell_type": "code",
   "execution_count": 198,
   "metadata": {
    "collapsed": true
   },
   "outputs": [],
   "source": [
    "from sklearn.decomposition import PCA\n",
    "pca = PCA(n_components=3)\n",
    "prod_pca = pca.fit(prod_emb.T).components_"
   ]
  },
  {
   "cell_type": "code",
   "execution_count": 199,
   "metadata": {
    "collapsed": true
   },
   "outputs": [],
   "source": [
    "fac0 = prod_pca[0]"
   ]
  },
  {
   "cell_type": "code",
   "execution_count": 200,
   "metadata": {
    "collapsed": true
   },
   "outputs": [],
   "source": [
    "prod_comp = [(f, prod_names()[prods[i]]) for f,i in zip(fac0, topProds)]"
   ]
  },
  {
   "cell_type": "markdown",
   "metadata": {},
   "source": [
    "Here's the 1st component. It seems to be 'critically acclaimed' or 'classic'."
   ]
  },
  {
   "cell_type": "code",
   "execution_count": 201,
   "metadata": {},
   "outputs": [
    {
     "data": {
      "text/plain": [
       "[(0.057998200755658175, 'Organic Broccoli'),\n",
       " (0.04655566570169533, 'Tamari Gluten Free Soy Sauce'),\n",
       " (0.044916037327463174, 'Light Spread Butter Substitute'),\n",
       " (0.040458213371650197, 'Dried Sweetened Cranberries'),\n",
       " (0.040180965118022903, '85% Lean Ground Beef'),\n",
       " (0.039364458080203162, 'Organic Refried Black Beans'),\n",
       " (0.037786270996578983, 'Total 2% Lowfat Plain Greek Yogurt'),\n",
       " (0.037103915601006732, '100% Pure Eucalyptus Essential Oil'),\n",
       " (0.034049299473899793, 'Plain Whole Milk Yogurt'),\n",
       " (0.032488596804408909, 'Organic SprouTofu Silken Tofu')]"
      ]
     },
     "execution_count": 201,
     "metadata": {},
     "output_type": "execute_result"
    }
   ],
   "source": [
    "sorted(prod_comp, key=itemgetter(0), reverse=True)[:10]"
   ]
  },
  {
   "cell_type": "code",
   "execution_count": 202,
   "metadata": {},
   "outputs": [
    {
     "data": {
      "text/plain": [
       "[(-0.3655462912487541, 'Banana'),\n",
       " (-0.20274195753288568, 'Organic Kiwi'),\n",
       " (-0.18050606717920115, 'Parsley'),\n",
       " (-0.17992331877779169, 'Organic Whole Milk'),\n",
       " (-0.17594861389438468, 'Bag of Organic Bananas'),\n",
       " (-0.1701812785120552, 'Organic Packham Or Anjou Pears'),\n",
       " (-0.16399747953680302, 'Organic Baby Spinach'),\n",
       " (-0.15455060178943736, 'Granny Smith Apples'),\n",
       " (-0.14984118317452774, 'Limes'),\n",
       " (-0.1467360080333435, 'Organic Granny Smith Apple')]"
      ]
     },
     "execution_count": 202,
     "metadata": {},
     "output_type": "execute_result"
    }
   ],
   "source": [
    "sorted(prod_comp, key=itemgetter(0))[:10]"
   ]
  },
  {
   "cell_type": "code",
   "execution_count": 204,
   "metadata": {
    "collapsed": true
   },
   "outputs": [],
   "source": [
    "fac1 = prod_pca[1]"
   ]
  },
  {
   "cell_type": "code",
   "execution_count": 205,
   "metadata": {
    "collapsed": true
   },
   "outputs": [],
   "source": [
    "prod_comp = [(f, prod_names()[prods[i]]) for f,i in zip(fac1, topProds)]"
   ]
  },
  {
   "cell_type": "markdown",
   "metadata": {},
   "source": [
    "The 2nd is 'hollywood blockbuster'."
   ]
  },
  {
   "cell_type": "code",
   "execution_count": 206,
   "metadata": {},
   "outputs": [
    {
     "data": {
      "text/plain": [
       "[(0.46973019457269805, 'Bag of Organic Bananas'),\n",
       " (0.20888142909041951, 'Organic Baby Spinach'),\n",
       " (0.12254528208438059, 'Organic Packham Or Anjou Pears'),\n",
       " (0.11909096031696531, 'Organic Granny Smith Apple'),\n",
       " (0.10433095857006015, 'China Green Tips Green Tea'),\n",
       " (0.084094691313842909, 'Goat Cheese Log'),\n",
       " (0.082282504247520788, 'Chocolate & Peanut Butter Shell Topping'),\n",
       " (0.081541412069106228, 'Red Vine Tomato'),\n",
       " (0.081003771862325394, 'Sharp Cheddar Cheese'),\n",
       " (0.078475269206271681, 'Unsalted Butter')]"
      ]
     },
     "execution_count": 206,
     "metadata": {},
     "output_type": "execute_result"
    }
   ],
   "source": [
    "sorted(prod_comp, key=itemgetter(0), reverse=True)[:10]"
   ]
  },
  {
   "cell_type": "code",
   "execution_count": 207,
   "metadata": {
    "scrolled": true
   },
   "outputs": [
    {
     "data": {
      "text/plain": [
       "[(-0.41323934290238679, 'Banana'),\n",
       " (-0.10045932002761937, 'Organic Shredded Unsweetened Coconut'),\n",
       " (-0.094683940578290965, 'Limes'),\n",
       " (-0.092128675187085327, 'Variety Pack Ice Cream Bars'),\n",
       " (-0.081681581397407402, 'Walnut Halves & Pieces'),\n",
       " (-0.078884132541184371, 'The Original Worcestershire Sauce'),\n",
       " (-0.078664966260609009, 'Expressions Facial Tissue'),\n",
       " (-0.076684553766778907, 'Homestyle Classics Meatloaf'),\n",
       " (-0.07461939027367756, 'Uncured Genoa Salami'),\n",
       " (-0.06958477522711623, 'Organic Blackberries')]"
      ]
     },
     "execution_count": 207,
     "metadata": {},
     "output_type": "execute_result"
    }
   ],
   "source": [
    "sorted(prod_comp, key=itemgetter(0))[:10]"
   ]
  },
  {
   "cell_type": "code",
   "execution_count": 210,
   "metadata": {
    "collapsed": true
   },
   "outputs": [],
   "source": [
    "fac2 = prod_pca[2]"
   ]
  },
  {
   "cell_type": "code",
   "execution_count": 211,
   "metadata": {
    "collapsed": true
   },
   "outputs": [],
   "source": [
    "prod_comp = [(f, prod_names()[prods[i]]) for f,i in zip(fac2, topProds)]"
   ]
  },
  {
   "cell_type": "markdown",
   "metadata": {},
   "source": [
    "The 3rd is 'violent vs happy'."
   ]
  },
  {
   "cell_type": "code",
   "execution_count": 212,
   "metadata": {},
   "outputs": [
    {
     "data": {
      "text/plain": [
       "[(0.24474396289808431, 'Granny Smith Apples'),\n",
       " (0.18806102852457507, 'Organic Basil'),\n",
       " (0.17959289481743937, 'Organic Yellow Peaches'),\n",
       " (0.17878793995675862, 'Limes'),\n",
       " (0.16051815742618078, 'Large Burrito Flour Tortillas'),\n",
       " (0.14876265963435936, 'Organic Hearty Split Pea & Uncured Ham Soup'),\n",
       " (0.12814142569489462, 'Pure Baking Soda'),\n",
       " (0.12434003051544884, 'Italian Extra Virgin Olive Oil'),\n",
       " (0.12403299385514946, 'Seasoning Allspice'),\n",
       " (0.12030949290721116, 'Pure & Natural Sour Cream')]"
      ]
     },
     "execution_count": 212,
     "metadata": {},
     "output_type": "execute_result"
    }
   ],
   "source": [
    "sorted(prod_comp, key=itemgetter(0), reverse=True)[:10]"
   ]
  },
  {
   "cell_type": "code",
   "execution_count": 213,
   "metadata": {},
   "outputs": [
    {
     "data": {
      "text/plain": [
       "[(-0.19463029253144556, 'Organic Whole Milk'),\n",
       " (-0.17583337475332556, 'Organic Kiwi'),\n",
       " (-0.16985176483456876, 'Organic Baby Spinach'),\n",
       " (-0.15280492777382401, 'Organic All Day Fresh Deodorant Lavender'),\n",
       " (-0.11487803640994276, 'Parsley'),\n",
       " (-0.10459479601461162, 'Organic Lightly Salted Brown Rice Cakes'),\n",
       " (-0.099818240592249613, 'Organic Turkey Bacon'),\n",
       " (-0.091125085578571255, 'Bag of Organic Bananas'),\n",
       " (-0.083561381271361604, 'Banana'),\n",
       " (-0.082388739965689642, 'Unsalted Cultured Butter')]"
      ]
     },
     "execution_count": 213,
     "metadata": {},
     "output_type": "execute_result"
    }
   ],
   "source": [
    "sorted(prod_comp, key=itemgetter(0))[:10]"
   ]
  },
  {
   "cell_type": "markdown",
   "metadata": {},
   "source": [
    "We can draw a picture to see how various movies appear on the map of these components. This picture shows the 1st and 3rd components."
   ]
  },
  {
   "cell_type": "code",
   "execution_count": 75,
   "metadata": {
    "collapsed": true
   },
   "outputs": [],
   "source": [
    "# The following would be for Python 2 only\n",
    "# reload(sys)\n",
    "# sys.setdefaultencoding('utf8')"
   ]
  },
  {
   "cell_type": "code",
   "execution_count": 214,
   "metadata": {},
   "outputs": [
    {
     "data": {
      "image/png": "[encoded data removed]",
      "text/plain": [
       "<matplotlib.figure.Figure at 0x7eff1c03f470>"
      ]
     },
     "metadata": {},
     "output_type": "display_data"
    }
   ],
   "source": [
    "start=50; end=100\n",
    "X = fac0[start:end]\n",
    "Y = fac2[start:end]\n",
    "plt.figure(figsize=(15,15))\n",
    "plt.scatter(X, Y)\n",
    "for i, x, y in zip(topProds[start:end], X, Y):\n",
    "    plt.text(x,y,prod_names()[prods[i]], color=np.random.rand(3)*0.7, fontsize=14)\n",
    "plt.show()"
   ]
  },
  {
   "cell_type": "markdown",
   "metadata": {},
   "source": [
    "##  Neural net"
   ]
  },
  {
   "cell_type": "markdown",
   "metadata": {},
   "source": [
    "We now concatenate the user and product embeddings into a single vector, which we then feed into the neural net."
   ]
  },
  {
   "cell_type": "code",
   "execution_count": 34,
   "metadata": {
    "collapsed": true
   },
   "outputs": [],
   "source": [
    "def embedding_input(name, n_in, n_out, reg):\n",
    "    inp = Input(shape=(1,), dtype='int64', name=name)\n",
    "    return inp, Embedding(input_dim=n_in, output_dim=n_out, input_length=1, embeddings_regularizer=l2(reg))(inp)"
   ]
  },
  {
   "cell_type": "code",
   "execution_count": 35,
   "metadata": {
    "collapsed": true
   },
   "outputs": [],
   "source": [
    "user_in, u = embedding_input('user_in', n_users, n_factors, 1e-3)\n",
    "prod_in, p = embedding_input('movie_in', n_prods, n_factors, 1e-3)"
   ]
  },
  {
   "cell_type": "code",
   "execution_count": 36,
   "metadata": {
    "collapsed": true
   },
   "outputs": [],
   "source": [
    "x = concatenate([u, p], axis=2)\n",
    "x = Flatten()(x)\n",
    "x = Dropout(0.3)(x)\n",
    "x = Dense(70, activation='relu')(x)\n",
    "x = Dropout(0.75)(x)\n",
    "x = Dense(1)(x)\n",
    "nn = Model([user_in, prod_in], x)\n",
    "nn.compile(Adam(0.001), loss='mse', metrics=['accuracy'])"
   ]
  },
  {
   "cell_type": "code",
   "execution_count": 45,
   "metadata": {},
   "outputs": [
    {
     "name": "stdout",
     "output_type": "stream",
     "text": [
      "Train on 67000 samples, validate on 33000 samples\n",
      "Epoch 1/3\n",
      "67000/67000 [==============================] - 26s - loss: 0.8942 - acc: 0.0000e+00 - val_loss: 1.0235 - val_acc: 0.0000e+00\n",
      "Epoch 2/3\n",
      "67000/67000 [==============================] - 26s - loss: 0.8820 - acc: 0.0000e+00 - val_loss: 1.0359 - val_acc: 0.0000e+00\n",
      "Epoch 3/3\n",
      "67000/67000 [==============================] - 26s - loss: 0.8790 - acc: 0.0000e+00 - val_loss: 1.0446 - val_acc: 0.0000e+00\n"
     ]
    },
    {
     "data": {
      "text/plain": [
       "<keras.callbacks.History at 0x7f59e7fe5080>"
      ]
     },
     "execution_count": 45,
     "metadata": {},
     "output_type": "execute_result"
    }
   ],
   "source": [
    "nn.fit([prod_ratings.user_id, prod_ratings.product_id], prod_ratings.reordered, batch_size=64,\n",
    "       epochs=3, validation_split=0.33, verbose =1)"
   ]
  },
  {
   "cell_type": "code",
   "execution_count": 46,
   "metadata": {
    "collapsed": true
   },
   "outputs": [],
   "source": [
    "#nn.fit([trn.user_id, trn.product_id], trn.reordered, batch_size=64, epochs=3, \n",
    "#          validation_data=([val.user_id, val.product_id], val.reordered))"
   ]
  },
  {
   "cell_type": "code",
   "execution_count": 39,
   "metadata": {
    "collapsed": true
   },
   "outputs": [],
   "source": [
    "nn.optimizer.lr=0.01"
   ]
  },
  {
   "cell_type": "code",
   "execution_count": 47,
   "metadata": {},
   "outputs": [
    {
     "name": "stdout",
     "output_type": "stream",
     "text": [
      "Train on 67000 samples, validate on 33000 samples\n",
      "Epoch 1/6\n",
      "67000/67000 [==============================] - 27s - loss: 0.8725 - acc: 0.0000e+00 - val_loss: 1.0568 - val_acc: 0.0000e+00\n",
      "Epoch 2/6\n",
      "67000/67000 [==============================] - 27s - loss: 0.8784 - acc: 0.0000e+00 - val_loss: 1.0526 - val_acc: 0.0000e+00\n",
      "Epoch 3/6\n",
      "67000/67000 [==============================] - 27s - loss: 0.8675 - acc: 0.0000e+00 - val_loss: 1.0521 - val_acc: 0.0000e+00\n",
      "Epoch 4/6\n",
      "67000/67000 [==============================] - 26s - loss: 0.8763 - acc: 0.0000e+00 - val_loss: 1.0581 - val_acc: 0.0000e+00\n",
      "Epoch 5/6\n",
      "67000/67000 [==============================] - 26s - loss: 0.8622 - acc: 0.0000e+00 - val_loss: 1.0561 - val_acc: 0.0000e+00\n",
      "Epoch 6/6\n",
      "67000/67000 [==============================] - 26s - loss: 0.8698 - acc: 0.0000e+00 - val_loss: 1.0515 - val_acc: 0.0000e+00\n"
     ]
    },
    {
     "data": {
      "text/plain": [
       "<keras.callbacks.History at 0x7f59e7fe55c0>"
      ]
     },
     "execution_count": 47,
     "metadata": {},
     "output_type": "execute_result"
    }
   ],
   "source": [
    "nn.fit([prod_ratings.user_id, prod_ratings.product_id], prod_ratings.reordered, batch_size=64,\n",
    "       epochs=6, validation_split=0.33, verbose =1)"
   ]
  },
  {
   "cell_type": "code",
   "execution_count": 221,
   "metadata": {
    "collapsed": true
   },
   "outputs": [],
   "source": [
    "nn.optimizer.lr=0.01"
   ]
  },
  {
   "cell_type": "code",
   "execution_count": 48,
   "metadata": {},
   "outputs": [
    {
     "name": "stdout",
     "output_type": "stream",
     "text": [
      "Train on 67000 samples, validate on 33000 samples\n",
      "Epoch 1/5\n",
      "67000/67000 [==============================] - 26s - loss: 0.8672 - acc: 1.4925e-05 - val_loss: 1.0545 - val_acc: 0.0000e+00\n",
      "Epoch 2/5\n",
      "67000/67000 [==============================] - 26s - loss: 0.8778 - acc: 0.0000e+00 - val_loss: 1.0521 - val_acc: 0.0000e+00\n",
      "Epoch 3/5\n",
      "67000/67000 [==============================] - 26s - loss: 0.8563 - acc: 0.0000e+00 - val_loss: 1.0531 - val_acc: 0.0000e+00\n",
      "Epoch 4/5\n",
      "67000/67000 [==============================] - 27s - loss: 0.8703 - acc: 0.0000e+00 - val_loss: 1.0562 - val_acc: 0.0000e+00\n",
      "Epoch 5/5\n",
      "67000/67000 [==============================] - 27s - loss: 0.8734 - acc: 0.0000e+00 - val_loss: 1.0581 - val_acc: 0.0000e+00\n"
     ]
    },
    {
     "data": {
      "text/plain": [
       "<keras.callbacks.History at 0x7f59e7fe50f0>"
      ]
     },
     "execution_count": 48,
     "metadata": {},
     "output_type": "execute_result"
    }
   ],
   "source": [
    "nn.fit([prod_ratings.user_id, prod_ratings.product_id], prod_ratings.reordered, batch_size=64,\n",
    "       epochs=5, validation_split=0.33, verbose =1)"
   ]
  },
  {
   "cell_type": "code",
   "execution_count": 49,
   "metadata": {
    "collapsed": true
   },
   "outputs": [],
   "source": [
    "nn.optimizer.lr=0.001"
   ]
  },
  {
   "cell_type": "code",
   "execution_count": 50,
   "metadata": {},
   "outputs": [
    {
     "name": "stdout",
     "output_type": "stream",
     "text": [
      "Train on 67000 samples, validate on 33000 samples\n",
      "Epoch 1/10\n",
      "67000/67000 [==============================] - 27s - loss: 0.8613 - acc: 0.0000e+00 - val_loss: 1.0545 - val_acc: 0.0000e+00\n",
      "Epoch 2/10\n",
      "67000/67000 [==============================] - 27s - loss: 0.8685 - acc: 0.0000e+00 - val_loss: 1.0548 - val_acc: 0.0000e+00\n",
      "Epoch 3/10\n",
      "67000/67000 [==============================] - 26s - loss: 0.8648 - acc: 0.0000e+00 - val_loss: 1.0556 - val_acc: 0.0000e+00\n",
      "Epoch 4/10\n",
      "67000/67000 [==============================] - 26s - loss: 0.8591 - acc: 0.0000e+00 - val_loss: 1.0593 - val_acc: 0.0000e+00\n",
      "Epoch 5/10\n",
      "67000/67000 [==============================] - 26s - loss: 0.8714 - acc: 0.0000e+00 - val_loss: 1.0542 - val_acc: 0.0000e+00\n",
      "Epoch 6/10\n",
      "67000/67000 [==============================] - 26s - loss: 0.8596 - acc: 0.0000e+00 - val_loss: 1.0549 - val_acc: 0.0000e+00\n",
      "Epoch 7/10\n",
      "67000/67000 [==============================] - 26s - loss: 0.8561 - acc: 0.0000e+00 - val_loss: 1.0570 - val_acc: 0.0000e+00\n",
      "Epoch 8/10\n",
      "67000/67000 [==============================] - 26s - loss: 0.8693 - acc: 0.0000e+00 - val_loss: 1.0526 - val_acc: 0.0000e+00\n",
      "Epoch 9/10\n",
      "67000/67000 [==============================] - 26s - loss: 0.8698 - acc: 0.0000e+00 - val_loss: 1.0563 - val_acc: 0.0000e+00\n",
      "Epoch 10/10\n",
      "67000/67000 [==============================] - 27s - loss: 0.8614 - acc: 0.0000e+00 - val_loss: 1.0541 - val_acc: 0.0000e+00\n"
     ]
    },
    {
     "data": {
      "text/plain": [
       "<keras.callbacks.History at 0x7f59e7fed860>"
      ]
     },
     "execution_count": 50,
     "metadata": {},
     "output_type": "execute_result"
    }
   ],
   "source": [
    "nn.fit([prod_ratings.user_id, prod_ratings.product_id], prod_ratings.reordered, batch_size=64,\n",
    "       epochs=10, validation_split=0.33, verbose =1)"
   ]
  },
  {
   "cell_type": "code",
   "execution_count": 223,
   "metadata": {
    "collapsed": true
   },
   "outputs": [],
   "source": [
    "model.save_weights('models/nn.h5')"
   ]
  },
  {
   "cell_type": "code",
   "execution_count": 53,
   "metadata": {},
   "outputs": [
    {
     "data": {
      "text/plain": [
       "(array([[ 0.1351]], dtype=float32), array([[ 0.5515]], dtype=float32))"
      ]
     },
     "execution_count": 53,
     "metadata": {},
     "output_type": "execute_result"
    }
   ],
   "source": [
    "nn.predict([np.array([0]), np.array([15])]), nn.predict([np.array([0]), np.array([12])])"
   ]
  },
  {
   "cell_type": "markdown",
   "metadata": {},
   "source": [
    "Submit"
   ]
  },
  {
   "cell_type": "code",
   "execution_count": 47,
   "metadata": {
    "collapsed": true
   },
   "outputs": [],
   "source": [
    "test_index = test.sort_values('order_id', axis=0).index\n",
    "train_index = train.sort_values('order_id', axis=0).index"
   ]
  },
  {
   "cell_type": "code",
   "execution_count": 48,
   "metadata": {},
   "outputs": [
    {
     "ename": "NameError",
     "evalue": "name 'df' is not defined",
     "output_type": "error",
     "traceback": [
      "\u001b[0;31m---------------------------------------\u001b[0m",
      "\u001b[0;31mNameError\u001b[0mTraceback (most recent call last)",
      "\u001b[0;32m<ipython-input-48-7ed0097d7e9e>\u001b[0m in \u001b[0;36m<module>\u001b[0;34m()\u001b[0m\n\u001b[0;32m----> 1\u001b[0;31m \u001b[0mdf\u001b[0m\u001b[0;34m\u001b[0m\u001b[0m\n\u001b[0m",
      "\u001b[0;31mNameError\u001b[0m: name 'df' is not defined"
     ]
    }
   ],
   "source": [
    "df"
   ]
  },
  {
   "cell_type": "code",
   "execution_count": null,
   "metadata": {
    "collapsed": true
   },
   "outputs": [],
   "source": []
  }
 ],
 "metadata": {
  "kernelspec": {
   "display_name": "Python 3",
   "language": "python",
   "name": "python3"
  },
  "language_info": {
   "codemirror_mode": {
    "name": "ipython",
    "version": 3
   },
   "file_extension": ".py",
   "mimetype": "text/x-python",
   "name": "python",
   "nbconvert_exporter": "python",
   "pygments_lexer": "ipython3",
   "version": "3.6.1"
  },
  "toc": {
   "colors": {
    "hover_highlight": "#DAA520",
    "navigate_num": "#000000",
    "navigate_text": "#333333",
    "running_highlight": "#FF0000",
    "selected_highlight": "#FFD700",
    "sidebar_border": "#EEEEEE",
    "wrapper_background": "#FFFFFF"
   },
   "moveMenuLeft": true,
   "nav_menu": {
    "height": "105px",
    "width": "254px"
   },
   "navigate_menu": true,
   "number_sections": true,
   "sideBar": true,
   "threshold": 4,
   "toc_cell": false,
   "toc_section_display": "block",
   "toc_window_display": true,
   "widenNotebook": false
  }
 },
 "nbformat": 4,
 "nbformat_minor": 1
}
